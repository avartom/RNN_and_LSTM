{
  "nbformat": 4,
  "nbformat_minor": 0,
  "metadata": {
    "kernelspec": {
      "display_name": "py37  (Python3)",
      "language": "python",
      "name": "py37"
    },
    "language_info": {
      "codemirror_mode": {
        "name": "ipython",
        "version": 3
      },
      "file_extension": ".py",
      "mimetype": "text/x-python",
      "name": "python",
      "nbconvert_exporter": "python",
      "pygments_lexer": "ipython3",
      "version": "3.7.0"
    },
    "nteract": {
      "version": "0.23.3"
    },
    "colab": {
      "provenance": []
    }
  },
  "cells": [
    {
      "cell_type": "markdown",
      "metadata": {
        "id": "_nbsDADwcqLJ"
      },
      "source": [
        "\n",
        "## *Data Science Unit 4 Sprint 3 Assignment 1*\n",
        "\n",
        "# Recurrent Neural Networks and Long Short Term Memory (LSTM)\n",
        "\n",
        "![Monkey at a typewriter](https://upload.wikimedia.org/wikipedia/commons/thumb/3/3c/Chimpanzee_seated_at_typewriter.jpg/603px-Chimpanzee_seated_at_typewriter.jpg)\n",
        "\n",
        "The French mathematician Emile Borel once mused that [**infinite monkeys typing for an infinite amount of time**](https://en.wikipedia.org/wiki/Infinite_monkey_theorem) will eventually type the complete works of William Shakespeare. Let's see if we can get there a bit faster, with the power of **Recurrent Neural Networks and LSTMs**!\n",
        "\n",
        "Our goal in this projectis to build a **Shakespeare Sonnet Generator**.<br>\n",
        "Given a prompt of a few words as input, its task is to generate follow-on text that reads like a Shakespeare Sonnet!<br>\n",
        "\n",
        "To build our Sonnet Generator we will use a type of model called a **sequence model**. Given a short sequence, a sequence  model predicts the **most likely next item in the sequence**. Sequence models are astonishingly versatile and powerful, because the **sequence** we want to predict can be quite general! It can be composed of **words**, or of **characters**, or of **musical notes**, or of data points in a **time series** such as EKG voltages, or stock prices, or even a sequence of **DNA nucleotides**! \n",
        "\n",
        "We will train our model on the entire corpus of Shakespeare's Sonnets, and the model will learn from that data the most likely patterns of characters."
      ]
    },
    {
      "cell_type": "code",
      "metadata": {
        "execution": {
          "iopub.execute_input": "2020-06-15T18:18:20.453Z",
          "iopub.status.busy": "2020-06-15T18:18:20.442Z",
          "iopub.status.idle": "2020-06-15T18:18:20.513Z",
          "shell.execute_reply": "2020-06-15T18:18:20.523Z"
        },
        "id": "L-AX4IBIcqLK",
        "colab": {
          "base_uri": "https://localhost:8080/"
        },
        "outputId": "5788810e-d18c-4fa7-9966-d7e34c19a8e1"
      },
      "source": [
        "import random\n",
        "import sys\n",
        "import os\n",
        "\n",
        "import requests\n",
        "import pandas as pd\n",
        "import numpy as np\n",
        "import matplotlib.pyplot as plt\n",
        "from tensorflow.keras.callbacks import LambdaCallback\n",
        "\n",
        "from tensorflow.keras.preprocessing import sequence\n",
        "from tensorflow.keras.models import Sequential\n",
        "from tensorflow.keras.layers import Dense, Embedding, Bidirectional\n",
        "from tensorflow.keras.layers import LSTM\n",
        "\n",
        "%matplotlib inline\n",
        "\n",
        "# import a custom text data preparation class\n",
        "!wget https://raw.githubusercontent.com/LambdaSchool/DS-Unit-4-Sprint-3-Deep-Learning/main/module1-rnn-and-lstm/data_cleaning_toolkit_class.py\n",
        "from data_cleaning_toolkit_class import data_cleaning_toolkit"
      ],
      "execution_count": null,
      "outputs": [
        {
          "output_type": "stream",
          "name": "stdout",
          "text": [
            "--2023-01-05 02:23:52--  https://raw.githubusercontent.com/LambdaSchool/DS-Unit-4-Sprint-3-Deep-Learning/main/module1-rnn-and-lstm/data_cleaning_toolkit_class.py\n",
            "Resolving raw.githubusercontent.com (raw.githubusercontent.com)... 185.199.109.133, 185.199.110.133, 185.199.111.133, ...\n",
            "Connecting to raw.githubusercontent.com (raw.githubusercontent.com)|185.199.109.133|:443... connected.\n",
            "HTTP request sent, awaiting response... 200 OK\n",
            "Length: 6666 (6.5K) [text/plain]\n",
            "Saving to: ‘data_cleaning_toolkit_class.py’\n",
            "\n",
            "\r          data_clea   0%[                    ]       0  --.-KB/s               \rdata_cleaning_toolk 100%[===================>]   6.51K  --.-KB/s    in 0s      \n",
            "\n",
            "2023-01-05 02:23:52 (65.8 MB/s) - ‘data_cleaning_toolkit_class.py’ saved [6666/6666]\n",
            "\n"
          ]
        }
      ]
    },
    {
      "cell_type": "markdown",
      "metadata": {
        "id": "Db6enoAacqLL"
      },
      "source": [
        "### Use `request` to pull data from a URL\n",
        "\n",
        "[**Read through the request documentation**](https://requests.readthedocs.io/en/master/user/quickstart/#make-a-request) to learn how to download the Shakespeare Sonnets from the Gutenberg website. \n"
      ]
    },
    {
      "cell_type": "code",
      "metadata": {
        "deletable": false,
        "nbgrader": {
          "cell_type": "code",
          "checksum": "6ac79c2e9a53d747ebf8fb41f4b39340",
          "grade": false,
          "grade_id": "cell-b8ececfad1f60557",
          "locked": false,
          "schema_version": 3,
          "solution": true,
          "task": false
        },
        "id": "nMf2XrJbcqLM"
      },
      "source": [
        "# download all of Shakespeare's Sonnets from the Project Gutenberg website\n",
        "\n",
        "# here's the link for the sonnets\n",
        "url_shakespeare_sonnets = \"https://www.gutenberg.org/cache/epub/1041/pg1041.txt\"\n",
        "\n",
        "# use requests and the url to download all of the sonnets - save the result to `data`\n",
        "data = requests.get(url_shakespeare_sonnets)\n"
      ],
      "execution_count": null,
      "outputs": []
    },
    {
      "cell_type": "code",
      "source": [
        "dir(data)"
      ],
      "metadata": {
        "id": "TKf73-n3vuNU",
        "outputId": "86586103-32fb-472c-bdfa-7b6771b29adb",
        "colab": {
          "base_uri": "https://localhost:8080/"
        }
      },
      "execution_count": null,
      "outputs": [
        {
          "output_type": "execute_result",
          "data": {
            "text/plain": [
              "['__attrs__',\n",
              " '__bool__',\n",
              " '__class__',\n",
              " '__delattr__',\n",
              " '__dict__',\n",
              " '__dir__',\n",
              " '__doc__',\n",
              " '__enter__',\n",
              " '__eq__',\n",
              " '__exit__',\n",
              " '__format__',\n",
              " '__ge__',\n",
              " '__getattribute__',\n",
              " '__getstate__',\n",
              " '__gt__',\n",
              " '__hash__',\n",
              " '__init__',\n",
              " '__init_subclass__',\n",
              " '__iter__',\n",
              " '__le__',\n",
              " '__lt__',\n",
              " '__module__',\n",
              " '__ne__',\n",
              " '__new__',\n",
              " '__nonzero__',\n",
              " '__reduce__',\n",
              " '__reduce_ex__',\n",
              " '__repr__',\n",
              " '__setattr__',\n",
              " '__setstate__',\n",
              " '__sizeof__',\n",
              " '__str__',\n",
              " '__subclasshook__',\n",
              " '__weakref__',\n",
              " '_content',\n",
              " '_content_consumed',\n",
              " '_next',\n",
              " 'apparent_encoding',\n",
              " 'close',\n",
              " 'connection',\n",
              " 'content',\n",
              " 'cookies',\n",
              " 'elapsed',\n",
              " 'encoding',\n",
              " 'headers',\n",
              " 'history',\n",
              " 'is_permanent_redirect',\n",
              " 'is_redirect',\n",
              " 'iter_content',\n",
              " 'iter_lines',\n",
              " 'json',\n",
              " 'links',\n",
              " 'next',\n",
              " 'ok',\n",
              " 'raise_for_status',\n",
              " 'raw',\n",
              " 'reason',\n",
              " 'request',\n",
              " 'status_code',\n",
              " 'text',\n",
              " 'url']"
            ]
          },
          "metadata": {},
          "execution_count": 4
        }
      ]
    },
    {
      "cell_type": "code",
      "metadata": {
        "deletable": false,
        "nbgrader": {
          "cell_type": "code",
          "checksum": "4ab4f4f14188a9f3703d43d223bfa150",
          "grade": false,
          "grade_id": "cell-0cd0c8509bc8e8cf",
          "locked": false,
          "schema_version": 3,
          "solution": true,
          "task": false
        },
        "id": "dcXTQ5RTcqLM",
        "outputId": "2108ad6c-1077-4ba5-c288-d81d7fd664fb",
        "colab": {
          "base_uri": "https://localhost:8080/",
          "height": 126
        }
      },
      "source": [
        "# extract the downloaded text from the requests object and save it to `raw_text_data`\n",
        "# hint: take a look at the attributes of `data`\n",
        "# YOUR CODE HERE\n",
        "raw_text_data = data.text\n",
        "#raise NotImplementedError()\n",
        "raw_text_data"
      ],
      "execution_count": null,
      "outputs": [
        {
          "output_type": "execute_result",
          "data": {
            "text/plain": [
              "'\\ufeffThe Project Gutenberg eBook of The Sonnets, by William Shakespeare\\r\\n\\r\\nThis eBook is for the use of anyone anywhere in the United States and\\r\\nmost other parts of the world at no cost and with almost no restrictions\\r\\nwhatsoever. You may copy it, give it away or re-use it under the terms\\r\\nof the Project Gutenberg License included with this eBook or online at\\r\\nwww.gutenberg.org. If you are not located in the United States, you\\r\\nwill have to check the laws of the country where you are located before\\r\\nusing this eBook.\\r\\n\\r\\nTitle: The Sonnets\\r\\n\\r\\nAuthor: William Shakespeare\\r\\n\\r\\nRelease Date: September, 1997 [eBook #1041]\\r\\n[Most recently updated: December 3, 2022]\\r\\n\\r\\nLanguage: English\\r\\n\\r\\n\\r\\nProduced by:  the Project Gutenberg Shakespeare Team\\r\\n\\r\\n*** START OF THE PROJECT GUTENBERG EBOOK THE SONNETS ***\\r\\n\\r\\n\\r\\n\\r\\n\\r\\nTHE SONNETS\\r\\n\\r\\nby William Shakespeare\\r\\n\\r\\n\\r\\n\\r\\n\\r\\nI\\r\\n\\r\\nFrom fairest creatures we desire increase,\\r\\nThat thereby beauty’s rose might never die,\\r\\nBut as the riper should by time decease,\\r\\nHis tender heir might bear his memory:\\r\\nBut thou, contracted to thine own bright eyes,\\r\\nFeed’st thy light’s flame with self-substantial fuel,\\r\\nMaking a famine where abundance lies,\\r\\nThyself thy foe, to thy sweet self too cruel:\\r\\nThou that art now the world’s fresh ornament,\\r\\nAnd only herald to the gaudy spring,\\r\\nWithin thine own bud buriest thy content,\\r\\nAnd tender churl mak’st waste in niggarding:\\r\\n    Pity the world, or else this glutton be,\\r\\n    To eat the world’s due, by the grave and thee.\\r\\n\\r\\nII\\r\\n\\r\\nWhen forty winters shall besiege thy brow,\\r\\nAnd dig deep trenches in thy beauty’s field,\\r\\nThy youth’s proud livery so gazed on now,\\r\\nWill be a tatter’d weed of small worth held:\\r\\nThen being asked, where all thy beauty lies,\\r\\nWhere all the treasure of thy lusty days;\\r\\nTo say, within thine own deep sunken eyes,\\r\\nWere an all-eating shame, and thriftless praise.\\r\\nHow much more praise deserv’d thy beauty’s use,\\r\\nIf thou couldst answer ‘This fair child of mine\\r\\nShall sum my count, and make my old excuse,’\\r\\nProving his beauty by succession thine!\\r\\n    This were to be new made when thou art old,\\r\\n    And see thy blood warm when thou feel’st it cold.\\r\\n\\r\\nIII\\r\\n\\r\\nLook in thy glass and tell the face thou viewest\\r\\nNow is the time that face should form another;\\r\\nWhose fresh repair if now thou not renewest,\\r\\nThou dost beguile the world, unbless some mother.\\r\\nFor where is she so fair whose unear’d womb\\r\\nDisdains the tillage of thy husbandry?\\r\\nOr who is he so fond will be the tomb,\\r\\nOf his self-love to stop posterity?\\r\\nThou art thy mother’s glass and she in thee\\r\\nCalls back the lovely April of her prime;\\r\\nSo thou through windows of thine age shalt see,\\r\\nDespite of wrinkles this thy golden time.\\r\\n    But if thou live, remember’d not to be,\\r\\n    Die single and thine image dies with thee.\\r\\n\\r\\nIV\\r\\n\\r\\nUnthrifty loveliness, why dost thou spend\\r\\nUpon thyself thy beauty’s legacy?\\r\\nNature’s bequest gives nothing, but doth lend,\\r\\nAnd being frank she lends to those are free:\\r\\nThen, beauteous niggard, why dost thou abuse\\r\\nThe bounteous largess given thee to give?\\r\\nProfitless usurer, why dost thou use\\r\\nSo great a sum of sums, yet canst not live?\\r\\nFor having traffic with thyself alone,\\r\\nThou of thyself thy sweet self dost deceive:\\r\\nThen how when nature calls thee to be gone,\\r\\nWhat acceptable audit canst thou leave?\\r\\n    Thy unused beauty must be tombed with thee,\\r\\n    Which, used, lives th’ executor to be.\\r\\n\\r\\nV\\r\\n\\r\\nThose hours, that with gentle work did frame\\r\\nThe lovely gaze where every eye doth dwell,\\r\\nWill play the tyrants to the very same\\r\\nAnd that unfair which fairly doth excel;\\r\\nFor never-resting time leads summer on\\r\\nTo hideous winter, and confounds him there;\\r\\nSap checked with frost, and lusty leaves quite gone,\\r\\nBeauty o’er-snowed and bareness every where:\\r\\nThen were not summer’s distillation left,\\r\\nA liquid prisoner pent in walls of glass,\\r\\nBeauty’s effect with beauty were bereft,\\r\\nNor it, nor no remembrance what it was:\\r\\n    But flowers distill’d, though they with winter meet,\\r\\n    Leese but their show; their substance still lives sweet.\\r\\n\\r\\n\\r\\nVI\\r\\n\\r\\nThen let not winter’s ragged hand deface,\\r\\nIn thee thy summer, ere thou be distill’d:\\r\\nMake sweet some vial; treasure thou some place\\r\\nWith beauty’s treasure ere it be self-kill’d.\\r\\nThat use is not forbidden usury,\\r\\nWhich happies those that pay the willing loan;\\r\\nThat’s for thyself to breed another thee,\\r\\nOr ten times happier, be it ten for one;\\r\\nTen times thyself were happier than thou art,\\r\\nIf ten of thine ten times refigur’d thee:\\r\\nThen what could death do if thou shouldst depart,\\r\\nLeaving thee living in posterity?\\r\\n    Be not self-will’d, for thou art much too fair\\r\\n    To be death’s conquest and make worms thine heir.\\r\\n\\r\\nVII\\r\\n\\r\\nLo! in the orient when the gracious light\\r\\nLifts up his burning head, each under eye\\r\\nDoth homage to his new-appearing sight,\\r\\nServing with looks his sacred majesty;\\r\\nAnd having climb’d the steep-up heavenly hill,\\r\\nResembling strong youth in his middle age,\\r\\nYet mortal looks adore his beauty still,\\r\\nAttending on his golden pilgrimage:\\r\\nBut when from highmost pitch, with weary car,\\r\\nLike feeble age, he reeleth from the day,\\r\\nThe eyes, ’fore duteous, now converted are\\r\\nFrom his low tract, and look another way:\\r\\n    So thou, thyself outgoing in thy noon:\\r\\n    Unlook’d, on diest unless thou get a son.\\r\\n\\r\\nVIII\\r\\n\\r\\nMusic to hear, why hear’st thou music sadly?\\r\\nSweets with sweets war not, joy delights in joy:\\r\\nWhy lov’st thou that which thou receiv’st not gladly,\\r\\nOr else receiv’st with pleasure thine annoy?\\r\\nIf the true concord of well-tuned sounds,\\r\\nBy unions married, do offend thine ear,\\r\\nThey do but sweetly chide thee, who confounds\\r\\nIn singleness the parts that thou shouldst bear.\\r\\nMark how one string, sweet husband to another,\\r\\nStrikes each in each by mutual ordering;\\r\\nResembling sire and child and happy mother,\\r\\nWho, all in one, one pleasing note do sing:\\r\\n    Whose speechless song being many, seeming one,\\r\\n    Sings this to thee: ‘Thou single wilt prove none.’\\r\\n\\r\\nIX\\r\\n\\r\\nIs it for fear to wet a widow’s eye,\\r\\nThat thou consum’st thyself in single life?\\r\\nAh! if thou issueless shalt hap to die,\\r\\nThe world will wail thee like a makeless wife;\\r\\nThe world will be thy widow and still weep\\r\\nThat thou no form of thee hast left behind,\\r\\nWhen every private widow well may keep\\r\\nBy children’s eyes, her husband’s shape in mind:\\r\\nLook! what an unthrift in the world doth spend\\r\\nShifts but his place, for still the world enjoys it;\\r\\nBut beauty’s waste hath in the world an end,\\r\\nAnd kept unused the user so destroys it.\\r\\n    No love toward others in that bosom sits\\r\\n    That on himself such murd’rous shame commits.\\r\\n\\r\\nX\\r\\n\\r\\nFor shame! deny that thou bear’st love to any,\\r\\nWho for thyself art so unprovident.\\r\\nGrant, if thou wilt, thou art belov’d of many,\\r\\nBut that thou none lov’st is most evident:\\r\\nFor thou art so possess’d with murderous hate,\\r\\nThat ’gainst thyself thou stick’st not to conspire,\\r\\nSeeking that beauteous roof to ruinate\\r\\nWhich to repair should be thy chief desire.\\r\\nO! change thy thought, that I may change my mind:\\r\\nShall hate be fairer lodg’d than gentle love?\\r\\nBe, as thy presence is, gracious and kind,\\r\\nOr to thyself at least kind-hearted prove:\\r\\n    Make thee another self for love of me,\\r\\n    That beauty still may live in thine or thee.\\r\\n\\r\\nXI\\r\\n\\r\\nAs fast as thou shalt wane, so fast thou grow’st,\\r\\nIn one of thine, from that which thou departest;\\r\\nAnd that fresh blood which youngly thou bestow’st,\\r\\nThou mayst call thine when thou from youth convertest,\\r\\nHerein lives wisdom, beauty, and increase;\\r\\nWithout this folly, age, and cold decay:\\r\\nIf all were minded so, the times should cease\\r\\nAnd threescore year would make the world away.\\r\\nLet those whom nature hath not made for store,\\r\\nHarsh, featureless, and rude, barrenly perish:\\r\\nLook, whom she best endow’d, she gave thee more;\\r\\nWhich bounteous gift thou shouldst in bounty cherish:\\r\\n    She carv’d thee for her seal, and meant thereby,\\r\\n    Thou shouldst print more, not let that copy die.\\r\\n\\r\\nXII\\r\\n\\r\\nWhen I do count the clock that tells the time,\\r\\nAnd see the brave day sunk in hideous night;\\r\\nWhen I behold the violet past prime,\\r\\nAnd sable curls, all silvered o’er with white;\\r\\nWhen lofty trees I see barren of leaves,\\r\\nWhich erst from heat did canopy the herd,\\r\\nAnd summer’s green all girded up in sheaves,\\r\\nBorne on the bier with white and bristly beard,\\r\\nThen of thy beauty do I question make,\\r\\nThat thou among the wastes of time must go,\\r\\nSince sweets and beauties do themselves forsake\\r\\nAnd die as fast as they see others grow;\\r\\n    And nothing ’gainst Time’s scythe can make defence\\r\\n    Save breed, to brave him when he takes thee hence.\\r\\n\\r\\nXIII\\r\\n\\r\\nO! that you were your self; but, love you are\\r\\nNo longer yours, than you yourself here live:\\r\\nAgainst this coming end you should prepare,\\r\\nAnd your sweet semblance to some other give:\\r\\nSo should that beauty which you hold in lease\\r\\nFind no determination; then you were\\r\\nYourself again, after yourself’s decease,\\r\\nWhen your sweet issue your sweet form should bear.\\r\\nWho lets so fair a house fall to decay,\\r\\nWhich husbandry in honour might uphold,\\r\\nAgainst the stormy gusts of winter’s day\\r\\nAnd barren rage of death’s eternal cold?\\r\\n    O! none but unthrifts. Dear my love, you know,\\r\\n    You had a father: let your son say so.\\r\\n\\r\\nXIV\\r\\n\\r\\nNot from the stars do I my judgement pluck;\\r\\nAnd yet methinks I have astronomy,\\r\\nBut not to tell of good or evil luck,\\r\\nOf plagues, of dearths, or seasons’ quality;\\r\\nNor can I fortune to brief minutes tell,\\r\\nPointing to each his thunder, rain and wind,\\r\\nOr say with princes if it shall go well\\r\\nBy oft predict that I in heaven find:\\r\\nBut from thine eyes my knowledge I derive,\\r\\nAnd constant stars in them I read such art\\r\\nAs ‘Truth and beauty shall together thrive,\\r\\nIf from thyself, to store thou wouldst convert’;\\r\\n    Or else of thee this I prognosticate:\\r\\n    ‘Thy end is truth’s and beauty’s doom and date.’\\r\\n\\r\\nXV\\r\\n\\r\\nWhen I consider everything that grows\\r\\nHolds in perfection but a little moment,\\r\\nThat this huge stage presenteth nought but shows\\r\\nWhereon the stars in secret influence comment;\\r\\nWhen I perceive that men as plants increase,\\r\\nCheered and checked even by the self-same sky,\\r\\nVaunt in their youthful sap, at height decrease,\\r\\nAnd wear their brave state out of memory;\\r\\nThen the conceit of this inconstant stay\\r\\nSets you most rich in youth before my sight,\\r\\nWhere wasteful Time debateth with Decay\\r\\nTo change your day of youth to sullied night,\\r\\n    And all in war with Time for love of you,\\r\\n    As he takes from you, I engraft you new.\\r\\n\\r\\nXVI\\r\\n\\r\\nBut wherefore do not you a mightier way\\r\\nMake war upon this bloody tyrant, Time?\\r\\nAnd fortify yourself in your decay\\r\\nWith means more blessed than my barren rhyme?\\r\\nNow stand you on the top of happy hours,\\r\\nAnd many maiden gardens, yet unset,\\r\\nWith virtuous wish would bear you living flowers,\\r\\nMuch liker than your painted counterfeit:\\r\\nSo should the lines of life that life repair,\\r\\nWhich this, Time’s pencil, or my pupil pen,\\r\\nNeither in inward worth nor outward fair,\\r\\nCan make you live yourself in eyes of men.\\r\\n    To give away yourself, keeps yourself still,\\r\\n    And you must live, drawn by your own sweet skill.\\r\\n\\r\\nXVII\\r\\n\\r\\nWho will believe my verse in time to come,\\r\\nIf it were fill’d with your most high deserts?\\r\\nThough yet heaven knows it is but as a tomb\\r\\nWhich hides your life, and shows not half your parts.\\r\\nIf I could write the beauty of your eyes,\\r\\nAnd in fresh numbers number all your graces,\\r\\nThe age to come would say ‘This poet lies;\\r\\nSuch heavenly touches ne’er touch’d earthly faces.’\\r\\nSo should my papers, yellow’d with their age,\\r\\nBe scorn’d, like old men of less truth than tongue,\\r\\nAnd your true rights be term’d a poet’s rage\\r\\nAnd stretched metre of an antique song:\\r\\n    But were some child of yours alive that time,\\r\\n    You should live twice,—in it, and in my rhyme.\\r\\n\\r\\nXVIII\\r\\n\\r\\nShall I compare thee to a summer’s day?\\r\\nThou art more lovely and more temperate:\\r\\nRough winds do shake the darling buds of May,\\r\\nAnd summer’s lease hath all too short a date:\\r\\nSometime too hot the eye of heaven shines,\\r\\nAnd often is his gold complexion dimm’d,\\r\\nAnd every fair from fair sometime declines,\\r\\nBy chance, or nature’s changing course untrimm’d:\\r\\nBut thy eternal summer shall not fade,\\r\\nNor lose possession of that fair thou ow’st,\\r\\nNor shall death brag thou wander’st in his shade,\\r\\nWhen in eternal lines to time thou grow’st,\\r\\n    So long as men can breathe, or eyes can see,\\r\\n    So long lives this, and this gives life to thee.\\r\\n\\r\\nXIX\\r\\n\\r\\nDevouring Time, blunt thou the lion’s paws,\\r\\nAnd make the earth devour her own sweet brood;\\r\\nPluck the keen teeth from the fierce tiger’s jaws,\\r\\nAnd burn the long-liv’d phoenix, in her blood;\\r\\nMake glad and sorry seasons as thou fleets,\\r\\nAnd do whate’er thou wilt, swift-footed Time,\\r\\nTo the wide world and all her fading sweets;\\r\\nBut I forbid thee one most heinous crime:\\r\\nO! carve not with thy hours my love’s fair brow,\\r\\nNor draw no lines there with thine antique pen;\\r\\nHim in thy course untainted do allow\\r\\nFor beauty’s pattern to succeeding men.\\r\\n    Yet do thy worst, old Time; despite thy wrong,\\r\\n    My love shall in my verse ever live young.\\r\\n\\r\\nXX\\r\\n\\r\\nA woman’s face with nature’s own hand painted,\\r\\nHast thou, the master mistress of my passion;\\r\\nA woman’s gentle heart, but not acquainted\\r\\nWith shifting change, as is false women’s fashion:\\r\\nAn eye more bright than theirs, less false in rolling,\\r\\nGilding the object whereupon it gazeth;\\r\\nA man in hue all ‘hues’ in his controlling,\\r\\nWhich steals men’s eyes and women’s souls amazeth.\\r\\nAnd for a woman wert thou first created;\\r\\nTill Nature, as she wrought thee, fell a-doting,\\r\\nAnd by addition me of thee defeated,\\r\\nBy adding one thing to my purpose nothing.\\r\\n    But since she prick’d thee out for women’s pleasure,\\r\\n    Mine be thy love and thy love’s use their treasure.\\r\\n\\r\\nXXI\\r\\n\\r\\nSo is it not with me as with that Muse,\\r\\nStirr’d by a painted beauty to his verse,\\r\\nWho heaven itself for ornament doth use\\r\\nAnd every fair with his fair doth rehearse,\\r\\nMaking a couplement of proud compare.\\r\\nWith sun and moon, with earth and sea’s rich gems,\\r\\nWith April’s first-born flowers, and all things rare,\\r\\nThat heaven’s air in this huge rondure hems.\\r\\nO! let me, true in love, but truly write,\\r\\nAnd then believe me, my love is as fair\\r\\nAs any mother’s child, though not so bright\\r\\nAs those gold candles fix’d in heaven’s air:\\r\\n    Let them say more that like of hearsay well;\\r\\n    I will not praise that purpose not to sell.\\r\\n\\r\\nXXII\\r\\n\\r\\nMy glass shall not persuade me I am old,\\r\\nSo long as youth and thou are of one date;\\r\\nBut when in thee time’s furrows I behold,\\r\\nThen look I death my days should expiate.\\r\\nFor all that beauty that doth cover thee,\\r\\nIs but the seemly raiment of my heart,\\r\\nWhich in thy breast doth live, as thine in me:\\r\\nHow can I then be elder than thou art?\\r\\nO! therefore love, be of thyself so wary\\r\\nAs I, not for myself, but for thee will;\\r\\nBearing thy heart, which I will keep so chary\\r\\nAs tender nurse her babe from faring ill.\\r\\n    Presume not on thy heart when mine is slain,\\r\\n    Thou gav’st me thine not to give back again.\\r\\n\\r\\nXXIII\\r\\n\\r\\nAs an unperfect actor on the stage,\\r\\nWho with his fear is put beside his part,\\r\\nOr some fierce thing replete with too much rage,\\r\\nWhose strength’s abundance weakens his own heart;\\r\\nSo I, for fear of trust, forget to say\\r\\nThe perfect ceremony of love’s rite,\\r\\nAnd in mine own love’s strength seem to decay,\\r\\nO’ercharg’d with burthen of mine own love’s might.\\r\\nO! let my looks be then the eloquence\\r\\nAnd dumb presagers of my speaking breast,\\r\\nWho plead for love, and look for recompense,\\r\\nMore than that tongue that more hath more express’d.\\r\\n    O! learn to read what silent love hath writ:\\r\\n    To hear with eyes belongs to love’s fine wit.\\r\\n\\r\\nXXIV\\r\\n\\r\\nMine eye hath play’d the painter and hath stell’d,\\r\\nThy beauty’s form in table of my heart;\\r\\nMy body is the frame wherein ’tis held,\\r\\nAnd perspective it is best painter’s art.\\r\\nFor through the painter must you see his skill,\\r\\nTo find where your true image pictur’d lies,\\r\\nWhich in my bosom’s shop is hanging still,\\r\\nThat hath his windows glazed with thine eyes.\\r\\nNow see what good turns eyes for eyes have done:\\r\\nMine eyes have drawn thy shape, and thine for me\\r\\nAre windows to my breast, where-through the sun\\r\\nDelights to peep, to gaze therein on thee;\\r\\n    Yet eyes this cunning want to grace their art,\\r\\n    They draw but what they see, know not the heart.\\r\\n\\r\\nXXV\\r\\n\\r\\nLet those who are in favour with their stars\\r\\nOf public honour and proud titles boast,\\r\\nWhilst I, whom fortune of such triumph bars\\r\\nUnlook’d for joy in that I honour most.\\r\\nGreat princes’ favourites their fair leaves spread\\r\\nBut as the marigold at the sun’s eye,\\r\\nAnd in themselves their pride lies buried,\\r\\nFor at a frown they in their glory die.\\r\\nThe painful warrior famoused for fight,\\r\\nAfter a thousand victories once foil’d,\\r\\nIs from the book of honour razed quite,\\r\\nAnd all the rest forgot for which he toil’d:\\r\\n    Then happy I, that love and am belov’d,\\r\\n    Where I may not remove nor be remov’d.\\r\\n\\r\\nXXVI\\r\\n\\r\\nLord of my love, to whom in vassalage\\r\\nThy merit hath my duty strongly knit,\\r\\nTo thee I send this written embassage,\\r\\nTo witness duty, not to show my wit:\\r\\nDuty so great, which wit so poor as mine\\r\\nMay make seem bare, in wanting words to show it,\\r\\nBut that I hope some good conceit of thine\\r\\nIn thy soul’s thought, all naked, will bestow it:\\r\\nTill whatsoever star that guides my moving,\\r\\nPoints on me graciously with fair aspect,\\r\\nAnd puts apparel on my tatter’d loving,\\r\\nTo show me worthy of thy sweet respect:\\r\\n    Then may I dare to boast how I do love thee;\\r\\n    Till then, not show my head where thou mayst prove me.\\r\\n\\r\\nXXVII\\r\\n\\r\\nWeary with toil, I haste me to my bed,\\r\\nThe dear respose for limbs with travel tir’d;\\r\\nBut then begins a journey in my head\\r\\nTo work my mind, when body’s work’s expired:\\r\\nFor then my thoughts, from far where I abide,\\r\\nIntend a zealous pilgrimage to thee,\\r\\nAnd keep my drooping eyelids open wide,\\r\\nLooking on darkness which the blind do see:\\r\\nSave that my soul’s imaginary sight\\r\\nPresents thy shadow to my sightless view,\\r\\nWhich, like a jewel hung in ghastly night,\\r\\nMakes black night beauteous, and her old face new.\\r\\n    Lo! thus, by day my limbs, by night my mind,\\r\\n    For thee, and for myself, no quiet find.\\r\\n\\r\\nXXVIII\\r\\n\\r\\nHow can I then return in happy plight,\\r\\nThat am debarre’d the benefit of rest?\\r\\nWhen day’s oppression is not eas’d by night,\\r\\nBut day by night and night by day oppress’d,\\r\\nAnd each, though enemies to either’s reign,\\r\\nDo in consent shake hands to torture me,\\r\\nThe one by toil, the other to complain\\r\\nHow far I toil, still farther off from thee.\\r\\nI tell the day, to please him thou art bright,\\r\\nAnd dost him grace when clouds do blot the heaven:\\r\\nSo flatter I the swart-complexion’d night,\\r\\nWhen sparkling stars twire not thou gild’st the even.\\r\\n    But day doth daily draw my sorrows longer,\\r\\n    And night doth nightly make grief’s length seem stronger.\\r\\n\\r\\nXXIX\\r\\n\\r\\nWhen in disgrace with fortune and men’s eyes\\r\\nI all alone beweep my outcast state,\\r\\nAnd trouble deaf heaven with my bootless cries,\\r\\nAnd look upon myself, and curse my fate,\\r\\nWishing me like to one more rich in hope,\\r\\nFeatur’d like him, like him with friends possess’d,\\r\\nDesiring this man’s art, and that man’s scope,\\r\\nWith what I most enjoy contented least;\\r\\nYet in these thoughts my self almost despising,\\r\\nHaply I think on thee, and then my state,\\r\\nLike to the lark at break of day arising\\r\\nFrom sullen earth, sings hymns at heaven’s gate;\\r\\n    For thy sweet love remember’d such wealth brings\\r\\n    That then I scorn to change my state with kings.\\r\\n\\r\\nXXX\\r\\n\\r\\nWhen to the sessions of sweet silent thought\\r\\nI summon up remembrance of things past,\\r\\nI sigh the lack of many a thing I sought,\\r\\nAnd with old woes new wail my dear time’s waste:\\r\\nThen can I drown an eye, unused to flow,\\r\\nFor precious friends hid in death’s dateless night,\\r\\nAnd weep afresh love’s long since cancell’d woe,\\r\\nAnd moan the expense of many a vanish’d sight:\\r\\nThen can I grieve at grievances foregone,\\r\\nAnd heavily from woe to woe tell o’er\\r\\nThe sad account of fore-bemoaned moan,\\r\\nWhich I new pay as if not paid before.\\r\\n    But if the while I think on thee, dear friend,\\r\\n    All losses are restor’d and sorrows end.\\r\\n\\r\\nXXXI\\r\\n\\r\\nThy bosom is endeared with all hearts,\\r\\nWhich I by lacking have supposed dead;\\r\\nAnd there reigns Love, and all Love’s loving parts,\\r\\nAnd all those friends which I thought buried.\\r\\nHow many a holy and obsequious tear\\r\\nHath dear religious love stol’n from mine eye,\\r\\nAs interest of the dead, which now appear\\r\\nBut things remov’d that hidden in thee lie!\\r\\nThou art the grave where buried love doth live,\\r\\nHung with the trophies of my lovers gone,\\r\\nWho all their parts of me to thee did give,\\r\\nThat due of many now is thine alone:\\r\\n    Their images I lov’d, I view in thee,\\r\\n    And thou, all they, hast all the all of me.\\r\\n\\r\\nXXXII\\r\\n\\r\\nIf thou survive my well-contented day,\\r\\nWhen that churl Death my bones with dust shall cover\\r\\nAnd shalt by fortune once more re-survey\\r\\nThese poor rude lines of thy deceased lover,\\r\\nCompare them with the bett’ring of the time,\\r\\nAnd though they be outstripp’d by every pen,\\r\\nReserve them for my love, not for their rhyme,\\r\\nExceeded by the height of happier men.\\r\\nO! then vouchsafe me but this loving thought:\\r\\n‘Had my friend’s Muse grown with this growing age,\\r\\nA dearer birth than this his love had brought,\\r\\nTo march in ranks of better equipage:\\r\\n    But since he died and poets better prove,\\r\\n    Theirs for their style I’ll read, his for his love’.\\r\\n\\r\\nXXXIII\\r\\n\\r\\nFull many a glorious morning have I seen\\r\\nFlatter the mountain tops with sovereign eye,\\r\\nKissing with golden face the meadows green,\\r\\nGilding pale streams with heavenly alchemy;\\r\\nAnon permit the basest clouds to ride\\r\\nWith ugly rack on his celestial face,\\r\\nAnd from the forlorn world his visage hide,\\r\\nStealing unseen to west with this disgrace:\\r\\nEven so my sun one early morn did shine,\\r\\nWith all triumphant splendour on my brow;\\r\\nBut out! alack! he was but one hour mine,\\r\\nThe region cloud hath mask’d him from me now.\\r\\n    Yet him for this my love no whit disdaineth;\\r\\n    Suns of the world may stain when heaven’s sun staineth.\\r\\n\\r\\nXXXIV\\r\\n\\r\\nWhy didst thou promise such a beauteous day,\\r\\nAnd make me travel forth without my cloak,\\r\\nTo let base clouds o’ertake me in my way,\\r\\nHiding thy bravery in their rotten smoke?\\r\\n’Tis not enough that through the cloud thou break,\\r\\nTo dry the rain on my storm-beaten face,\\r\\nFor no man well of such a salve can speak,\\r\\nThat heals the wound, and cures not the disgrace:\\r\\nNor can thy shame give physic to my grief;\\r\\nThough thou repent, yet I have still the loss:\\r\\nThe offender’s sorrow lends but weak relief\\r\\nTo him that bears the strong offence’s cross.\\r\\n    Ah! but those tears are pearl which thy love sheds,\\r\\n    And they are rich and ransom all ill deeds.\\r\\n\\r\\nXXXV\\r\\n\\r\\nNo more be griev’d at that which thou hast done:\\r\\nRoses have thorns, and silver fountains mud:\\r\\nClouds and eclipses stain both moon and sun,\\r\\nAnd loathsome canker lives in sweetest bud.\\r\\nAll men make faults, and even I in this,\\r\\nAuthorizing thy trespass with compare,\\r\\nMyself corrupting, salving thy amiss,\\r\\nExcusing thy sins more than thy sins are;\\r\\nFor to thy sensual fault I bring in sense;\\r\\nThy adverse party is thy advocate,\\r\\nAnd ’gainst myself a lawful plea commence:\\r\\nSuch civil war is in my love and hate,\\r\\n    That I an accessary needs must be,\\r\\n    To that sweet thief which sourly robs from me.\\r\\n\\r\\nXXXVI\\r\\n\\r\\nLet me confess that we two must be twain,\\r\\nAlthough our undivided loves are one:\\r\\nSo shall those blots that do with me remain,\\r\\nWithout thy help, by me be borne alone.\\r\\nIn our two loves there is but one respect,\\r\\nThough in our lives a separable spite,\\r\\nWhich though it alter not love’s sole effect,\\r\\nYet doth it steal sweet hours from love’s delight.\\r\\nI may not evermore acknowledge thee,\\r\\nLest my bewailed guilt should do thee shame,\\r\\nNor thou with public kindness honour me,\\r\\nUnless thou take that honour from thy name:\\r\\n    But do not so, I love thee in such sort,\\r\\n    As thou being mine, mine is thy good report.\\r\\n\\r\\nXXXVII\\r\\n\\r\\nAs a decrepit father takes delight\\r\\nTo see his active child do deeds of youth,\\r\\nSo I, made lame by Fortune’s dearest spite,\\r\\nTake all my comfort of thy worth and truth;\\r\\nFor whether beauty, birth, or wealth, or wit,\\r\\nOr any of these all, or all, or more,\\r\\nEntitled in thy parts, do crowned sit,\\r\\nI make my love engrafted, to this store:\\r\\nSo then I am not lame, poor, nor despis’d,\\r\\nWhilst that this shadow doth such substance give\\r\\nThat I in thy abundance am suffic’d,\\r\\nAnd by a part of all thy glory live.\\r\\n    Look what is best, that best I wish in thee:\\r\\n    This wish I have; then ten times happy me!\\r\\n\\r\\nXXXVIII\\r\\n\\r\\nHow can my muse want subject to invent,\\r\\nWhile thou dost breathe, that pour’st into my verse\\r\\nThine own sweet argument, too excellent\\r\\nFor every vulgar paper to rehearse?\\r\\nO! give thyself the thanks, if aught in me\\r\\nWorthy perusal stand against thy sight;\\r\\nFor who’s so dumb that cannot write to thee,\\r\\nWhen thou thyself dost give invention light?\\r\\nBe thou the tenth Muse, ten times more in worth\\r\\nThan those old nine which rhymers invocate;\\r\\nAnd he that calls on thee, let him bring forth\\r\\nEternal numbers to outlive long date.\\r\\n    If my slight muse do please these curious days,\\r\\n    The pain be mine, but thine shall be the praise.\\r\\n\\r\\nXXXIX\\r\\n\\r\\nO! how thy worth with manners may I sing,\\r\\nWhen thou art all the better part of me?\\r\\nWhat can mine own praise to mine own self bring?\\r\\nAnd what is’t but mine own when I praise thee?\\r\\nEven for this, let us divided live,\\r\\nAnd our dear love lose name of single one,\\r\\nThat by this separation I may give\\r\\nThat due to thee which thou deserv’st alone.\\r\\nO absence! what a torment wouldst thou prove,\\r\\nWere it not thy sour leisure gave sweet leave,\\r\\nTo entertain the time with thoughts of love,\\r\\nWhich time and thoughts so sweetly doth deceive,\\r\\n    And that thou teachest how to make one twain,\\r\\n    By praising him here who doth hence remain.\\r\\n\\r\\nXL\\r\\n\\r\\nTake all my loves, my love, yea take them all;\\r\\nWhat hast thou then more than thou hadst before?\\r\\nNo love, my love, that thou mayst true love call;\\r\\nAll mine was thine, before thou hadst this more.\\r\\nThen, if for my love, thou my love receivest,\\r\\nI cannot blame thee, for my love thou usest;\\r\\nBut yet be blam’d, if thou thyself deceivest\\r\\nBy wilful taste of what thyself refusest.\\r\\nI do forgive thy robbery, gentle thief,\\r\\nAlthough thou steal thee all my poverty:\\r\\nAnd yet, love knows it is a greater grief\\r\\nTo bear love’s wrong, than hate’s known injury.\\r\\n    Lascivious grace, in whom all ill well shows,\\r\\n    Kill me with spites yet we must not be foes.\\r\\n\\r\\nXLI\\r\\n\\r\\nThose pretty wrongs that liberty commits,\\r\\nWhen I am sometime absent from thy heart,\\r\\nThy beauty, and thy years full well befits,\\r\\nFor still temptation follows where thou art.\\r\\nGentle thou art, and therefore to be won,\\r\\nBeauteous thou art, therefore to be assail’d;\\r\\nAnd when a woman woos, what woman’s son\\r\\nWill sourly leave her till he have prevail’d?\\r\\nAy me! but yet thou mightst my seat forbear,\\r\\nAnd chide thy beauty and thy straying youth,\\r\\nWho lead thee in their riot even there\\r\\nWhere thou art forced to break a twofold truth:\\r\\n    Hers by thy beauty tempting her to thee,\\r\\n    Thine by thy beauty being false to me.\\r\\n\\r\\nXLII\\r\\n\\r\\nThat thou hast her it is not all my grief,\\r\\nAnd yet it may be said I loved her dearly;\\r\\nThat she hath thee is of my wailing chief,\\r\\nA loss in love that touches me more nearly.\\r\\nLoving offenders thus I will excuse ye:\\r\\nThou dost love her, because thou know’st I love her;\\r\\nAnd for my sake even so doth she abuse me,\\r\\nSuffering my friend for my sake to approve her.\\r\\nIf I lose thee, my loss is my love’s gain,\\r\\nAnd losing her, my friend hath found that loss;\\r\\nBoth find each other, and I lose both twain,\\r\\nAnd both for my sake lay on me this cross:\\r\\n    But here’s the joy; my friend and I are one;\\r\\n    Sweet flattery! then she loves but me alone.\\r\\n\\r\\nXLIII\\r\\n\\r\\nWhen most I wink, then do mine eyes best see,\\r\\nFor all the day they view things unrespected;\\r\\nBut when I sleep, in dreams they look on thee,\\r\\nAnd darkly bright, are bright in dark directed.\\r\\nThen thou, whose shadow shadows doth make bright,\\r\\nHow would thy shadow’s form form happy show\\r\\nTo the clear day with thy much clearer light,\\r\\nWhen to unseeing eyes thy shade shines so!\\r\\nHow would, I say, mine eyes be blessed made\\r\\nBy looking on thee in the living day,\\r\\nWhen in dead night thy fair imperfect shade\\r\\nThrough heavy sleep on sightless eyes doth stay!\\r\\n    All days are nights to see till I see thee,\\r\\n    And nights bright days when dreams do show thee me.\\r\\n\\r\\nXLIV\\r\\n\\r\\nIf the dull substance of my flesh were thought,\\r\\nInjurious distance should not stop my way;\\r\\nFor then despite of space I would be brought,\\r\\nFrom limits far remote, where thou dost stay.\\r\\nNo matter then although my foot did stand\\r\\nUpon the farthest earth remov’d from thee;\\r\\nFor nimble thought can jump both sea and land,\\r\\nAs soon as think the place where he would be.\\r\\nBut, ah! thought kills me that I am not thought,\\r\\nTo leap large lengths of miles when thou art gone,\\r\\nBut that so much of earth and water wrought,\\r\\nI must attend time’s leisure with my moan;\\r\\n    Receiving nought by elements so slow\\r\\n    But heavy tears, badges of either’s woe.\\r\\n\\r\\nXLV\\r\\n\\r\\nThe other two, slight air, and purging fire\\r\\nAre both with thee, wherever I abide;\\r\\nThe first my thought, the other my desire,\\r\\nThese present-absent with swift motion slide.\\r\\nFor when these quicker elements are gone\\r\\nIn tender embassy of love to thee,\\r\\nMy life, being made of four, with two alone\\r\\nSinks down to death, oppress’d with melancholy;\\r\\nUntil life’s composition be recur’d\\r\\nBy those swift messengers return’d from thee,\\r\\nWho even but now come back again, assur’d,\\r\\nOf thy fair health, recounting it to me:\\r\\n    This told, I joy; but then no longer glad,\\r\\n    I send them back again, and straight grow sad.\\r\\n\\r\\nXLVI\\r\\n\\r\\nMine eye and heart are at a mortal war,\\r\\nHow to divide the conquest of thy sight;\\r\\nMine eye my heart thy picture’s sight would bar,\\r\\nMy heart mine eye the freedom of that right.\\r\\nMy heart doth plead that thou in him dost lie,\\r\\nA closet never pierced with crystal eyes;\\r\\nBut the defendant doth that plea deny,\\r\\nAnd says in him thy fair appearance lies.\\r\\nTo side this title is impannelled\\r\\nA quest of thoughts, all tenants to the heart;\\r\\nAnd by their verdict is determined\\r\\nThe clear eye’s moiety, and the dear heart’s part:\\r\\n    As thus; mine eye’s due is thy outward part,\\r\\n    And my heart’s right, thy inward love of heart.\\r\\n\\r\\nXLVII\\r\\n\\r\\nBetwixt mine eye and heart a league is took,\\r\\nAnd each doth good turns now unto the other:\\r\\nWhen that mine eye is famish’d for a look,\\r\\nOr heart in love with sighs himself doth smother,\\r\\nWith my love’s picture then my eye doth feast,\\r\\nAnd to the painted banquet bids my heart;\\r\\nAnother time mine eye is my heart’s guest,\\r\\nAnd in his thoughts of love doth share a part:\\r\\nSo, either by thy picture or my love,\\r\\nThyself away, art present still with me;\\r\\nFor thou not farther than my thoughts canst move,\\r\\nAnd I am still with them, and they with thee;\\r\\n    Or, if they sleep, thy picture in my sight\\r\\n    Awakes my heart, to heart’s and eye’s delight.\\r\\n\\r\\nXLVIII\\r\\n\\r\\nHow careful was I when I took my way,\\r\\nEach trifle under truest bars to thrust,\\r\\nThat to my use it might unused stay\\r\\nFrom hands of falsehood, in sure wards of trust!\\r\\nBut thou, to whom my jewels trifles are,\\r\\nMost worthy comfort, now my greatest grief,\\r\\nThou best of dearest, and mine only care,\\r\\nArt left the prey of every vulgar thief.\\r\\nThee have I not lock’d up in any chest,\\r\\nSave where thou art not, though I feel thou art,\\r\\nWithin the gentle closure of my breast,\\r\\nFrom whence at pleasure thou mayst come and part;\\r\\n    And even thence thou wilt be stol’n I fear,\\r\\n    For truth proves thievish for a prize so dear.\\r\\n\\r\\nXLIX\\r\\n\\r\\nAgainst that time, if ever that time come,\\r\\nWhen I shall see thee frown on my defects,\\r\\nWhen as thy love hath cast his utmost sum,\\r\\nCall’d to that audit by advis’d respects;\\r\\nAgainst that time when thou shalt strangely pass,\\r\\nAnd scarcely greet me with that sun, thine eye,\\r\\nWhen love, converted from the thing it was,\\r\\nShall reasons find of settled gravity;\\r\\nAgainst that time do I ensconce me here,\\r\\nWithin the knowledge of mine own desert,\\r\\nAnd this my hand, against my self uprear,\\r\\nTo guard the lawful reasons on thy part:\\r\\n    To leave poor me thou hast the strength of laws,\\r\\n    Since why to love I can allege no cause.\\r\\n\\r\\nL\\r\\n\\r\\nHow heavy do I journey on the way,\\r\\nWhen what I seek, my weary travel’s end,\\r\\nDoth teach that ease and that repose to say,\\r\\n‘Thus far the miles are measured from thy friend!’\\r\\nThe beast that bears me, tired with my woe,\\r\\nPlods dully on, to bear that weight in me,\\r\\nAs if by some instinct the wretch did know\\r\\nHis rider lov’d not speed, being made from thee:\\r\\nThe bloody spur cannot provoke him on,\\r\\nThat sometimes anger thrusts into his hide,\\r\\nWhich heavily he answers with a groan,\\r\\nMore sharp to me than spurring to his side;\\r\\n    For that same groan doth put this in my mind,\\r\\n    My grief lies onward, and my joy behind.\\r\\n\\r\\nLI\\r\\n\\r\\nThus can my love excuse the slow offence\\r\\nOf my dull bearer when from thee I speed:\\r\\nFrom where thou art why should I haste me thence?\\r\\nTill I return, of posting is no need.\\r\\nO! what excuse will my poor beast then find,\\r\\nWhen swift extremity can seem but slow?\\r\\nThen should I spur, though mounted on the wind,\\r\\nIn winged speed no motion shall I know,\\r\\nThen can no horse with my desire keep pace;\\r\\nTherefore desire, of perfect’st love being made,\\r\\nShall neigh no dull flesh in his fiery race,\\r\\nBut love, for love, thus shall excuse my jade:\\r\\n    ‘Since from thee going, he went wilful-slow,\\r\\n    Towards thee I’ll run, and give him leave to go.’\\r\\n\\r\\nLII\\r\\n\\r\\nSo am I as the rich, whose blessed key,\\r\\nCan bring him to his sweet up-locked treasure,\\r\\nThe which he will not every hour survey,\\r\\nFor blunting the fine point of seldom pleasure.\\r\\nTherefore are feasts so solemn and so rare,\\r\\nSince, seldom coming in that long year set,\\r\\nLike stones of worth they thinly placed are,\\r\\nOr captain jewels in the carcanet.\\r\\nSo is the time that keeps you as my chest,\\r\\nOr as the wardrobe which the robe doth hide,\\r\\nTo make some special instant special-blest,\\r\\nBy new unfolding his imprison’d pride.\\r\\n    Blessed are you whose worthiness gives scope,\\r\\n    Being had, to triumph; being lacked, to hope.\\r\\n\\r\\nLIII\\r\\n\\r\\nWhat is your substance, whereof are you made,\\r\\nThat millions of strange shadows on you tend?\\r\\nSince every one, hath every one, one shade,\\r\\nAnd you but one, can every shadow lend.\\r\\nDescribe Adonis, and the counterfeit\\r\\nIs poorly imitated after you;\\r\\nOn Helen’s cheek all art of beauty set,\\r\\nAnd you in Grecian tires are painted new:\\r\\nSpeak of the spring, and foison of the year,\\r\\nThe one doth shadow of your beauty show,\\r\\nThe other as your bounty doth appear;\\r\\nAnd you in every blessed shape we know.\\r\\n    In all external grace you have some part,\\r\\n    But you like none, none you, for constant heart.\\r\\n\\r\\nLIV\\r\\n\\r\\nO! how much more doth beauty beauteous seem\\r\\nBy that sweet ornament which truth doth give.\\r\\nThe rose looks fair, but fairer we it deem\\r\\nFor that sweet odour, which doth in it live.\\r\\nThe canker blooms have full as deep a dye\\r\\nAs the perfumed tincture of the roses.\\r\\nHang on such thorns, and play as wantonly\\r\\nWhen summer’s breath their masked buds discloses:\\r\\nBut, for their virtue only is their show,\\r\\nThey live unwoo’d, and unrespected fade;\\r\\nDie to themselves. Sweet roses do not so;\\r\\nOf their sweet deaths, are sweetest odours made:\\r\\n    And so of you, beauteous and lovely youth,\\r\\n    When that shall vade, by verse distills your truth.\\r\\n\\r\\nLV\\r\\n\\r\\nNot marble, nor the gilded monuments\\r\\nOf princes, shall outlive this powerful rhyme;\\r\\nBut you shall shine more bright in these contents\\r\\nThan unswept stone, besmear’d with sluttish time.\\r\\nWhen wasteful war shall statues overturn,\\r\\nAnd broils root out the work of masonry,\\r\\nNor Mars his sword, nor war’s quick fire shall burn\\r\\nThe living record of your memory.\\r\\n’Gainst death, and all-oblivious enmity\\r\\nShall you pace forth; your praise shall still find room\\r\\nEven in the eyes of all posterity\\r\\nThat wear this world out to the ending doom.\\r\\n    So, till the judgment that yourself arise,\\r\\n    You live in this, and dwell in lovers’ eyes.\\r\\n\\r\\nLVI\\r\\n\\r\\nSweet love, renew thy force; be it not said\\r\\nThy edge should blunter be than appetite,\\r\\nWhich but to-day by feeding is allay’d,\\r\\nTo-morrow sharpened in his former might:\\r\\nSo, love, be thou, although to-day thou fill\\r\\nThy hungry eyes, even till they wink with fulness,\\r\\nTo-morrow see again, and do not kill\\r\\nThe spirit of love, with a perpetual dulness.\\r\\nLet this sad interim like the ocean be\\r\\nWhich parts the shore, where two contracted new\\r\\nCome daily to the banks, that when they see\\r\\nReturn of love, more blest may be the view;\\r\\n    Or call it winter, which being full of care,\\r\\n    Makes summer’s welcome, thrice more wished, more rare.\\r\\n\\r\\nLVII\\r\\n\\r\\nBeing your slave what should I do but tend,\\r\\nUpon the hours, and times of your desire?\\r\\nI have no precious time at all to spend;\\r\\nNor services to do, till you require.\\r\\nNor dare I chide the world-without-end hour,\\r\\nWhilst I, my sovereign, watch the clock for you,\\r\\nNor think the bitterness of absence sour,\\r\\nWhen you have bid your servant once adieu;\\r\\nNor dare I question with my jealous thought\\r\\nWhere you may be, or your affairs suppose,\\r\\nBut, like a sad slave, stay and think of nought\\r\\nSave, where you are, how happy you make those.\\r\\n    So true a fool is love, that in your will,\\r\\n    Though you do anything, he thinks no ill.\\r\\n\\r\\nLVIII\\r\\n\\r\\nThat god forbid, that made me first your slave,\\r\\nI should in thought control your times of pleasure,\\r\\nOr at your hand the account of hours to crave,\\r\\nBeing your vassal, bound to stay your leisure!\\r\\nO! let me suffer, being at your beck,\\r\\nThe imprison’d absence of your liberty;\\r\\nAnd patience, tame to sufferance, bide each check,\\r\\nWithout accusing you of injury.\\r\\nBe where you list, your charter is so strong\\r\\nThat you yourself may privilage your time\\r\\nTo what you will; to you it doth belong\\r\\nYourself to pardon of self-doing crime.\\r\\n    I am to wait, though waiting so be hell,\\r\\n    Not blame your pleasure be it ill or well.\\r\\n\\r\\nLIX\\r\\n\\r\\nIf there be nothing new, but that which is\\r\\nHath been before, how are our brains beguil’d,\\r\\nWhich labouring for invention bear amiss\\r\\nThe second burthen of a former child!\\r\\nO! that record could with a backward look,\\r\\nEven of five hundred courses of the sun,\\r\\nShow me your image in some antique book,\\r\\nSince mind at first in character was done!\\r\\nThat I might see what the old world could say\\r\\nTo this composed wonder of your frame;\\r\\nWh’r we are mended, or wh’r better they,\\r\\nOr whether revolution be the same.\\r\\n    O! sure I am the wits of former days,\\r\\n    To subjects worse have given admiring praise.\\r\\n\\r\\nLX\\r\\n\\r\\nLike as the waves make towards the pebbled shore,\\r\\nSo do our minutes hasten to their end;\\r\\nEach changing place with that which goes before,\\r\\nIn sequent toil all forwards do contend.\\r\\nNativity, once in the main of light,\\r\\nCrawls to maturity, wherewith being crown’d,\\r\\nCrooked eclipses ’gainst his glory fight,\\r\\nAnd Time that gave doth now his gift confound.\\r\\nTime doth transfix the flourish set on youth\\r\\nAnd delves the parallels in beauty’s brow,\\r\\nFeeds on the rarities of nature’s truth,\\r\\nAnd nothing stands but for his scythe to mow:\\r\\n    And yet to times in hope, my verse shall stand.\\r\\n    Praising thy worth, despite his cruel hand.\\r\\n\\r\\nLXI\\r\\n\\r\\nIs it thy will, thy image should keep open\\r\\nMy heavy eyelids to the weary night?\\r\\nDost thou desire my slumbers should be broken,\\r\\nWhile shadows like to thee do mock my sight?\\r\\nIs it thy spirit that thou send’st from thee\\r\\nSo far from home into my deeds to pry,\\r\\nTo find out shames and idle hours in me,\\r\\nThe scope and tenure of thy jealousy?\\r\\nO, no! thy love, though much, is not so great:\\r\\nIt is my love that keeps mine eye awake:\\r\\nMine own true love that doth my rest defeat,\\r\\nTo play the watchman ever for thy sake:\\r\\n    For thee watch I, whilst thou dost wake elsewhere,\\r\\n    From me far off, with others all too near.\\r\\n\\r\\nLXII\\r\\n\\r\\nSin of self-love possesseth all mine eye\\r\\nAnd all my soul, and all my every part;\\r\\nAnd for this sin there is no remedy,\\r\\nIt is so grounded inward in my heart.\\r\\nMethinks no face so gracious is as mine,\\r\\nNo shape so true, no truth of such account;\\r\\nAnd for myself mine own worth do define,\\r\\nAs I all other in all worths surmount.\\r\\nBut when my glass shows me myself indeed\\r\\nBeated and chopp’d with tanned antiquity,\\r\\nMine own self-love quite contrary I read;\\r\\nSelf so self-loving were iniquity.\\r\\n    ’Tis thee, myself, that for myself I praise,\\r\\n    Painting my age with beauty of thy days.\\r\\n\\r\\nLXIII\\r\\n\\r\\nAgainst my love shall be as I am now,\\r\\nWith Time’s injurious hand crush’d and o’erworn;\\r\\nWhen hours have drain’d his blood and fill’d his brow\\r\\nWith lines and wrinkles; when his youthful morn\\r\\nHath travell’d on to age’s steepy night;\\r\\nAnd all those beauties whereof now he’s king\\r\\nAre vanishing, or vanished out of sight,\\r\\nStealing away the treasure of his spring;\\r\\nFor such a time do I now fortify\\r\\nAgainst confounding age’s cruel knife,\\r\\nThat he shall never cut from memory\\r\\nMy sweet love’s beauty, though my lover’s life:\\r\\n    His beauty shall in these black lines be seen,\\r\\n    And they shall live, and he in them still green.\\r\\n\\r\\nLXIV\\r\\n\\r\\nWhen I have seen by Time’s fell hand defac’d\\r\\nThe rich-proud cost of outworn buried age;\\r\\nWhen sometime lofty towers I see down-raz’d,\\r\\nAnd brass eternal slave to mortal rage;\\r\\nWhen I have seen the hungry ocean gain\\r\\nAdvantage on the kingdom of the shore,\\r\\nAnd the firm soil win of the watery main,\\r\\nIncreasing store with loss, and loss with store;\\r\\nWhen I have seen such interchange of state,\\r\\nOr state itself confounded, to decay;\\r\\nRuin hath taught me thus to ruminate:\\r\\nThat Time will come and take my love away.\\r\\n    This thought is as a death which cannot choose\\r\\n    But weep to have, that which it fears to lose.\\r\\n\\r\\nLXV\\r\\n\\r\\nSince brass, nor stone, nor earth, nor boundless sea,\\r\\nBut sad mortality o’ersways their power,\\r\\nHow with this rage shall beauty hold a plea,\\r\\nWhose action is no stronger than a flower?\\r\\nO! how shall summer’s honey breath hold out,\\r\\nAgainst the wrackful siege of battering days,\\r\\nWhen rocks impregnable are not so stout,\\r\\nNor gates of steel so strong but Time decays?\\r\\nO fearful meditation! where, alack,\\r\\nShall Time’s best jewel from Time’s chest lie hid?\\r\\nOr what strong hand can hold his swift foot back?\\r\\nOr who his spoil of beauty can forbid?\\r\\n    O! none, unless this miracle have might,\\r\\n    That in black ink my love may still shine bright.\\r\\n\\r\\nLXVI\\r\\n\\r\\nTired with all these, for restful death I cry:\\r\\nAs to behold desert a beggar born,\\r\\nAnd needy nothing trimm’d in jollity,\\r\\nAnd purest faith unhappily forsworn,\\r\\nAnd gilded honour shamefully misplac’d,\\r\\nAnd maiden virtue rudely strumpeted,\\r\\nAnd right perfection wrongfully disgrac’d,\\r\\nAnd strength by limping sway disabled\\r\\nAnd art made tongue-tied by authority,\\r\\nAnd folly, doctor-like, controlling skill,\\r\\nAnd simple truth miscall’d simplicity,\\r\\nAnd captive good attending captain ill:\\r\\n    Tir’d with all these, from these would I be gone,\\r\\n    Save that, to die, I leave my love alone.\\r\\n\\r\\nLXVII\\r\\n\\r\\nAh! wherefore with infection should he live,\\r\\nAnd with his presence grace impiety,\\r\\nThat sin by him advantage should achieve,\\r\\nAnd lace itself with his society?\\r\\nWhy should false painting imitate his cheek,\\r\\nAnd steel dead seeming of his living hue?\\r\\nWhy should poor beauty indirectly seek\\r\\nRoses of shadow, since his rose is true?\\r\\nWhy should he live, now Nature bankrupt is,\\r\\nBeggar’d of blood to blush through lively veins?\\r\\nFor she hath no exchequer now but his,\\r\\nAnd proud of many, lives upon his gains.\\r\\n    O! him she stores, to show what wealth she had\\r\\n    In days long since, before these last so bad.\\r\\n\\r\\nLXVIII\\r\\n\\r\\nThus is his cheek the map of days outworn,\\r\\nWhen beauty lived and died as flowers do now,\\r\\nBefore these bastard signs of fair were born,\\r\\nOr durst inhabit on a living brow;\\r\\nBefore the golden tresses of the dead,\\r\\nThe right of sepulchres, were shorn away,\\r\\nTo live a second life on second head;\\r\\nEre beauty’s dead fleece made another gay:\\r\\nIn him those holy antique hours are seen,\\r\\nWithout all ornament, itself and true,\\r\\nMaking no summer of another’s green,\\r\\nRobbing no old to dress his beauty new;\\r\\n    And him as for a map doth Nature store,\\r\\n    To show false Art what beauty was of yore.\\r\\n\\r\\nLXIX\\r\\n\\r\\nThose parts of thee that the world’s eye doth view\\r\\nWant nothing that the thought of hearts can mend;\\r\\nAll tongues, the voice of souls, give thee that due,\\r\\nUttering bare truth, even so as foes commend.\\r\\nThy outward thus with outward praise is crown’d;\\r\\nBut those same tongues, that give thee so thine own,\\r\\nIn other accents do this praise confound\\r\\nBy seeing farther than the eye hath shown.\\r\\nThey look into the beauty of thy mind,\\r\\nAnd that in guess they measure by thy deeds;\\r\\nThen churls their thoughts, although their eyes were kind,\\r\\nTo thy fair flower add the rank smell of weeds:\\r\\n    But why thy odour matcheth not thy show,\\r\\n    The soil is this, that thou dost common grow.\\r\\n\\r\\nLXX\\r\\n\\r\\nThat thou art blam’d shall not be thy defect,\\r\\nFor slander’s mark was ever yet the fair;\\r\\nThe ornament of beauty is suspect,\\r\\nA crow that flies in heaven’s sweetest air.\\r\\nSo thou be good, slander doth but approve\\r\\nThy worth the greater being woo’d of time;\\r\\nFor canker vice the sweetest buds doth love,\\r\\nAnd thou present’st a pure unstained prime.\\r\\nThou hast passed by the ambush of young days\\r\\nEither not assail’d, or victor being charg’d;\\r\\nYet this thy praise cannot be so thy praise,\\r\\nTo tie up envy, evermore enlarg’d,\\r\\n    If some suspect of ill mask’d not thy show,\\r\\n    Then thou alone kingdoms of hearts shouldst owe.\\r\\n\\r\\nLXXI\\r\\n\\r\\nNo longer mourn for me when I am dead\\r\\nThan you shall hear the surly sullen bell\\r\\nGive warning to the world that I am fled\\r\\nFrom this vile world with vilest worms to dwell:\\r\\nNay, if you read this line, remember not\\r\\nThe hand that writ it, for I love you so,\\r\\nThat I in your sweet thoughts would be forgot,\\r\\nIf thinking on me then should make you woe.\\r\\nO if, I say, you look upon this verse,\\r\\nWhen I perhaps compounded am with clay,\\r\\nDo not so much as my poor name rehearse;\\r\\nBut let your love even with my life decay;\\r\\n    Lest the wise world should look into your moan,\\r\\n    And mock you with me after I am gone.\\r\\n\\r\\nLXXII\\r\\n\\r\\nO! lest the world should task you to recite\\r\\nWhat merit lived in me, that you should love\\r\\nAfter my death, dear love, forget me quite,\\r\\nFor you in me can nothing worthy prove;\\r\\nUnless you would devise some virtuous lie,\\r\\nTo do more for me than mine own desert,\\r\\nAnd hang more praise upon deceased I\\r\\nThan niggard truth would willingly impart:\\r\\nO! lest your true love may seem false in this\\r\\nThat you for love speak well of me untrue,\\r\\nMy name be buried where my body is,\\r\\nAnd live no more to shame nor me nor you.\\r\\n    For I am shamed by that which I bring forth,\\r\\n    And so should you, to love things nothing worth.\\r\\n\\r\\nLXXIII\\r\\n\\r\\nThat time of year thou mayst in me behold\\r\\nWhen yellow leaves, or none, or few, do hang\\r\\nUpon those boughs which shake against the cold,\\r\\nBare ruin’d choirs, where late the sweet birds sang.\\r\\nIn me thou see’st the twilight of such day\\r\\nAs after sunset fadeth in the west;\\r\\nWhich by and by black night doth take away,\\r\\nDeath’s second self, that seals up all in rest.\\r\\nIn me thou see’st the glowing of such fire,\\r\\nThat on the ashes of his youth doth lie,\\r\\nAs the death-bed, whereon it must expire,\\r\\nConsum’d with that which it was nourish’d by.\\r\\n    This thou perceiv’st, which makes thy love more strong,\\r\\n    To love that well, which thou must leave ere long.\\r\\n\\r\\nLXXIV\\r\\n\\r\\nBut be contented: when that fell arrest\\r\\nWithout all bail shall carry me away,\\r\\nMy life hath in this line some interest,\\r\\nWhich for memorial still with thee shall stay.\\r\\nWhen thou reviewest this, thou dost review\\r\\nThe very part was consecrate to thee:\\r\\nThe earth can have but earth, which is his due;\\r\\nMy spirit is thine, the better part of me:\\r\\nSo then thou hast but lost the dregs of life,\\r\\nThe prey of worms, my body being dead;\\r\\nThe coward conquest of a wretch’s knife,\\r\\nToo base of thee to be remembered.\\r\\n    The worth of that is that which it contains,\\r\\n    And that is this, and this with thee remains.\\r\\n\\r\\nLXXV\\r\\n\\r\\nSo are you to my thoughts as food to life,\\r\\nOr as sweet-season’d showers are to the ground;\\r\\nAnd for the peace of you I hold such strife\\r\\nAs ’twixt a miser and his wealth is found.\\r\\nNow proud as an enjoyer, and anon\\r\\nDoubting the filching age will steal his treasure;\\r\\nNow counting best to be with you alone,\\r\\nThen better’d that the world may see my pleasure:\\r\\nSometime all full with feasting on your sight,\\r\\nAnd by and by clean starved for a look;\\r\\nPossessing or pursuing no delight,\\r\\nSave what is had, or must from you be took.\\r\\n    Thus do I pine and surfeit day by day,\\r\\n    Or gluttoning on all, or all away.\\r\\n\\r\\nLXXVI\\r\\n\\r\\nWhy is my verse so barren of new pride,\\r\\nSo far from variation or quick change?\\r\\nWhy with the time do I not glance aside\\r\\nTo new-found methods, and to compounds strange?\\r\\nWhy write I still all one, ever the same,\\r\\nAnd keep invention in a noted weed,\\r\\nThat every word doth almost tell my name,\\r\\nShowing their birth, and where they did proceed?\\r\\nO! know sweet love I always write of you,\\r\\nAnd you and love are still my argument;\\r\\nSo all my best is dressing old words new,\\r\\nSpending again what is already spent:\\r\\n    For as the sun is daily new and old,\\r\\n    So is my love still telling what is told.\\r\\n\\r\\nLXXVII\\r\\n\\r\\nThy glass will show thee how thy beauties wear,\\r\\nThy dial how thy precious minutes waste;\\r\\nThese vacant leaves thy mind’s imprint will bear,\\r\\nAnd of this book, this learning mayst thou taste.\\r\\nThe wrinkles which thy glass will truly show\\r\\nOf mouthed graves will give thee memory;\\r\\nThou by thy dial’s shady stealth mayst know\\r\\nTime’s thievish progress to eternity.\\r\\nLook! what thy memory cannot contain,\\r\\nCommit to these waste blanks, and thou shalt find\\r\\nThose children nursed, deliver’d from thy brain,\\r\\nTo take a new acquaintance of thy mind.\\r\\n    These offices, so oft as thou wilt look,\\r\\n    Shall profit thee and much enrich thy book.\\r\\n\\r\\nLXXVIII\\r\\n\\r\\nSo oft have I invoked thee for my Muse,\\r\\nAnd found such fair assistance in my verse\\r\\nAs every alien pen hath got my use\\r\\nAnd under thee their poesy disperse.\\r\\nThine eyes, that taught the dumb on high to sing\\r\\nAnd heavy ignorance aloft to fly,\\r\\nHave added feathers to the learned’s wing\\r\\nAnd given grace a double majesty.\\r\\nYet be most proud of that which I compile,\\r\\nWhose influence is thine, and born of thee:\\r\\nIn others’ works thou dost but mend the style,\\r\\nAnd arts with thy sweet graces graced be;\\r\\n    But thou art all my art, and dost advance\\r\\n    As high as learning, my rude ignorance.\\r\\n\\r\\nLXXIX\\r\\n\\r\\nWhilst I alone did call upon thy aid,\\r\\nMy verse alone had all thy gentle grace;\\r\\nBut now my gracious numbers are decay’d,\\r\\nAnd my sick Muse doth give an other place.\\r\\nI grant, sweet love, thy lovely argument\\r\\nDeserves the travail of a worthier pen;\\r\\nYet what of thee thy poet doth invent\\r\\nHe robs thee of, and pays it thee again.\\r\\nHe lends thee virtue, and he stole that word\\r\\nFrom thy behaviour; beauty doth he give,\\r\\nAnd found it in thy cheek: he can afford\\r\\nNo praise to thee, but what in thee doth live.\\r\\n    Then thank him not for that which he doth say,\\r\\n    Since what he owes thee, thou thyself dost pay.\\r\\n\\r\\nLXXX\\r\\n\\r\\nO! how I faint when I of you do write,\\r\\nKnowing a better spirit doth use your name,\\r\\nAnd in the praise thereof spends all his might,\\r\\nTo make me tongue-tied speaking of your fame!\\r\\nBut since your wort, wide as the ocean is,\\r\\nThe humble as the proudest sail doth bear,\\r\\nMy saucy bark, inferior far to his,\\r\\nOn your broad main doth wilfully appear.\\r\\nYour shallowest help will hold me up afloat,\\r\\nWhilst he upon your soundless deep doth ride;\\r\\nOr, being wrack’d, I am a worthless boat,\\r\\nHe of tall building, and of goodly pride:\\r\\n    Then if he thrive and I be cast away,\\r\\n    The worst was this: my love was my decay.\\r\\n\\r\\nLXXXI\\r\\n\\r\\nOr I shall live your epitaph to make,\\r\\nOr you survive when I in earth am rotten;\\r\\nFrom hence your memory death cannot take,\\r\\nAlthough in me each part will be forgotten.\\r\\nYour name from hence immortal life shall have,\\r\\nThough I, once gone, to all the world must die:\\r\\nThe earth can yield me but a common grave,\\r\\nWhen you entombed in men’s eyes shall lie.\\r\\nYour monument shall be my gentle verse,\\r\\nWhich eyes not yet created shall o’er-read;\\r\\nAnd tongues to be, your being shall rehearse,\\r\\nWhen all the breathers of this world are dead;\\r\\n    You still shall live, such virtue hath my pen,\\r\\n    Where breath most breathes, even in the mouths of men.\\r\\n\\r\\nLXXXII\\r\\n\\r\\nI grant thou wert not married to my Muse,\\r\\nAnd therefore mayst without attaint o’erlook\\r\\nThe dedicated words which writers use\\r\\nOf their fair subject, blessing every book.\\r\\nThou art as fair in knowledge as in hue,\\r\\nFinding thy worth a limit past my praise;\\r\\nAnd therefore art enforced to seek anew\\r\\nSome fresher stamp of the time-bettering days.\\r\\nAnd do so, love; yet when they have devis’d,\\r\\nWhat strained touches rhetoric can lend,\\r\\nThou truly fair, wert truly sympathiz’d\\r\\nIn true plain words, by thy true-telling friend;\\r\\n    And their gross painting might be better us’d\\r\\n    Where cheeks need blood; in thee it is abus’d.\\r\\n\\r\\nLXXXIII\\r\\n\\r\\nI never saw that you did painting need,\\r\\nAnd therefore to your fair no painting set;\\r\\nI found, or thought I found, you did exceed\\r\\nThat barren tender of a poet’s debt:\\r\\nAnd therefore have I slept in your report,\\r\\nThat you yourself, being extant, well might show\\r\\nHow far a modern quill doth come too short,\\r\\nSpeaking of worth, what worth in you doth grow.\\r\\nThis silence for my sin you did impute,\\r\\nWhich shall be most my glory being dumb;\\r\\nFor I impair not beauty being mute,\\r\\nWhen others would give life, and bring a tomb.\\r\\n    There lives more life in one of your fair eyes\\r\\n    Than both your poets can in praise devise.\\r\\n\\r\\nLXXXIV\\r\\n\\r\\nWho is it that says most, which can say more,\\r\\nThan this rich praise: that you alone are you,\\r\\nIn whose confine immured is the store\\r\\nWhich should example where your equal grew.\\r\\nLean penury within that pen doth dwell\\r\\nThat to his subject lends not some small glory;\\r\\nBut he that writes of you, if he can tell\\r\\nThat you are you, so dignifies his story,\\r\\nLet him but copy what in you is writ,\\r\\nNot making worse what nature made so clear,\\r\\nAnd such a counterpart shall fame his wit,\\r\\nMaking his style admired every where.\\r\\n    You to your beauteous blessings add a curse,\\r\\n    Being fond on praise, which makes your praises worse.\\r\\n\\r\\nLXXXV\\r\\n\\r\\nMy tongue-tied Muse in manners holds her still,\\r\\nWhile comments of your praise richly compil’d,\\r\\nReserve their character with golden quill,\\r\\nAnd precious phrase by all the Muses fil’d.\\r\\nI think good thoughts, whilst others write good words,\\r\\nAnd like unlettered clerk still cry ‘Amen’\\r\\nTo every hymn that able spirit affords,\\r\\nIn polish’d form of well-refined pen.\\r\\nHearing you praised, I say ‘’tis so, ’tis true,’\\r\\nAnd to the most of praise add something more;\\r\\nBut that is in my thought, whose love to you,\\r\\nThough words come hindmost, holds his rank before.\\r\\n    Then others, for the breath of words respect,\\r\\n    Me for my dumb thoughts, speaking in effect.\\r\\n\\r\\nLXXXVI\\r\\n\\r\\nWas it the proud full sail of his great verse,\\r\\nBound for the prize of all too precious you,\\r\\nThat did my ripe thoughts in my brain inhearse,\\r\\nMaking their tomb the womb wherein they grew?\\r\\nWas it his spirit, by spirits taught to write,\\r\\nAbove a mortal pitch, that struck me dead?\\r\\nNo, neither he, nor his compeers by night\\r\\nGiving him aid, my verse astonished.\\r\\nHe, nor that affable familiar ghost\\r\\nWhich nightly gulls him with intelligence,\\r\\nAs victors of my silence cannot boast;\\r\\nI was not sick of any fear from thence:\\r\\n    But when your countenance fill’d up his line,\\r\\n    Then lacked I matter; that enfeebled mine.\\r\\n\\r\\nLXXXVII\\r\\n\\r\\nFarewell! thou art too dear for my possessing,\\r\\nAnd like enough thou know’st thy estimate,\\r\\nThe charter of thy worth gives thee releasing;\\r\\nMy bonds in thee are all determinate.\\r\\nFor how do I hold thee but by thy granting?\\r\\nAnd for that riches where is my deserving?\\r\\nThe cause of this fair gift in me is wanting,\\r\\nAnd so my patent back again is swerving.\\r\\nThyself thou gav’st, thy own worth then not knowing,\\r\\nOr me to whom thou gav’st it, else mistaking;\\r\\nSo thy great gift, upon misprision growing,\\r\\nComes home again, on better judgement making.\\r\\n    Thus have I had thee, as a dream doth flatter,\\r\\n    In sleep a king, but waking no such matter.\\r\\n\\r\\nLXXXVIII\\r\\n\\r\\nWhen thou shalt be dispos’d to set me light,\\r\\nAnd place my merit in the eye of scorn,\\r\\nUpon thy side, against myself I’ll fight,\\r\\nAnd prove thee virtuous, though thou art forsworn.\\r\\nWith mine own weakness, being best acquainted,\\r\\nUpon thy part I can set down a story\\r\\nOf faults conceal’d, wherein I am attainted;\\r\\nThat thou in losing me shalt win much glory:\\r\\nAnd I by this will be a gainer too;\\r\\nFor bending all my loving thoughts on thee,\\r\\nThe injuries that to myself I do,\\r\\nDoing thee vantage, double-vantage me.\\r\\n    Such is my love, to thee I so belong,\\r\\n    That for thy right, myself will bear all wrong.\\r\\n\\r\\nLXXXIX\\r\\n\\r\\nSay that thou didst forsake me for some fault,\\r\\nAnd I will comment upon that offence:\\r\\nSpeak of my lameness, and I straight will halt,\\r\\nAgainst thy reasons making no defence.\\r\\nThou canst not love disgrace me half so ill,\\r\\nTo set a form upon desired change,\\r\\nAs I’ll myself disgrace; knowing thy will,\\r\\nI will acquaintance strangle, and look strange;\\r\\nBe absent from thy walks; and in my tongue\\r\\nThy sweet beloved name no more shall dwell,\\r\\nLest I, too much profane, should do it wrong,\\r\\nAnd haply of our old acquaintance tell.\\r\\n    For thee, against my self I’ll vow debate,\\r\\n    For I must ne’er love him whom thou dost hate.\\r\\n\\r\\nXC\\r\\n\\r\\nThen hate me when thou wilt; if ever, now;\\r\\nNow, while the world is bent my deeds to cross,\\r\\nJoin with the spite of fortune, make me bow,\\r\\nAnd do not drop in for an after-loss:\\r\\nAh! do not, when my heart hath ’scap’d this sorrow,\\r\\nCome in the rearward of a conquer’d woe;\\r\\nGive not a windy night a rainy morrow,\\r\\nTo linger out a purpos’d overthrow.\\r\\nIf thou wilt leave me, do not leave me last,\\r\\nWhen other petty griefs have done their spite,\\r\\nBut in the onset come: so shall I taste\\r\\nAt first the very worst of fortune’s might;\\r\\n    And other strains of woe, which now seem woe,\\r\\n    Compar’d with loss of thee, will not seem so.\\r\\n\\r\\nXCI\\r\\n\\r\\nSome glory in their birth, some in their skill,\\r\\nSome in their wealth, some in their body’s force,\\r\\nSome in their garments though new-fangled ill;\\r\\nSome in their hawks and hounds, some in their horse;\\r\\nAnd every humour hath his adjunct pleasure,\\r\\nWherein it finds a joy above the rest:\\r\\nBut these particulars are not my measure,\\r\\nAll these I better in one general best.\\r\\nThy love is better than high birth to me,\\r\\nRicher than wealth, prouder than garments’ costs,\\r\\nOf more delight than hawks and horses be;\\r\\nAnd having thee, of all men’s pride I boast:\\r\\n    Wretched in this alone, that thou mayst take\\r\\n    All this away, and me most wretchcd make.\\r\\n\\r\\nXCII\\r\\n\\r\\nBut do thy worst to steal thyself away,\\r\\nFor term of life thou art assured mine;\\r\\nAnd life no longer than thy love will stay,\\r\\nFor it depends upon that love of thine.\\r\\nThen need I not to fear the worst of wrongs,\\r\\nWhen in the least of them my life hath end.\\r\\nI see a better state to me belongs\\r\\nThan that which on thy humour doth depend:\\r\\nThou canst not vex me with inconstant mind,\\r\\nSince that my life on thy revolt doth lie.\\r\\nO! what a happy title do I find,\\r\\nHappy to have thy love, happy to die!\\r\\n    But what’s so blessed-fair that fears no blot?\\r\\n    Thou mayst be false, and yet I know it not.\\r\\n\\r\\nXCIII\\r\\n\\r\\nSo shall I live, supposing thou art true,\\r\\nLike a deceived husband; so love’s face\\r\\nMay still seem love to me, though alter’d new;\\r\\nThy looks with me, thy heart in other place:\\r\\nFor there can live no hatred in thine eye,\\r\\nTherefore in that I cannot know thy change.\\r\\nIn many’s looks, the false heart’s history\\r\\nIs writ in moods, and frowns, and wrinkles strange.\\r\\nBut heaven in thy creation did decree\\r\\nThat in thy face sweet love should ever dwell;\\r\\nWhate’er thy thoughts, or thy heart’s workings be,\\r\\nThy looks should nothing thence, but sweetness tell.\\r\\n    How like Eve’s apple doth thy beauty grow,\\r\\n    If thy sweet virtue answer not thy show!\\r\\n\\r\\nXCIV\\r\\n\\r\\nThey that have power to hurt, and will do none,\\r\\nThat do not do the thing they most do show,\\r\\nWho, moving others, are themselves as stone,\\r\\nUnmoved, cold, and to temptation slow;\\r\\nThey rightly do inherit heaven’s graces,\\r\\nAnd husband nature’s riches from expense;\\r\\nThey are the lords and owners of their faces,\\r\\nOthers, but stewards of their excellence.\\r\\nThe summer’s flower is to the summer sweet,\\r\\nThough to itself, it only live and die,\\r\\nBut if that flower with base infection meet,\\r\\nThe basest weed outbraves his dignity:\\r\\n    For sweetest things turn sourest by their deeds;\\r\\n    Lilies that fester, smell far worse than weeds.\\r\\n\\r\\nXCV\\r\\n\\r\\nHow sweet and lovely dost thou make the shame\\r\\nWhich, like a canker in the fragrant rose,\\r\\nDoth spot the beauty of thy budding name!\\r\\nO! in what sweets dost thou thy sins enclose.\\r\\nThat tongue that tells the story of thy days,\\r\\nMaking lascivious comments on thy sport,\\r\\nCannot dispraise, but in a kind of praise;\\r\\nNaming thy name, blesses an ill report.\\r\\nO! what a mansion have those vices got\\r\\nWhich for their habitation chose out thee,\\r\\nWhere beauty’s veil doth cover every blot\\r\\nAnd all things turns to fair that eyes can see!\\r\\n    Take heed, dear heart, of this large privilege;\\r\\n    The hardest knife ill-us’d doth lose his edge.\\r\\n\\r\\nXCVI\\r\\n\\r\\nSome say thy fault is youth, some wantonness;\\r\\nSome say thy grace is youth and gentle sport;\\r\\nBoth grace and faults are lov’d of more and less:\\r\\nThou mak’st faults graces that to thee resort.\\r\\nAs on the finger of a throned queen\\r\\nThe basest jewel will be well esteem’d,\\r\\nSo are those errors that in thee are seen\\r\\nTo truths translated, and for true things deem’d.\\r\\nHow many lambs might the stern wolf betray,\\r\\nIf like a lamb he could his looks translate!\\r\\nHow many gazers mightst thou lead away,\\r\\nif thou wouldst use the strength of all thy state!\\r\\n    But do not so; I love thee in such sort,\\r\\n    As, thou being mine, mine is thy good report.\\r\\n\\r\\nXCVII\\r\\n\\r\\nHow like a winter hath my absence been\\r\\nFrom thee, the pleasure of the fleeting year!\\r\\nWhat freezings have I felt, what dark days seen!\\r\\nWhat old December’s bareness everywhere!\\r\\nAnd yet this time removed was summer’s time;\\r\\nThe teeming autumn, big with rich increase,\\r\\nBearing the wanton burden of the prime,\\r\\nLike widow’d wombs after their lords’ decease:\\r\\nYet this abundant issue seem’d to me\\r\\nBut hope of orphans, and unfather’d fruit;\\r\\nFor summer and his pleasures wait on thee,\\r\\nAnd, thou away, the very birds are mute:\\r\\n    Or, if they sing, ’tis with so dull a cheer,\\r\\n    That leaves look pale, dreading the winter’s near.\\r\\n\\r\\nXCVIII\\r\\n\\r\\nFrom you have I been absent in the spring,\\r\\nWhen proud-pied April, dress’d in all his trim,\\r\\nHath put a spirit of youth in every thing,\\r\\nThat heavy Saturn laugh’d and leap’d with him.\\r\\nYet nor the lays of birds, nor the sweet smell\\r\\nOf different flowers in odour and in hue,\\r\\nCould make me any summer’s story tell,\\r\\nOr from their proud lap pluck them where they grew:\\r\\nNor did I wonder at the lily’s white,\\r\\nNor praise the deep vermilion in the rose;\\r\\nThey were but sweet, but figures of delight,\\r\\nDrawn after you, you pattern of all those.\\r\\n    Yet seem’d it winter still, and you away,\\r\\n    As with your shadow I with these did play.\\r\\n\\r\\nXCIX\\r\\n\\r\\nThe forward violet thus did I chide:\\r\\nSweet thief, whence didst thou steal thy sweet that smells,\\r\\nIf not from my love’s breath? The purple pride\\r\\nWhich on thy soft cheek for complexion dwells\\r\\nIn my love’s veins thou hast too grossly dy’d.\\r\\nThe lily I condemned for thy hand,\\r\\nAnd buds of marjoram had stol’n thy hair;\\r\\nThe roses fearfully on thorns did stand,\\r\\nOne blushing shame, another white despair;\\r\\nA third, nor red nor white, had stol’n of both,\\r\\nAnd to his robbery had annex’d thy breath;\\r\\nBut, for his theft, in pride of all his growth\\r\\nA vengeful canker eat him up to death.\\r\\n    More flowers I noted, yet I none could see,\\r\\n    But sweet, or colour it had stol’n from thee.\\r\\n\\r\\nC\\r\\n\\r\\nWhere art thou Muse that thou forget’st so long,\\r\\nTo speak of that which gives thee all thy might?\\r\\nSpend’st thou thy fury on some worthless song,\\r\\nDarkening thy power to lend base subjects light?\\r\\nReturn forgetful Muse, and straight redeem,\\r\\nIn gentle numbers time so idly spent;\\r\\nSing to the ear that doth thy lays esteem\\r\\nAnd gives thy pen both skill and argument.\\r\\nRise, resty Muse, my love’s sweet face survey,\\r\\nIf Time have any wrinkle graven there;\\r\\nIf any, be a satire to decay,\\r\\nAnd make time’s spoils despised every where.\\r\\n    Give my love fame faster than Time wastes life,\\r\\n    So thou prevent’st his scythe and crooked knife.\\r\\n\\r\\nCI\\r\\n\\r\\nO truant Muse what shall be thy amends\\r\\nFor thy neglect of truth in beauty dy’d?\\r\\nBoth truth and beauty on my love depends;\\r\\nSo dost thou too, and therein dignified.\\r\\nMake answer Muse: wilt thou not haply say,\\r\\n‘Truth needs no colour, with his colour fix’d;\\r\\nBeauty no pencil, beauty’s truth to lay;\\r\\nBut best is best, if never intermix’d’?\\r\\nBecause he needs no praise, wilt thou be dumb?\\r\\nExcuse not silence so, for’t lies in thee\\r\\nTo make him much outlive a gilded tomb\\r\\nAnd to be prais’d of ages yet to be.\\r\\n    Then do thy office, Muse; I teach thee how\\r\\n    To make him seem long hence as he shows now.\\r\\n\\r\\nCII\\r\\n\\r\\nMy love is strengthen’d, though more weak in seeming;\\r\\nI love not less, though less the show appear;\\r\\nThat love is merchandiz’d, whose rich esteeming,\\r\\nThe owner’s tongue doth publish every where.\\r\\nOur love was new, and then but in the spring,\\r\\nWhen I was wont to greet it with my lays;\\r\\nAs Philomel in summer’s front doth sing,\\r\\nAnd stops her pipe in growth of riper days:\\r\\nNot that the summer is less pleasant now\\r\\nThan when her mournful hymns did hush the night,\\r\\nBut that wild music burthens every bough,\\r\\nAnd sweets grown common lose their dear delight.\\r\\n    Therefore like her, I sometime hold my tongue:\\r\\n    Because I would not dull you with my song.\\r\\n\\r\\nCIII\\r\\n\\r\\nAlack! what poverty my Muse brings forth,\\r\\nThat having such a scope to show her pride,\\r\\nThe argument, all bare, is of more worth\\r\\nThan when it hath my added praise beside!\\r\\nO! blame me not, if I no more can write!\\r\\nLook in your glass, and there appears a face\\r\\nThat over-goes my blunt invention quite,\\r\\nDulling my lines, and doing me disgrace.\\r\\nWere it not sinful then, striving to mend,\\r\\nTo mar the subject that before was well?\\r\\nFor to no other pass my verses tend\\r\\nThan of your graces and your gifts to tell;\\r\\n    And more, much more, than in my verse can sit,\\r\\n    Your own glass shows you when you look in it.\\r\\n\\r\\nCIV\\r\\n\\r\\nTo me, fair friend, you never can be old,\\r\\nFor as you were when first your eye I ey’d,\\r\\nSuch seems your beauty still. Three winters cold,\\r\\nHave from the forests shook three summers’ pride,\\r\\nThree beauteous springs to yellow autumn turn’d,\\r\\nIn process of the seasons have I seen,\\r\\nThree April perfumes in three hot Junes burn’d,\\r\\nSince first I saw you fresh, which yet are green.\\r\\nAh! yet doth beauty like a dial-hand,\\r\\nSteal from his figure, and no pace perceiv’d;\\r\\nSo your sweet hue, which methinks still doth stand,\\r\\nHath motion, and mine eye may be deceiv’d:\\r\\n    For fear of which, hear this thou age unbred:\\r\\n    Ere you were born was beauty’s summer dead.\\r\\n\\r\\nCV\\r\\n\\r\\nLet not my love be call’d idolatry,\\r\\nNor my beloved as an idol show,\\r\\nSince all alike my songs and praises be\\r\\nTo one, of one, still such, and ever so.\\r\\nKind is my love to-day, to-morrow kind,\\r\\nStill constant in a wondrous excellence;\\r\\nTherefore my verse to constancy confin’d,\\r\\nOne thing expressing, leaves out difference.\\r\\n‘Fair, kind, and true,’ is all my argument,\\r\\n‘Fair, kind, and true,’ varying to other words;\\r\\nAnd in this change is my invention spent,\\r\\nThree themes in one, which wondrous scope affords.\\r\\n    Fair, kind, and true, have often liv’d alone,\\r\\n    Which three till now, never kept seat in one.\\r\\n\\r\\nCVI\\r\\n\\r\\nWhen in the chronicle of wasted time\\r\\nI see descriptions of the fairest wights,\\r\\nAnd beauty making beautiful old rime,\\r\\nIn praise of ladies dead and lovely knights,\\r\\nThen, in the blazon of sweet beauty’s best,\\r\\nOf hand, of foot, of lip, of eye, of brow,\\r\\nI see their antique pen would have express’d\\r\\nEven such a beauty as you master now.\\r\\nSo all their praises are but prophecies\\r\\nOf this our time, all you prefiguring;\\r\\nAnd for they looked but with divining eyes,\\r\\nThey had not skill enough your worth to sing:\\r\\n    For we, which now behold these present days,\\r\\n    Have eyes to wonder, but lack tongues to praise.\\r\\n\\r\\nCVII\\r\\n\\r\\nNot mine own fears, nor the prophetic soul\\r\\nOf the wide world dreaming on things to come,\\r\\nCan yet the lease of my true love control,\\r\\nSupposed as forfeit to a confin’d doom.\\r\\nThe mortal moon hath her eclipse endur’d,\\r\\nAnd the sad augurs mock their own presage;\\r\\nIncertainties now crown themselves assur’d,\\r\\nAnd peace proclaims olives of endless age.\\r\\nNow with the drops of this most balmy time,\\r\\nMy love looks fresh, and Death to me subscribes,\\r\\nSince, spite of him, I’ll live in this poor rime,\\r\\nWhile he insults o’er dull and speechless tribes:\\r\\n    And thou in this shalt find thy monument,\\r\\n    When tyrants’ crests and tombs of brass are spent.\\r\\n\\r\\nCVIII\\r\\n\\r\\nWhat’s in the brain, that ink may character,\\r\\nWhich hath not figur’d to thee my true spirit?\\r\\nWhat’s new to speak, what now to register,\\r\\nThat may express my love, or thy dear merit?\\r\\nNothing, sweet boy; but yet, like prayers divine,\\r\\nI must each day say o’er the very same;\\r\\nCounting no old thing old, thou mine, I thine,\\r\\nEven as when first I hallow’d thy fair name.\\r\\nSo that eternal love in love’s fresh case,\\r\\nWeighs not the dust and injury of age,\\r\\nNor gives to necessary wrinkles place,\\r\\nBut makes antiquity for aye his page;\\r\\n    Finding the first conceit of love there bred,\\r\\n    Where time and outward form would show it dead.\\r\\n\\r\\nCIX\\r\\n\\r\\nO! never say that I was false of heart,\\r\\nThough absence seem’d my flame to qualify,\\r\\nAs easy might I from my self depart\\r\\nAs from my soul which in thy breast doth lie:\\r\\nThat is my home of love: if I have rang’d,\\r\\nLike him that travels, I return again;\\r\\nJust to the time, not with the time exchang’d,\\r\\nSo that myself bring water for my stain.\\r\\nNever believe though in my nature reign’d,\\r\\nAll frailties that besiege all kinds of blood,\\r\\nThat it could so preposterously be stain’d,\\r\\nTo leave for nothing all thy sum of good;\\r\\n    For nothing this wide universe I call,\\r\\n    Save thou, my rose, in it thou art my all.\\r\\n\\r\\nCX\\r\\n\\r\\nAlas! ’tis true, I have gone here and there,\\r\\nAnd made my self a motley to the view,\\r\\nGor’d mine own thoughts, sold cheap what is most dear,\\r\\nMade old offences of affections new;\\r\\nMost true it is, that I have look’d on truth\\r\\nAskance and strangely; but, by all above,\\r\\nThese blenches gave my heart another youth,\\r\\nAnd worse essays prov’d thee my best of love.\\r\\nNow all is done, save what shall have no end:\\r\\nMine appetite I never more will grind\\r\\nOn newer proof, to try an older friend,\\r\\nA god in love, to whom I am confin’d.\\r\\n    Then give me welcome, next my heaven the best,\\r\\n    Even to thy pure and most most loving breast.\\r\\n\\r\\nCXI\\r\\n\\r\\nO! for my sake do you with Fortune chide,\\r\\nThe guilty goddess of my harmful deeds,\\r\\nThat did not better for my life provide\\r\\nThan public means which public manners breeds.\\r\\nThence comes it that my name receives a brand,\\r\\nAnd almost thence my nature is subdu’d\\r\\nTo what it works in, like the dyer’s hand:\\r\\nPity me, then, and wish I were renew’d;\\r\\nWhilst, like a willing patient, I will drink,\\r\\nPotions of eisel ’gainst my strong infection;\\r\\nNo bitterness that I will bitter think,\\r\\nNor double penance, to correct correction.\\r\\n    Pity me then, dear friend, and I assure ye,\\r\\n    Even that your pity is enough to cure me.\\r\\n\\r\\nCXII\\r\\n\\r\\nYour love and pity doth the impression fill,\\r\\nWhich vulgar scandal stamp’d upon my brow;\\r\\nFor what care I who calls me well or ill,\\r\\nSo you o’er-green my bad, my good allow?\\r\\nYou are my all-the-world, and I must strive\\r\\nTo know my shames and praises from your tongue;\\r\\nNone else to me, nor I to none alive,\\r\\nThat my steel’d sense or changes right or wrong.\\r\\nIn so profound abysm I throw all care\\r\\nOf others’ voices, that my adder’s sense\\r\\nTo critic and to flatterer stopped are.\\r\\nMark how with my neglect I do dispense:\\r\\n    You are so strongly in my purpose bred,\\r\\n    That all the world besides methinks are dead.\\r\\n\\r\\nCXIII\\r\\n\\r\\nSince I left you, mine eye is in my mind;\\r\\nAnd that which governs me to go about\\r\\nDoth part his function and is partly blind,\\r\\nSeems seeing, but effectually is out;\\r\\nFor it no form delivers to the heart\\r\\nOf bird, of flower, or shape which it doth latch:\\r\\nOf his quick objects hath the mind no part,\\r\\nNor his own vision holds what it doth catch;\\r\\nFor if it see the rud’st or gentlest sight,\\r\\nThe most sweet favour or deformed’st creature,\\r\\nThe mountain or the sea, the day or night:\\r\\nThe crow, or dove, it shapes them to your feature.\\r\\n    Incapable of more, replete with you,\\r\\n    My most true mind thus maketh mine untrue.\\r\\n\\r\\nCXIV\\r\\n\\r\\nOr whether doth my mind, being crown’d with you,\\r\\nDrink up the monarch’s plague, this flattery?\\r\\nOr whether shall I say, mine eye saith true,\\r\\nAnd that your love taught it this alchemy,\\r\\nTo make of monsters and things indigest\\r\\nSuch cherubins as your sweet self resemble,\\r\\nCreating every bad a perfect best,\\r\\nAs fast as objects to his beams assemble?\\r\\nO! ’tis the first, ’tis flattery in my seeing,\\r\\nAnd my great mind most kingly drinks it up:\\r\\nMine eye well knows what with his gust is ’greeing,\\r\\nAnd to his palate doth prepare the cup:\\r\\n    If it be poison’d, ’tis the lesser sin\\r\\n    That mine eye loves it and doth first begin.\\r\\n\\r\\nCXV\\r\\n\\r\\nThose lines that I before have writ do lie,\\r\\nEven those that said I could not love you dearer:\\r\\nYet then my judgment knew no reason why\\r\\nMy most full flame should afterwards burn clearer.\\r\\nBut reckoning Time, whose million’d accidents\\r\\nCreep in ’twixt vows, and change decrees of kings,\\r\\nTan sacred beauty, blunt the sharp’st intents,\\r\\nDivert strong minds to the course of altering things;\\r\\nAlas! why fearing of Time’s tyranny,\\r\\nMight I not then say, ‘Now I love you best,’\\r\\nWhen I was certain o’er incertainty,\\r\\nCrowning the present, doubting of the rest?\\r\\n    Love is a babe, then might I not say so,\\r\\n    To give full growth to that which still doth grow?\\r\\n\\r\\nCXVI\\r\\n\\r\\nLet me not to the marriage of true minds\\r\\nAdmit impediments. Love is not love\\r\\nWhich alters when it alteration finds,\\r\\nOr bends with the remover to remove:\\r\\nO, no! it is an ever-fixed mark,\\r\\nThat looks on tempests and is never shaken;\\r\\nIt is the star to every wandering bark,\\r\\nWhose worth’s unknown, although his height be taken.\\r\\nLove’s not Time’s fool, though rosy lips and cheeks\\r\\nWithin his bending sickle’s compass come;\\r\\nLove alters not with his brief hours and weeks,\\r\\nBut bears it out even to the edge of doom.\\r\\n    If this be error and upon me prov’d,\\r\\n    I never writ, nor no man ever lov’d.\\r\\n\\r\\nCXVII\\r\\n\\r\\nAccuse me thus: that I have scanted all,\\r\\nWherein I should your great deserts repay,\\r\\nForgot upon your dearest love to call,\\r\\nWhereto all bonds do tie me day by day;\\r\\nThat I have frequent been with unknown minds,\\r\\nAnd given to time your own dear-purchas’d right;\\r\\nThat I have hoisted sail to all the winds\\r\\nWhich should transport me farthest from your sight.\\r\\nBook both my wilfulness and errors down,\\r\\nAnd on just proof surmise, accumulate;\\r\\nBring me within the level of your frown,\\r\\nBut shoot not at me in your waken’d hate;\\r\\n    Since my appeal says I did strive to prove\\r\\n    The constancy and virtue of your love.\\r\\n\\r\\nCXVIII\\r\\n\\r\\nLike as, to make our appetite more keen,\\r\\nWith eager compounds we our palate urge;\\r\\nAs, to prevent our maladies unseen,\\r\\nWe sicken to shun sickness when we purge;\\r\\nEven so, being full of your ne’er-cloying sweetness,\\r\\nTo bitter sauces did I frame my feeding;\\r\\nAnd, sick of welfare, found a kind of meetness\\r\\nTo be diseas’d, ere that there was true needing.\\r\\nThus policy in love, to anticipate\\r\\nThe ills that were not, grew to faults assur’d,\\r\\nAnd brought to medicine a healthful state\\r\\nWhich, rank of goodness, would by ill be cur’d;\\r\\n    But thence I learn and find the lesson true,\\r\\n    Drugs poison him that so fell sick of you.\\r\\n\\r\\nCXIX\\r\\n\\r\\nWhat potions have I drunk of Siren tears,\\r\\nDistill’d from limbecks foul as hell within,\\r\\nApplying fears to hopes, and hopes to fears,\\r\\nStill losing when I saw myself to win!\\r\\nWhat wretched errors hath my heart committed,\\r\\nWhilst it hath thought itself so blessed never!\\r\\nHow have mine eyes out of their spheres been fitted,\\r\\nIn the distraction of this madding fever!\\r\\nO benefit of ill! now I find true\\r\\nThat better is, by evil still made better;\\r\\nAnd ruin’d love, when it is built anew,\\r\\nGrows fairer than at first, more strong, far greater.\\r\\n    So I return rebuk’d to my content,\\r\\n    And gain by ill thrice more than I have spent.\\r\\n\\r\\nCXX\\r\\n\\r\\nThat you were once unkind befriends me now,\\r\\nAnd for that sorrow, which I then did feel,\\r\\nNeeds must I under my transgression bow,\\r\\nUnless my nerves were brass or hammer’d steel.\\r\\nFor if you were by my unkindness shaken,\\r\\nAs I by yours, you’ve pass’d a hell of time;\\r\\nAnd I, a tyrant, have no leisure taken\\r\\nTo weigh how once I suffer’d in your crime.\\r\\nO! that our night of woe might have remember’d\\r\\nMy deepest sense, how hard true sorrow hits,\\r\\nAnd soon to you, as you to me, then tender’d\\r\\nThe humble salve, which wounded bosoms fits!\\r\\n    But that your trespass now becomes a fee;\\r\\n    Mine ransoms yours, and yours must ransom me.\\r\\n\\r\\nCXXI\\r\\n\\r\\n’Tis better to be vile than vile esteem’d,\\r\\nWhen not to be receives reproach of being;\\r\\nAnd the just pleasure lost, which is so deem’d\\r\\nNot by our feeling, but by others’ seeing:\\r\\nFor why should others’ false adulterate eyes\\r\\nGive salutation to my sportive blood?\\r\\nOr on my frailties why are frailer spies,\\r\\nWhich in their wills count bad what I think good?\\r\\nNo, I am that I am, and they that level\\r\\nAt my abuses reckon up their own:\\r\\nI may be straight though they themselves be bevel;\\r\\nBy their rank thoughts, my deeds must not be shown;\\r\\n    Unless this general evil they maintain,\\r\\n    All men are bad and in their badness reign.\\r\\n\\r\\nCXXII\\r\\n\\r\\nThy gift, thy tables, are within my brain\\r\\nFull character’d with lasting memory,\\r\\nWhich shall above that idle rank remain,\\r\\nBeyond all date; even to eternity:\\r\\nOr, at the least, so long as brain and heart\\r\\nHave faculty by nature to subsist;\\r\\nTill each to raz’d oblivion yield his part\\r\\nOf thee, thy record never can be miss’d.\\r\\nThat poor retention could not so much hold,\\r\\nNor need I tallies thy dear love to score;\\r\\nTherefore to give them from me was I bold,\\r\\nTo trust those tables that receive thee more:\\r\\n    To keep an adjunct to remember thee\\r\\n    Were to import forgetfulness in me.\\r\\n\\r\\nCXXIII\\r\\n\\r\\nNo, Time, thou shalt not boast that I do change:\\r\\nThy pyramids built up with newer might\\r\\nTo me are nothing novel, nothing strange;\\r\\nThey are but dressings of a former sight.\\r\\nOur dates are brief, and therefore we admire\\r\\nWhat thou dost foist upon us that is old;\\r\\nAnd rather make them born to our desire\\r\\nThan think that we before have heard them told.\\r\\nThy registers and thee I both defy,\\r\\nNot wondering at the present nor the past,\\r\\nFor thy records and what we see doth lie,\\r\\nMade more or less by thy continual haste.\\r\\n    This I do vow and this shall ever be;\\r\\n    I will be true despite thy scythe and thee.\\r\\n\\r\\nCXXIV\\r\\n\\r\\nIf my dear love were but the child of state,\\r\\nIt might for Fortune’s bastard be unfather’d,\\r\\nAs subject to Time’s love or to Time’s hate,\\r\\nWeeds among weeds, or flowers with flowers gather’d.\\r\\nNo, it was builded far from accident;\\r\\nIt suffers not in smiling pomp, nor falls\\r\\nUnder the blow of thralled discontent,\\r\\nWhereto th’ inviting time our fashion calls:\\r\\nIt fears not policy, that heretic,\\r\\nWhich works on leases of short-number’d hours,\\r\\nBut all alone stands hugely politic,\\r\\nThat it nor grows with heat, nor drowns with showers.\\r\\n    To this I witness call the fools of time,\\r\\n    Which die for goodness, who have lived for crime.\\r\\n\\r\\nCXXV\\r\\n\\r\\nWere’t aught to me I bore the canopy,\\r\\nWith my extern the outward honouring,\\r\\nOr laid great bases for eternity,\\r\\nWhich proves more short than waste or ruining?\\r\\nHave I not seen dwellers on form and favour\\r\\nLose all and more by paying too much rent\\r\\nFor compound sweet; forgoing simple savour,\\r\\nPitiful thrivers, in their gazing spent?\\r\\nNo; let me be obsequious in thy heart,\\r\\nAnd take thou my oblation, poor but free,\\r\\nWhich is not mix’d with seconds, knows no art,\\r\\nBut mutual render, only me for thee.\\r\\n    Hence, thou suborned informer! a true soul\\r\\n    When most impeach’d, stands least in thy control.\\r\\n\\r\\nCXXVI\\r\\n\\r\\nO thou, my lovely boy, who in thy power\\r\\nDost hold Time’s fickle glass, his fickle hour;\\r\\nWho hast by waning grown, and therein show’st\\r\\nThy lovers withering, as thy sweet self grow’st.\\r\\nIf Nature, sovereign mistress over wrack,\\r\\nAs thou goest onwards, still will pluck thee back,\\r\\nShe keeps thee to this purpose, that her skill\\r\\nMay time disgrace and wretched minutes kill.\\r\\nYet fear her, O thou minion of her pleasure!\\r\\nShe may detain, but not still keep, her treasure:\\r\\n    Her audit (though delayed) answered must be,\\r\\n    And her quietus is to render thee.\\r\\n\\r\\nCXXVII\\r\\n\\r\\nIn the old age black was not counted fair,\\r\\nOr if it were, it bore not beauty’s name;\\r\\nBut now is black beauty’s successive heir,\\r\\nAnd beauty slander’d with a bastard shame:\\r\\nFor since each hand hath put on Nature’s power,\\r\\nFairing the foul with Art’s false borrowed face,\\r\\nSweet beauty hath no name, no holy bower,\\r\\nBut is profan’d, if not lives in disgrace.\\r\\nTherefore my mistress’ eyes are raven black,\\r\\nHer eyes so suited, and they mourners seem\\r\\nAt such who, not born fair, no beauty lack,\\r\\nSland’ring creation with a false esteem:\\r\\n    Yet so they mourn becoming of their woe,\\r\\n    That every tongue says beauty should look so.\\r\\n\\r\\nCXXVIII\\r\\n\\r\\nHow oft when thou, my music, music play’st,\\r\\nUpon that blessed wood whose motion sounds\\r\\nWith thy sweet fingers when thou gently sway’st\\r\\nThe wiry concord that mine ear confounds,\\r\\nDo I envy those jacks that nimble leap,\\r\\nTo kiss the tender inward of thy hand,\\r\\nWhilst my poor lips which should that harvest reap,\\r\\nAt the wood’s boldness by thee blushing stand!\\r\\nTo be so tickled, they would change their state\\r\\nAnd situation with those dancing chips,\\r\\nO’er whom thy fingers walk with gentle gait,\\r\\nMaking dead wood more bless’d than living lips.\\r\\n    Since saucy jacks so happy are in this,\\r\\n    Give them thy fingers, me thy lips to kiss.\\r\\n\\r\\nCXXIX\\r\\n\\r\\nThe expense of spirit in a waste of shame\\r\\nIs lust in action: and till action, lust\\r\\nIs perjur’d, murderous, bloody, full of blame,\\r\\nSavage, extreme, rude, cruel, not to trust;\\r\\nEnjoy’d no sooner but despised straight;\\r\\nPast reason hunted; and no sooner had,\\r\\nPast reason hated, as a swallow’d bait,\\r\\nOn purpose laid to make the taker mad:\\r\\nMad in pursuit and in possession so;\\r\\nHad, having, and in quest, to have extreme;\\r\\nA bliss in proof, and proved, a very woe;\\r\\nBefore, a joy propos’d; behind a dream.\\r\\n    All this the world well knows; yet none knows well\\r\\n    To shun the heaven that leads men to this hell.\\r\\n\\r\\nCXXX\\r\\n\\r\\nMy mistress’ eyes are nothing like the sun;\\r\\nCoral is far more red, than her lips red:\\r\\nIf snow be white, why then her breasts are dun;\\r\\nIf hairs be wires, black wires grow on her head.\\r\\nI have seen roses damask’d, red and white,\\r\\nBut no such roses see I in her cheeks;\\r\\nAnd in some perfumes is there more delight\\r\\nThan in the breath that from my mistress reeks.\\r\\nI love to hear her speak, yet well I know\\r\\nThat music hath a far more pleasing sound:\\r\\nI grant I never saw a goddess go;\\r\\nMy mistress, when she walks, treads on the ground:\\r\\n    And yet by heaven, I think my love as rare,\\r\\n    As any she belied with false compare.\\r\\n\\r\\nCXXXI\\r\\n\\r\\nThou art as tyrannous, so as thou art,\\r\\nAs those whose beauties proudly make them cruel;\\r\\nFor well thou know’st to my dear doting heart\\r\\nThou art the fairest and most precious jewel.\\r\\nYet, in good faith, some say that thee behold,\\r\\nThy face hath not the power to make love groan;\\r\\nTo say they err I dare not be so bold,\\r\\nAlthough I swear it to myself alone.\\r\\nAnd to be sure that is not false I swear,\\r\\nA thousand groans, but thinking on thy face,\\r\\nOne on another’s neck, do witness bear\\r\\nThy black is fairest in my judgment’s place.\\r\\n    In nothing art thou black save in thy deeds,\\r\\n    And thence this slander, as I think, proceeds.\\r\\n\\r\\nCXXXII\\r\\n\\r\\nThine eyes I love, and they, as pitying me,\\r\\nKnowing thy heart torment me with disdain,\\r\\nHave put on black and loving mourners be,\\r\\nLooking with pretty ruth upon my pain.\\r\\nAnd truly not the morning sun of heaven\\r\\nBetter becomes the grey cheeks of the east,\\r\\nNor that full star that ushers in the even,\\r\\nDoth half that glory to the sober west,\\r\\nAs those two mourning eyes become thy face:\\r\\nO! let it then as well beseem thy heart\\r\\nTo mourn for me since mourning doth thee grace,\\r\\nAnd suit thy pity like in every part.\\r\\n    Then will I swear beauty herself is black,\\r\\n    And all they foul that thy complexion lack.\\r\\n\\r\\nCXXXIII\\r\\n\\r\\nBeshrew that heart that makes my heart to groan\\r\\nFor that deep wound it gives my friend and me!\\r\\nIs’t not enough to torture me alone,\\r\\nBut slave to slavery my sweet’st friend must be?\\r\\nMe from myself thy cruel eye hath taken,\\r\\nAnd my next self thou harder hast engross’d:\\r\\nOf him, myself, and thee I am forsaken;\\r\\nA torment thrice three-fold thus to be cross’d:\\r\\nPrison my heart in thy steel bosom’s ward,\\r\\nBut then my friend’s heart let my poor heart bail;\\r\\nWhoe’er keeps me, let my heart be his guard;\\r\\nThou canst not then use rigour in my jail:\\r\\n    And yet thou wilt; for I, being pent in thee,\\r\\n    Perforce am thine, and all that is in me.\\r\\n\\r\\nCXXXIV\\r\\n\\r\\nSo, now I have confess’d that he is thine,\\r\\nAnd I my self am mortgag’d to thy will,\\r\\nMyself I’ll forfeit, so that other mine\\r\\nThou wilt restore to be my comfort still:\\r\\nBut thou wilt not, nor he will not be free,\\r\\nFor thou art covetous, and he is kind;\\r\\nHe learn’d but surety-like to write for me,\\r\\nUnder that bond that him as fast doth bind.\\r\\nThe statute of thy beauty thou wilt take,\\r\\nThou usurer, that putt’st forth all to use,\\r\\nAnd sue a friend came debtor for my sake;\\r\\nSo him I lose through my unkind abuse.\\r\\n    Him have I lost; thou hast both him and me:\\r\\n    He pays the whole, and yet am I not free.\\r\\n\\r\\nCXXXV\\r\\n\\r\\nWhoever hath her wish, thou hast thy ‘Will,’\\r\\nAnd ‘Will’ to boot, and ‘Will’ in over-plus;\\r\\nMore than enough am I that vex’d thee still,\\r\\nTo thy sweet will making addition thus.\\r\\nWilt thou, whose will is large and spacious,\\r\\nNot once vouchsafe to hide my will in thine?\\r\\nShall will in others seem right gracious,\\r\\nAnd in my will no fair acceptance shine?\\r\\nThe sea, all water, yet receives rain still,\\r\\nAnd in abundance addeth to his store;\\r\\nSo thou, being rich in ‘Will,’ add to thy ‘Will’\\r\\nOne will of mine, to make thy large will more.\\r\\n    Let no unkind ‘No’ fair beseechers kill;\\r\\n    Think all but one, and me in that one ‘Will.’\\r\\n\\r\\nCXXXVI\\r\\n\\r\\nIf thy soul check thee that I come so near,\\r\\nSwear to thy blind soul that I was thy ‘Will’,\\r\\nAnd will, thy soul knows, is admitted there;\\r\\nThus far for love, my love-suit, sweet, fulfil.\\r\\n‘Will’, will fulfil the treasure of thy love,\\r\\nAy, fill it full with wills, and my will one.\\r\\nIn things of great receipt with ease we prove\\r\\nAmong a number one is reckon’d none:\\r\\nThen in the number let me pass untold,\\r\\nThough in thy store’s account I one must be;\\r\\nFor nothing hold me, so it please thee hold\\r\\nThat nothing me, a something sweet to thee:\\r\\n    Make but my name thy love, and love that still,\\r\\n    And then thou lov’st me for my name is ‘Will.’\\r\\n\\r\\nCXXXVII\\r\\n\\r\\nThou blind fool, Love, what dost thou to mine eyes,\\r\\nThat they behold, and see not what they see?\\r\\nThey know what beauty is, see where it lies,\\r\\nYet what the best is take the worst to be.\\r\\nIf eyes, corrupt by over-partial looks,\\r\\nBe anchor’d in the bay where all men ride,\\r\\nWhy of eyes’ falsehood hast thou forged hooks,\\r\\nWhereto the judgment of my heart is tied?\\r\\nWhy should my heart think that a several plot,\\r\\nWhich my heart knows the wide world’s common place?\\r\\nOr mine eyes, seeing this, say this is not,\\r\\nTo put fair truth upon so foul a face?\\r\\n    In things right true my heart and eyes have err’d,\\r\\n    And to this false plague are they now transferr’d.\\r\\n\\r\\nCXXXVIII\\r\\n\\r\\nWhen my love swears that she is made of truth,\\r\\nI do believe her though I know she lies,\\r\\nThat she might think me some untutor’d youth,\\r\\nUnlearned in the world’s false subtleties.\\r\\nThus vainly thinking that she thinks me young,\\r\\nAlthough she knows my days are past the best,\\r\\nSimply I credit her false-speaking tongue:\\r\\nOn both sides thus is simple truth suppressed:\\r\\nBut wherefore says she not she is unjust?\\r\\nAnd wherefore say not I that I am old?\\r\\nO! love’s best habit is in seeming trust,\\r\\nAnd age in love, loves not to have years told:\\r\\n    Therefore I lie with her, and she with me,\\r\\n    And in our faults by lies we flatter’d be.\\r\\n\\r\\nCXXXIX\\r\\n\\r\\nO! call not me to justify the wrong\\r\\nThat thy unkindness lays upon my heart;\\r\\nWound me not with thine eye, but with thy tongue:\\r\\nUse power with power, and slay me not by art,\\r\\nTell me thou lov’st elsewhere; but in my sight,\\r\\nDear heart, forbear to glance thine eye aside:\\r\\nWhat need’st thou wound with cunning, when thy might\\r\\nIs more than my o’erpress’d defence can bide?\\r\\nLet me excuse thee: ah! my love well knows\\r\\nHer pretty looks have been mine enemies;\\r\\nAnd therefore from my face she turns my foes,\\r\\nThat they elsewhere might dart their injuries:\\r\\n    Yet do not so; but since I am near slain,\\r\\n    Kill me outright with looks, and rid my pain.\\r\\n\\r\\n\\r\\nCXL\\r\\n\\r\\nBe wise as thou art cruel; do not press\\r\\nMy tongue-tied patience with too much disdain;\\r\\nLest sorrow lend me words, and words express\\r\\nThe manner of my pity-wanting pain.\\r\\nIf I might teach thee wit, better it were,\\r\\nThough not to love, yet love to tell me so,\\r\\nAs testy sick men, when their deaths be near,\\r\\nNo news but health from their physicians know.\\r\\nFor, if I should despair, I should grow mad,\\r\\nAnd in my madness might speak ill of thee;\\r\\nNow this ill-wresting world is grown so bad,\\r\\nMad slanderers by mad ears believed be.\\r\\n    That I may not be so, nor thou belied,\\r\\n    Bear thine eyes straight, though thy proud heart go wide.\\r\\n\\r\\nCXLI\\r\\n\\r\\nIn faith I do not love thee with mine eyes,\\r\\nFor they in thee a thousand errors note;\\r\\nBut ’tis my heart that loves what they despise,\\r\\nWho, in despite of view, is pleased to dote.\\r\\nNor are mine ears with thy tongue’s tune delighted;\\r\\nNor tender feeling, to base touches prone,\\r\\nNor taste, nor smell, desire to be invited\\r\\nTo any sensual feast with thee alone:\\r\\nBut my five wits nor my five senses can\\r\\nDissuade one foolish heart from serving thee,\\r\\nWho leaves unsway’d the likeness of a man,\\r\\nThy proud heart’s slave and vassal wretch to be:\\r\\n    Only my plague thus far I count my gain,\\r\\n    That she that makes me sin awards me pain.\\r\\n\\r\\nCXLII\\r\\n\\r\\nLove is my sin, and thy dear virtue hate,\\r\\nHate of my sin, grounded on sinful loving:\\r\\nO! but with mine compare thou thine own state,\\r\\nAnd thou shalt find it merits not reproving;\\r\\nOr, if it do, not from those lips of thine,\\r\\nThat have profan’d their scarlet ornaments\\r\\nAnd seal’d false bonds of love as oft as mine,\\r\\nRobb’d others’ beds’ revenues of their rents.\\r\\nBe it lawful I love thee, as thou lov’st those\\r\\nWhom thine eyes woo as mine importune thee:\\r\\nRoot pity in thy heart, that, when it grows,\\r\\nThy pity may deserve to pitied be.\\r\\n    If thou dost seek to have what thou dost hide,\\r\\n    By self-example mayst thou be denied!\\r\\n\\r\\nCXLIII\\r\\n\\r\\nLo, as a careful housewife runs to catch\\r\\nOne of her feather’d creatures broke away,\\r\\nSets down her babe, and makes all swift dispatch\\r\\nIn pursuit of the thing she would have stay;\\r\\nWhilst her neglected child holds her in chase,\\r\\nCries to catch her whose busy care is bent\\r\\nTo follow that which flies before her face,\\r\\nNot prizing her poor infant’s discontent;\\r\\nSo runn’st thou after that which flies from thee,\\r\\nWhilst I thy babe chase thee afar behind;\\r\\nBut if thou catch thy hope, turn back to me,\\r\\nAnd play the mother’s part, kiss me, be kind;\\r\\n    So will I pray that thou mayst have thy ‘Will,’\\r\\n    If thou turn back and my loud crying still.\\r\\n\\r\\nCXLIV\\r\\n\\r\\nTwo loves I have of comfort and despair,\\r\\nWhich like two spirits do suggest me still:\\r\\nThe better angel is a man right fair,\\r\\nThe worser spirit a woman colour’d ill.\\r\\nTo win me soon to hell, my female evil,\\r\\nTempteth my better angel from my side,\\r\\nAnd would corrupt my saint to be a devil,\\r\\nWooing his purity with her foul pride.\\r\\nAnd whether that my angel be turn’d fiend,\\r\\nSuspect I may, yet not directly tell;\\r\\nBut being both from me, both to each friend,\\r\\nI guess one angel in another’s hell:\\r\\n    Yet this shall I ne’er know, but live in doubt,\\r\\n    Till my bad angel fire my good one out.\\r\\n\\r\\nCXLV\\r\\n\\r\\nThose lips that Love’s own hand did make,\\r\\nBreathed forth the sound that said ‘I hate’,\\r\\nTo me that languish’d for her sake:\\r\\nBut when she saw my woeful state,\\r\\nStraight in her heart did mercy come,\\r\\nChiding that tongue that ever sweet\\r\\nWas us’d in giving gentle doom;\\r\\nAnd taught it thus anew to greet;\\r\\n‘I hate’ she alter’d with an end,\\r\\nThat followed it as gentle day,\\r\\nDoth follow night, who like a fiend\\r\\nFrom heaven to hell is flown away.\\r\\n    ‘I hate’, from hate away she threw,\\r\\n    And sav’d my life, saying ‘not you’.\\r\\n\\r\\nCXLVI\\r\\n\\r\\nPoor soul, the centre of my sinful earth,\\r\\nMy sinful earth these rebel powers array,\\r\\nWhy dost thou pine within and suffer dearth,\\r\\nPainting thy outward walls so costly gay?\\r\\nWhy so large cost, having so short a lease,\\r\\nDost thou upon thy fading mansion spend?\\r\\nShall worms, inheritors of this excess,\\r\\nEat up thy charge? Is this thy body’s end?\\r\\nThen soul, live thou upon thy servant’s loss,\\r\\nAnd let that pine to aggravate thy store;\\r\\nBuy terms divine in selling hours of dross;\\r\\nWithin be fed, without be rich no more:\\r\\n    So shall thou feed on Death, that feeds on men,\\r\\n    And Death once dead, there’s no more dying then.\\r\\n\\r\\nCXLVII\\r\\n\\r\\nMy love is as a fever longing still,\\r\\nFor that which longer nurseth the disease;\\r\\nFeeding on that which doth preserve the ill,\\r\\nThe uncertain sickly appetite to please.\\r\\nMy reason, the physician to my love,\\r\\nAngry that his prescriptions are not kept,\\r\\nHath left me, and I desperate now approve\\r\\nDesire is death, which physic did except.\\r\\nPast cure I am, now Reason is past care,\\r\\nAnd frantic-mad with evermore unrest;\\r\\nMy thoughts and my discourse as madmen’s are,\\r\\nAt random from the truth vainly express’d;\\r\\n    For I have sworn thee fair, and thought thee bright,\\r\\n    Who art as black as hell, as dark as night.\\r\\n\\r\\nCXLVIII\\r\\n\\r\\nO me! what eyes hath Love put in my head,\\r\\nWhich have no correspondence with true sight;\\r\\nOr, if they have, where is my judgment fled,\\r\\nThat censures falsely what they see aright?\\r\\nIf that be fair whereon my false eyes dote,\\r\\nWhat means the world to say it is not so?\\r\\nIf it be not, then love doth well denote\\r\\nLove’s eye is not so true as all men’s: no,\\r\\nHow can it? O! how can Love’s eye be true,\\r\\nThat is so vexed with watching and with tears?\\r\\nNo marvel then, though I mistake my view;\\r\\nThe sun itself sees not, till heaven clears.\\r\\n    O cunning Love! with tears thou keep’st me blind,\\r\\n    Lest eyes well-seeing thy foul faults should find.\\r\\n\\r\\nCXLIX\\r\\n\\r\\nCanst thou, O cruel! say I love thee not,\\r\\nWhen I against myself with thee partake?\\r\\nDo I not think on thee, when I forgot\\r\\nAm of my self, all tyrant, for thy sake?\\r\\nWho hateth thee that I do call my friend,\\r\\nOn whom frown’st thou that I do fawn upon,\\r\\nNay, if thou lour’st on me, do I not spend\\r\\nRevenge upon myself with present moan?\\r\\nWhat merit do I in my self respect,\\r\\nThat is so proud thy service to despise,\\r\\nWhen all my best doth worship thy defect,\\r\\nCommanded by the motion of thine eyes?\\r\\n    But, love, hate on, for now I know thy mind;\\r\\n    Those that can see thou lov’st, and I am blind.\\r\\n\\r\\nCL\\r\\n\\r\\nO! from what power hast thou this powerful might,\\r\\nWith insufficiency my heart to sway?\\r\\nTo make me give the lie to my true sight,\\r\\nAnd swear that brightness doth not grace the day?\\r\\nWhence hast thou this becoming of things ill,\\r\\nThat in the very refuse of thy deeds\\r\\nThere is such strength and warrantise of skill,\\r\\nThat, in my mind, thy worst all best exceeds?\\r\\nWho taught thee how to make me love thee more,\\r\\nThe more I hear and see just cause of hate?\\r\\nO! though I love what others do abhor,\\r\\nWith others thou shouldst not abhor my state:\\r\\n    If thy unworthiness rais’d love in me,\\r\\n    More worthy I to be belov’d of thee.\\r\\n\\r\\nCLI\\r\\n\\r\\nLove is too young to know what conscience is,\\r\\nYet who knows not conscience is born of love?\\r\\nThen, gentle cheater, urge not my amiss,\\r\\nLest guilty of my faults thy sweet self prove:\\r\\nFor, thou betraying me, I do betray\\r\\nMy nobler part to my gross body’s treason;\\r\\nMy soul doth tell my body that he may\\r\\nTriumph in love; flesh stays no farther reason,\\r\\nBut rising at thy name doth point out thee,\\r\\nAs his triumphant prize. Proud of this pride,\\r\\nHe is contented thy poor drudge to be,\\r\\nTo stand in thy affairs, fall by thy side.\\r\\n    No want of conscience hold it that I call\\r\\n    Her ‘love,’ for whose dear love I rise and fall.\\r\\n\\r\\nCLII\\r\\n\\r\\nIn loving thee thou know’st I am forsworn,\\r\\nBut thou art twice forsworn, to me love swearing;\\r\\nIn act thy bed-vow broke, and new faith torn,\\r\\nIn vowing new hate after new love bearing:\\r\\nBut why of two oaths’ breach do I accuse thee,\\r\\nWhen I break twenty? I am perjur’d most;\\r\\nFor all my vows are oaths but to misuse thee,\\r\\nAnd all my honest faith in thee is lost:\\r\\nFor I have sworn deep oaths of thy deep kindness,\\r\\nOaths of thy love, thy truth, thy constancy;\\r\\nAnd, to enlighten thee, gave eyes to blindness,\\r\\nOr made them swear against the thing they see;\\r\\n    For I have sworn thee fair; more perjured I,\\r\\n    To swear against the truth so foul a lie.\\r\\n\\r\\nCLIII\\r\\n\\r\\nCupid laid by his brand and fell asleep:\\r\\nA maid of Dian’s this advantage found,\\r\\nAnd his love-kindling fire did quickly steep\\r\\nIn a cold valley-fountain of that ground;\\r\\nWhich borrow’d from this holy fire of Love,\\r\\nA dateless lively heat, still to endure,\\r\\nAnd grew a seeting bath, which yet men prove\\r\\nAgainst strange maladies a sovereign cure.\\r\\nBut at my mistress’ eye Love’s brand new-fired,\\r\\nThe boy for trial needs would touch my breast;\\r\\nI, sick withal, the help of bath desired,\\r\\nAnd thither hied, a sad distemper’d guest,\\r\\n    But found no cure, the bath for my help lies\\r\\n    Where Cupid got new fire; my mistress’ eyes.\\r\\n\\r\\nCLIV\\r\\n\\r\\nThe little Love-god lying once asleep,\\r\\nLaid by his side his heart-inflaming brand,\\r\\nWhilst many nymphs that vow’d chaste life to keep\\r\\nCame tripping by; but in her maiden hand\\r\\nThe fairest votary took up that fire\\r\\nWhich many legions of true hearts had warm’d;\\r\\nAnd so the general of hot desire\\r\\nWas, sleeping, by a virgin hand disarm’d.\\r\\nThis brand she quenched in a cool well by,\\r\\nWhich from Love’s fire took heat perpetual,\\r\\nGrowing a bath and healthful remedy,\\r\\nFor men diseas’d; but I, my mistress’ thrall,\\r\\n    Came there for cure and this by that I prove,\\r\\n    Love’s fire heats water, water cools not love.\\r\\n\\r\\n\\r\\n\\r\\n\\r\\n*** END OF THE PROJECT GUTENBERG EBOOK THE SONNETS ***\\r\\n\\r\\nUpdated editions will replace the previous one--the old editions will\\r\\nbe renamed.\\r\\n\\r\\nCreating the works from print editions not protected by U.S. copyright\\r\\nlaw means that no one owns a United States copyright in these works,\\r\\nso the Foundation (and you!) can copy and distribute it in the\\r\\nUnited States without permission and without paying copyright\\r\\nroyalties. Special rules, set forth in the General Terms of Use part\\r\\nof this license, apply to copying and distributing Project\\r\\nGutenberg-tm electronic works to protect the PROJECT GUTENBERG-tm\\r\\nconcept and trademark. Project Gutenberg is a registered trademark,\\r\\nand may not be used if you charge for an eBook, except by following\\r\\nthe terms of the trademark license, including paying royalties for use\\r\\nof the Project Gutenberg trademark. If you do not charge anything for\\r\\ncopies of this eBook, complying with the trademark license is very\\r\\neasy. You may use this eBook for nearly any purpose such as creation\\r\\nof derivative works, reports, performances and research. Project\\r\\nGutenberg eBooks may be modified and printed and given away--you may\\r\\ndo practically ANYTHING in the United States with eBooks not protected\\r\\nby U.S. copyright law. Redistribution is subject to the trademark\\r\\nlicense, especially commercial redistribution.\\r\\n\\r\\nSTART: FULL LICENSE\\r\\n\\r\\nTHE FULL PROJECT GUTENBERG LICENSE\\r\\nPLEASE READ THIS BEFORE YOU DISTRIBUTE OR USE THIS WORK\\r\\n\\r\\nTo protect the Project Gutenberg-tm mission of promoting the free\\r\\ndistribution of electronic works, by using or distributing this work\\r\\n(or any other work associated in any way with the phrase \"Project\\r\\nGutenberg\"), you agree to comply with all the terms of the Full\\r\\nProject Gutenberg-tm License available with this file or online at\\r\\nwww.gutenberg.org/license.\\r\\n\\r\\nSection 1. General Terms of Use and Redistributing Project\\r\\nGutenberg-tm electronic works\\r\\n\\r\\n1.A. By reading or using any part of this Project Gutenberg-tm\\r\\nelectronic work, you indicate that you have read, understand, agree to\\r\\nand accept all the terms of this license and intellectual property\\r\\n(trademark/copyright) agreement. If you do not agree to abide by all\\r\\nthe terms of this agreement, you must cease using and return or\\r\\ndestroy all copies of Project Gutenberg-tm electronic works in your\\r\\npossession. If you paid a fee for obtaining a copy of or access to a\\r\\nProject Gutenberg-tm electronic work and you do not agree to be bound\\r\\nby the terms of this agreement, you may obtain a refund from the\\r\\nperson or entity to whom you paid the fee as set forth in paragraph\\r\\n1.E.8.\\r\\n\\r\\n1.B. \"Project Gutenberg\" is a registered trademark. It may only be\\r\\nused on or associated in any way with an electronic work by people who\\r\\nagree to be bound by the terms of this agreement. There are a few\\r\\nthings that you can do with most Project Gutenberg-tm electronic works\\r\\neven without complying with the full terms of this agreement. See\\r\\nparagraph 1.C below. There are a lot of things you can do with Project\\r\\nGutenberg-tm electronic works if you follow the terms of this\\r\\nagreement and help preserve free future access to Project Gutenberg-tm\\r\\nelectronic works. See paragraph 1.E below.\\r\\n\\r\\n1.C. The Project Gutenberg Literary Archive Foundation (\"the\\r\\nFoundation\" or PGLAF), owns a compilation copyright in the collection\\r\\nof Project Gutenberg-tm electronic works. Nearly all the individual\\r\\nworks in the collection are in the public domain in the United\\r\\nStates. If an individual work is unprotected by copyright law in the\\r\\nUnited States and you are located in the United States, we do not\\r\\nclaim a right to prevent you from copying, distributing, performing,\\r\\ndisplaying or creating derivative works based on the work as long as\\r\\nall references to Project Gutenberg are removed. Of course, we hope\\r\\nthat you will support the Project Gutenberg-tm mission of promoting\\r\\nfree access to electronic works by freely sharing Project Gutenberg-tm\\r\\nworks in compliance with the terms of this agreement for keeping the\\r\\nProject Gutenberg-tm name associated with the work. You can easily\\r\\ncomply with the terms of this agreement by keeping this work in the\\r\\nsame format with its attached full Project Gutenberg-tm License when\\r\\nyou share it without charge with others.\\r\\n\\r\\n1.D. The copyright laws of the place where you are located also govern\\r\\nwhat you can do with this work. Copyright laws in most countries are\\r\\nin a constant state of change. If you are outside the United States,\\r\\ncheck the laws of your country in addition to the terms of this\\r\\nagreement before downloading, copying, displaying, performing,\\r\\ndistributing or creating derivative works based on this work or any\\r\\nother Project Gutenberg-tm work. The Foundation makes no\\r\\nrepresentations concerning the copyright status of any work in any\\r\\ncountry other than the United States.\\r\\n\\r\\n1.E. Unless you have removed all references to Project Gutenberg:\\r\\n\\r\\n1.E.1. The following sentence, with active links to, or other\\r\\nimmediate access to, the full Project Gutenberg-tm License must appear\\r\\nprominently whenever any copy of a Project Gutenberg-tm work (any work\\r\\non which the phrase \"Project Gutenberg\" appears, or with which the\\r\\nphrase \"Project Gutenberg\" is associated) is accessed, displayed,\\r\\nperformed, viewed, copied or distributed:\\r\\n\\r\\n  This eBook is for the use of anyone anywhere in the United States and\\r\\n  most other parts of the world at no cost and with almost no\\r\\n  restrictions whatsoever. You may copy it, give it away or re-use it\\r\\n  under the terms of the Project Gutenberg License included with this\\r\\n  eBook or online at www.gutenberg.org. If you are not located in the\\r\\n  United States, you will have to check the laws of the country where\\r\\n  you are located before using this eBook.\\r\\n\\r\\n1.E.2. If an individual Project Gutenberg-tm electronic work is\\r\\nderived from texts not protected by U.S. copyright law (does not\\r\\ncontain a notice indicating that it is posted with permission of the\\r\\ncopyright holder), the work can be copied and distributed to anyone in\\r\\nthe United States without paying any fees or charges. If you are\\r\\nredistributing or providing access to a work with the phrase \"Project\\r\\nGutenberg\" associated with or appearing on the work, you must comply\\r\\neither with the requirements of paragraphs 1.E.1 through 1.E.7 or\\r\\nobtain permission for the use of the work and the Project Gutenberg-tm\\r\\ntrademark as set forth in paragraphs 1.E.8 or 1.E.9.\\r\\n\\r\\n1.E.3. If an individual Project Gutenberg-tm electronic work is posted\\r\\nwith the permission of the copyright holder, your use and distribution\\r\\nmust comply with both paragraphs 1.E.1 through 1.E.7 and any\\r\\nadditional terms imposed by the copyright holder. Additional terms\\r\\nwill be linked to the Project Gutenberg-tm License for all works\\r\\nposted with the permission of the copyright holder found at the\\r\\nbeginning of this work.\\r\\n\\r\\n1.E.4. Do not unlink or detach or remove the full Project Gutenberg-tm\\r\\nLicense terms from this work, or any files containing a part of this\\r\\nwork or any other work associated with Project Gutenberg-tm.\\r\\n\\r\\n1.E.5. Do not copy, display, perform, distribute or redistribute this\\r\\nelectronic work, or any part of this electronic work, without\\r\\nprominently displaying the sentence set forth in paragraph 1.E.1 with\\r\\nactive links or immediate access to the full terms of the Project\\r\\nGutenberg-tm License.\\r\\n\\r\\n1.E.6. You may convert to and distribute this work in any binary,\\r\\ncompressed, marked up, nonproprietary or proprietary form, including\\r\\nany word processing or hypertext form. However, if you provide access\\r\\nto or distribute copies of a Project Gutenberg-tm work in a format\\r\\nother than \"Plain Vanilla ASCII\" or other format used in the official\\r\\nversion posted on the official Project Gutenberg-tm website\\r\\n(www.gutenberg.org), you must, at no additional cost, fee or expense\\r\\nto the user, provide a copy, a means of exporting a copy, or a means\\r\\nof obtaining a copy upon request, of the work in its original \"Plain\\r\\nVanilla ASCII\" or other form. Any alternate format must include the\\r\\nfull Project Gutenberg-tm License as specified in paragraph 1.E.1.\\r\\n\\r\\n1.E.7. Do not charge a fee for access to, viewing, displaying,\\r\\nperforming, copying or distributing any Project Gutenberg-tm works\\r\\nunless you comply with paragraph 1.E.8 or 1.E.9.\\r\\n\\r\\n1.E.8. You may charge a reasonable fee for copies of or providing\\r\\naccess to or distributing Project Gutenberg-tm electronic works\\r\\nprovided that:\\r\\n\\r\\n* You pay a royalty fee of 20% of the gross profits you derive from\\r\\n  the use of Project Gutenberg-tm works calculated using the method\\r\\n  you already use to calculate your applicable taxes. The fee is owed\\r\\n  to the owner of the Project Gutenberg-tm trademark, but he has\\r\\n  agreed to donate royalties under this paragraph to the Project\\r\\n  Gutenberg Literary Archive Foundation. Royalty payments must be paid\\r\\n  within 60 days following each date on which you prepare (or are\\r\\n  legally required to prepare) your periodic tax returns. Royalty\\r\\n  payments should be clearly marked as such and sent to the Project\\r\\n  Gutenberg Literary Archive Foundation at the address specified in\\r\\n  Section 4, \"Information about donations to the Project Gutenberg\\r\\n  Literary Archive Foundation.\"\\r\\n\\r\\n* You provide a full refund of any money paid by a user who notifies\\r\\n  you in writing (or by e-mail) within 30 days of receipt that s/he\\r\\n  does not agree to the terms of the full Project Gutenberg-tm\\r\\n  License. You must require such a user to return or destroy all\\r\\n  copies of the works possessed in a physical medium and discontinue\\r\\n  all use of and all access to other copies of Project Gutenberg-tm\\r\\n  works.\\r\\n\\r\\n* You provide, in accordance with paragraph 1.F.3, a full refund of\\r\\n  any money paid for a work or a replacement copy, if a defect in the\\r\\n  electronic work is discovered and reported to you within 90 days of\\r\\n  receipt of the work.\\r\\n\\r\\n* You comply with all other terms of this agreement for free\\r\\n  distribution of Project Gutenberg-tm works.\\r\\n\\r\\n1.E.9. If you wish to charge a fee or distribute a Project\\r\\nGutenberg-tm electronic work or group of works on different terms than\\r\\nare set forth in this agreement, you must obtain permission in writing\\r\\nfrom the Project Gutenberg Literary Archive Foundation, the manager of\\r\\nthe Project Gutenberg-tm trademark. Contact the Foundation as set\\r\\nforth in Section 3 below.\\r\\n\\r\\n1.F.\\r\\n\\r\\n1.F.1. Project Gutenberg volunteers and employees expend considerable\\r\\neffort to identify, do copyright research on, transcribe and proofread\\r\\nworks not protected by U.S. copyright law in creating the Project\\r\\nGutenberg-tm collection. Despite these efforts, Project Gutenberg-tm\\r\\nelectronic works, and the medium on which they may be stored, may\\r\\ncontain \"Defects,\" such as, but not limited to, incomplete, inaccurate\\r\\nor corrupt data, transcription errors, a copyright or other\\r\\nintellectual property infringement, a defective or damaged disk or\\r\\nother medium, a computer virus, or computer codes that damage or\\r\\ncannot be read by your equipment.\\r\\n\\r\\n1.F.2. LIMITED WARRANTY, DISCLAIMER OF DAMAGES - Except for the \"Right\\r\\nof Replacement or Refund\" described in paragraph 1.F.3, the Project\\r\\nGutenberg Literary Archive Foundation, the owner of the Project\\r\\nGutenberg-tm trademark, and any other party distributing a Project\\r\\nGutenberg-tm electronic work under this agreement, disclaim all\\r\\nliability to you for damages, costs and expenses, including legal\\r\\nfees. YOU AGREE THAT YOU HAVE NO REMEDIES FOR NEGLIGENCE, STRICT\\r\\nLIABILITY, BREACH OF WARRANTY OR BREACH OF CONTRACT EXCEPT THOSE\\r\\nPROVIDED IN PARAGRAPH 1.F.3. YOU AGREE THAT THE FOUNDATION, THE\\r\\nTRADEMARK OWNER, AND ANY DISTRIBUTOR UNDER THIS AGREEMENT WILL NOT BE\\r\\nLIABLE TO YOU FOR ACTUAL, DIRECT, INDIRECT, CONSEQUENTIAL, PUNITIVE OR\\r\\nINCIDENTAL DAMAGES EVEN IF YOU GIVE NOTICE OF THE POSSIBILITY OF SUCH\\r\\nDAMAGE.\\r\\n\\r\\n1.F.3. LIMITED RIGHT OF REPLACEMENT OR REFUND - If you discover a\\r\\ndefect in this electronic work within 90 days of receiving it, you can\\r\\nreceive a refund of the money (if any) you paid for it by sending a\\r\\nwritten explanation to the person you received the work from. If you\\r\\nreceived the work on a physical medium, you must return the medium\\r\\nwith your written explanation. The person or entity that provided you\\r\\nwith the defective work may elect to provide a replacement copy in\\r\\nlieu of a refund. If you received the work electronically, the person\\r\\nor entity providing it to you may choose to give you a second\\r\\nopportunity to receive the work electronically in lieu of a refund. If\\r\\nthe second copy is also defective, you may demand a refund in writing\\r\\nwithout further opportunities to fix the problem.\\r\\n\\r\\n1.F.4. Except for the limited right of replacement or refund set forth\\r\\nin paragraph 1.F.3, this work is provided to you \\'AS-IS\\', WITH NO\\r\\nOTHER WARRANTIES OF ANY KIND, EXPRESS OR IMPLIED, INCLUDING BUT NOT\\r\\nLIMITED TO WARRANTIES OF MERCHANTABILITY OR FITNESS FOR ANY PURPOSE.\\r\\n\\r\\n1.F.5. Some states do not allow disclaimers of certain implied\\r\\nwarranties or the exclusion or limitation of certain types of\\r\\ndamages. If any disclaimer or limitation set forth in this agreement\\r\\nviolates the law of the state applicable to this agreement, the\\r\\nagreement shall be interpreted to make the maximum disclaimer or\\r\\nlimitation permitted by the applicable state law. The invalidity or\\r\\nunenforceability of any provision of this agreement shall not void the\\r\\nremaining provisions.\\r\\n\\r\\n1.F.6. INDEMNITY - You agree to indemnify and hold the Foundation, the\\r\\ntrademark owner, any agent or employee of the Foundation, anyone\\r\\nproviding copies of Project Gutenberg-tm electronic works in\\r\\naccordance with this agreement, and any volunteers associated with the\\r\\nproduction, promotion and distribution of Project Gutenberg-tm\\r\\nelectronic works, harmless from all liability, costs and expenses,\\r\\nincluding legal fees, that arise directly or indirectly from any of\\r\\nthe following which you do or cause to occur: (a) distribution of this\\r\\nor any Project Gutenberg-tm work, (b) alteration, modification, or\\r\\nadditions or deletions to any Project Gutenberg-tm work, and (c) any\\r\\nDefect you cause.\\r\\n\\r\\nSection 2. Information about the Mission of Project Gutenberg-tm\\r\\n\\r\\nProject Gutenberg-tm is synonymous with the free distribution of\\r\\nelectronic works in formats readable by the widest variety of\\r\\ncomputers including obsolete, old, middle-aged and new computers. It\\r\\nexists because of the efforts of hundreds of volunteers and donations\\r\\nfrom people in all walks of life.\\r\\n\\r\\nVolunteers and financial support to provide volunteers with the\\r\\nassistance they need are critical to reaching Project Gutenberg-tm\\'s\\r\\ngoals and ensuring that the Project Gutenberg-tm collection will\\r\\nremain freely available for generations to come. In 2001, the Project\\r\\nGutenberg Literary Archive Foundation was created to provide a secure\\r\\nand permanent future for Project Gutenberg-tm and future\\r\\ngenerations. To learn more about the Project Gutenberg Literary\\r\\nArchive Foundation and how your efforts and donations can help, see\\r\\nSections 3 and 4 and the Foundation information page at\\r\\nwww.gutenberg.org\\r\\n\\r\\nSection 3. Information about the Project Gutenberg Literary\\r\\nArchive Foundation\\r\\n\\r\\nThe Project Gutenberg Literary Archive Foundation is a non-profit\\r\\n501(c)(3) educational corporation organized under the laws of the\\r\\nstate of Mississippi and granted tax exempt status by the Internal\\r\\nRevenue Service. The Foundation\\'s EIN or federal tax identification\\r\\nnumber is 64-6221541. Contributions to the Project Gutenberg Literary\\r\\nArchive Foundation are tax deductible to the full extent permitted by\\r\\nU.S. federal laws and your state\\'s laws.\\r\\n\\r\\nThe Foundation\\'s business office is located at 809 North 1500 West,\\r\\nSalt Lake City, UT 84116, (801) 596-1887. Email contact links and up\\r\\nto date contact information can be found at the Foundation\\'s website\\r\\nand official page at www.gutenberg.org/contact\\r\\n\\r\\nSection 4. Information about Donations to the Project Gutenberg\\r\\nLiterary Archive Foundation\\r\\n\\r\\nProject Gutenberg-tm depends upon and cannot survive without\\r\\nwidespread public support and donations to carry out its mission of\\r\\nincreasing the number of public domain and licensed works that can be\\r\\nfreely distributed in machine-readable form accessible by the widest\\r\\narray of equipment including outdated equipment. Many small donations\\r\\n($1 to $5,000) are particularly important to maintaining tax exempt\\r\\nstatus with the IRS.\\r\\n\\r\\nThe Foundation is committed to complying with the laws regulating\\r\\ncharities and charitable donations in all 50 states of the United\\r\\nStates. Compliance requirements are not uniform and it takes a\\r\\nconsiderable effort, much paperwork and many fees to meet and keep up\\r\\nwith these requirements. We do not solicit donations in locations\\r\\nwhere we have not received written confirmation of compliance. To SEND\\r\\nDONATIONS or determine the status of compliance for any particular\\r\\nstate visit www.gutenberg.org/donate\\r\\n\\r\\nWhile we cannot and do not solicit contributions from states where we\\r\\nhave not met the solicitation requirements, we know of no prohibition\\r\\nagainst accepting unsolicited donations from donors in such states who\\r\\napproach us with offers to donate.\\r\\n\\r\\nInternational donations are gratefully accepted, but we cannot make\\r\\nany statements concerning tax treatment of donations received from\\r\\noutside the United States. U.S. laws alone swamp our small staff.\\r\\n\\r\\nPlease check the Project Gutenberg web pages for current donation\\r\\nmethods and addresses. Donations are accepted in a number of other\\r\\nways including checks, online payments and credit card donations. To\\r\\ndonate, please visit: www.gutenberg.org/donate\\r\\n\\r\\nSection 5. General Information About Project Gutenberg-tm electronic works\\r\\n\\r\\nProfessor Michael S. Hart was the originator of the Project\\r\\nGutenberg-tm concept of a library of electronic works that could be\\r\\nfreely shared with anyone. For forty years, he produced and\\r\\ndistributed Project Gutenberg-tm eBooks with only a loose network of\\r\\nvolunteer support.\\r\\n\\r\\nProject Gutenberg-tm eBooks are often created from several printed\\r\\neditions, all of which are confirmed as not protected by copyright in\\r\\nthe U.S. unless a copyright notice is included. Thus, we do not\\r\\nnecessarily keep eBooks in compliance with any particular paper\\r\\nedition.\\r\\n\\r\\nMost people start at our website which has the main PG search\\r\\nfacility: www.gutenberg.org\\r\\n\\r\\nThis website includes information about Project Gutenberg-tm,\\r\\nincluding how to make donations to the Project Gutenberg Literary\\r\\nArchive Foundation, how to help produce our new eBooks, and how to\\r\\nsubscribe to our email newsletter to hear about new eBooks.\\r\\n\\r\\n'"
            ],
            "application/vnd.google.colaboratory.intrinsic+json": {
              "type": "string"
            }
          },
          "metadata": {},
          "execution_count": 8
        }
      ]
    },
    {
      "cell_type": "code",
      "metadata": {
        "id": "pW4mj8eScqLN"
      },
      "source": [
        "# check the data type of `raw_text_data`\n",
        "assert(type(raw_text_data)==str)"
      ],
      "execution_count": null,
      "outputs": []
    },
    {
      "cell_type": "markdown",
      "metadata": {
        "id": "DwAX_OwEcqLN"
      },
      "source": [
        "### Data Cleaning"
      ]
    },
    {
      "cell_type": "code",
      "metadata": {
        "id": "4j7G1zqncqLO",
        "colab": {
          "base_uri": "https://localhost:8080/",
          "height": 126
        },
        "outputId": "5edcf00d-76e3-4db6-9040-cd99956aa804"
      },
      "source": [
        "# as usual, we need to clean up the messy data\n",
        "raw_text_data[:3000]"
      ],
      "execution_count": null,
      "outputs": [
        {
          "output_type": "execute_result",
          "data": {
            "text/plain": [
              "'\\ufeffThe Project Gutenberg eBook of The Sonnets, by William Shakespeare\\r\\n\\r\\nThis eBook is for the use of anyone anywhere in the United States and\\r\\nmost other parts of the world at no cost and with almost no restrictions\\r\\nwhatsoever. You may copy it, give it away or re-use it under the terms\\r\\nof the Project Gutenberg License included with this eBook or online at\\r\\nwww.gutenberg.org. If you are not located in the United States, you\\r\\nwill have to check the laws of the country where you are located before\\r\\nusing this eBook.\\r\\n\\r\\nTitle: The Sonnets\\r\\n\\r\\nAuthor: William Shakespeare\\r\\n\\r\\nRelease Date: September, 1997 [eBook #1041]\\r\\n[Most recently updated: December 3, 2022]\\r\\n\\r\\nLanguage: English\\r\\n\\r\\n\\r\\nProduced by:  the Project Gutenberg Shakespeare Team\\r\\n\\r\\n*** START OF THE PROJECT GUTENBERG EBOOK THE SONNETS ***\\r\\n\\r\\n\\r\\n\\r\\n\\r\\nTHE SONNETS\\r\\n\\r\\nby William Shakespeare\\r\\n\\r\\n\\r\\n\\r\\n\\r\\nI\\r\\n\\r\\nFrom fairest creatures we desire increase,\\r\\nThat thereby beauty’s rose might never die,\\r\\nBut as the riper should by time decease,\\r\\nHis tender heir might bear his memory:\\r\\nBut thou, contracted to thine own bright eyes,\\r\\nFeed’st thy light’s flame with self-substantial fuel,\\r\\nMaking a famine where abundance lies,\\r\\nThyself thy foe, to thy sweet self too cruel:\\r\\nThou that art now the world’s fresh ornament,\\r\\nAnd only herald to the gaudy spring,\\r\\nWithin thine own bud buriest thy content,\\r\\nAnd tender churl mak’st waste in niggarding:\\r\\n    Pity the world, or else this glutton be,\\r\\n    To eat the world’s due, by the grave and thee.\\r\\n\\r\\nII\\r\\n\\r\\nWhen forty winters shall besiege thy brow,\\r\\nAnd dig deep trenches in thy beauty’s field,\\r\\nThy youth’s proud livery so gazed on now,\\r\\nWill be a tatter’d weed of small worth held:\\r\\nThen being asked, where all thy beauty lies,\\r\\nWhere all the treasure of thy lusty days;\\r\\nTo say, within thine own deep sunken eyes,\\r\\nWere an all-eating shame, and thriftless praise.\\r\\nHow much more praise deserv’d thy beauty’s use,\\r\\nIf thou couldst answer ‘This fair child of mine\\r\\nShall sum my count, and make my old excuse,’\\r\\nProving his beauty by succession thine!\\r\\n    This were to be new made when thou art old,\\r\\n    And see thy blood warm when thou feel’st it cold.\\r\\n\\r\\nIII\\r\\n\\r\\nLook in thy glass and tell the face thou viewest\\r\\nNow is the time that face should form another;\\r\\nWhose fresh repair if now thou not renewest,\\r\\nThou dost beguile the world, unbless some mother.\\r\\nFor where is she so fair whose unear’d womb\\r\\nDisdains the tillage of thy husbandry?\\r\\nOr who is he so fond will be the tomb,\\r\\nOf his self-love to stop posterity?\\r\\nThou art thy mother’s glass and she in thee\\r\\nCalls back the lovely April of her prime;\\r\\nSo thou through windows of thine age shalt see,\\r\\nDespite of wrinkles this thy golden time.\\r\\n    But if thou live, remember’d not to be,\\r\\n    Die single and thine image dies with thee.\\r\\n\\r\\nIV\\r\\n\\r\\nUnthrifty loveliness, why dost thou spend\\r\\nUpon thyself thy beauty’s legacy?\\r\\nNature’s bequest gives nothing, but doth lend,\\r\\nAnd being frank she lends to those are free:\\r\\nThen, beauteous niggard, wh'"
            ],
            "application/vnd.google.colaboratory.intrinsic+json": {
              "type": "string"
            }
          },
          "metadata": {},
          "execution_count": 10
        }
      ]
    },
    {
      "cell_type": "code",
      "metadata": {
        "deletable": false,
        "nbgrader": {
          "cell_type": "code",
          "checksum": "13b66e41cc64459f0757f6f53a78e08f",
          "grade": false,
          "grade_id": "cell-916f742d2cea299a",
          "locked": false,
          "schema_version": 3,
          "solution": true,
          "task": false
        },
        "id": "JolH-nrVcqLP"
      },
      "source": [
        "# Which characters could we use with the split() method to split the text into lines?\n",
        "\n",
        "# split the text into **lines** and save the result to `split_data`\n",
        "split_data = raw_text_data.split(\"\\n\")\n",
        "\n",
        "# YOUR CODE HERE\n",
        "#raise NotImplementedError()"
      ],
      "execution_count": null,
      "outputs": []
    },
    {
      "cell_type": "code",
      "metadata": {
        "id": "UuGAL77acqLQ",
        "outputId": "d08c46cf-7545-4616-8e5b-d60977baee06",
        "colab": {
          "base_uri": "https://localhost:8080/"
        }
      },
      "source": [
        "# we need to drop all the boiler plate text (i.e. titles and descriptions) as well as extra white spaces\n",
        "# so that we are left with only the sonnets themselves \n",
        "split_data = [x.replace(\"\\r\", \"\") for x in split_data]\n",
        "split_data = [x.replace(\",\", \"\") for x in split_data]\n",
        "split_data[:80] "
      ],
      "execution_count": null,
      "outputs": [
        {
          "output_type": "execute_result",
          "data": {
            "text/plain": [
              "['From fairest creatures we desire increase',\n",
              " 'That thereby beauty’s rose might never die',\n",
              " 'But as the riper should by time decease',\n",
              " 'His tender heir might bear his memory:',\n",
              " 'But thou contracted to thine own bright eyes',\n",
              " 'Feed’st thy light’s flame with self-substantial fuel',\n",
              " 'Making a famine where abundance lies',\n",
              " 'Thyself thy foe to thy sweet self too cruel:',\n",
              " 'Thou that art now the world’s fresh ornament',\n",
              " 'And only herald to the gaudy spring',\n",
              " 'Within thine own bud buriest thy content',\n",
              " 'And tender churl mak’st waste in niggarding:',\n",
              " '    Pity the world or else this glutton be',\n",
              " '    To eat the world’s due by the grave and thee.',\n",
              " '',\n",
              " 'II',\n",
              " '',\n",
              " 'When forty winters shall besiege thy brow',\n",
              " 'And dig deep trenches in thy beauty’s field',\n",
              " 'Thy youth’s proud livery so gazed on now',\n",
              " 'Will be a tatter’d weed of small worth held:',\n",
              " 'Then being asked where all thy beauty lies',\n",
              " 'Where all the treasure of thy lusty days;',\n",
              " 'To say within thine own deep sunken eyes',\n",
              " 'Were an all-eating shame and thriftless praise.',\n",
              " 'How much more praise deserv’d thy beauty’s use',\n",
              " 'If thou couldst answer ‘This fair child of mine',\n",
              " 'Shall sum my count and make my old excuse’',\n",
              " 'Proving his beauty by succession thine!',\n",
              " '    This were to be new made when thou art old',\n",
              " '    And see thy blood warm when thou feel’st it cold.',\n",
              " '',\n",
              " 'III',\n",
              " '',\n",
              " 'Look in thy glass and tell the face thou viewest',\n",
              " 'Now is the time that face should form another;',\n",
              " 'Whose fresh repair if now thou not renewest',\n",
              " 'Thou dost beguile the world unbless some mother.',\n",
              " 'For where is she so fair whose unear’d womb',\n",
              " 'Disdains the tillage of thy husbandry?',\n",
              " 'Or who is he so fond will be the tomb',\n",
              " 'Of his self-love to stop posterity?',\n",
              " 'Thou art thy mother’s glass and she in thee',\n",
              " 'Calls back the lovely April of her prime;',\n",
              " 'So thou through windows of thine age shalt see',\n",
              " 'Despite of wrinkles this thy golden time.',\n",
              " '    But if thou live remember’d not to be',\n",
              " '    Die single and thine image dies with thee.',\n",
              " '',\n",
              " 'IV',\n",
              " '',\n",
              " 'Unthrifty loveliness why dost thou spend',\n",
              " 'Upon thyself thy beauty’s legacy?',\n",
              " 'Nature’s bequest gives nothing but doth lend',\n",
              " 'And being frank she lends to those are free:',\n",
              " 'Then beauteous niggard why dost thou abuse',\n",
              " 'The bounteous largess given thee to give?',\n",
              " 'Profitless usurer why dost thou use',\n",
              " 'So great a sum of sums yet canst not live?',\n",
              " 'For having traffic with thyself alone',\n",
              " 'Thou of thyself thy sweet self dost deceive:',\n",
              " 'Then how when nature calls thee to be gone',\n",
              " 'What acceptable audit canst thou leave?',\n",
              " '    Thy unused beauty must be tombed with thee',\n",
              " '    Which used lives th’ executor to be.',\n",
              " '',\n",
              " 'V',\n",
              " '',\n",
              " 'Those hours that with gentle work did frame',\n",
              " 'The lovely gaze where every eye doth dwell',\n",
              " 'Will play the tyrants to the very same',\n",
              " 'And that unfair which fairly doth excel;',\n",
              " 'For never-resting time leads summer on',\n",
              " 'To hideous winter and confounds him there;',\n",
              " 'Sap checked with frost and lusty leaves quite gone',\n",
              " 'Beauty o’er-snowed and bareness every where:',\n",
              " 'Then were not summer’s distillation left',\n",
              " 'A liquid prisoner pent in walls of glass',\n",
              " 'Beauty’s effect with beauty were bereft',\n",
              " 'Nor it nor no remembrance what it was:']"
            ]
          },
          "metadata": {},
          "execution_count": 23
        }
      ]
    },
    {
      "cell_type": "markdown",
      "metadata": {
        "id": "5fsYTC76cqLQ"
      },
      "source": [
        "**Use list index slicing to remove the titles and descriptions, so we only have the sonnets.**\n"
      ]
    },
    {
      "cell_type": "code",
      "metadata": {
        "deletable": false,
        "nbgrader": {
          "cell_type": "code",
          "checksum": "00ead0a1024ff72116c24f6b473c1aac",
          "grade": false,
          "grade_id": "cell-1f388b88b0eec24a",
          "locked": false,
          "schema_version": 3,
          "solution": true,
          "task": false
        },
        "id": "NLaFgX08cqLR"
      },
      "source": [
        "# we need to drop all the boilerplate text (i.e., titles and descriptions) as well as extra white spaces\n",
        "# so that we are left with only the sonnets themselves \n",
        "\n",
        "# find index boundaries (start, end)so that \n",
        "# sonnets exist between these indices \n",
        "# titles and descriptions exist outside of these indices\n",
        "\n",
        "# use index slicing to isolate the sonnet lines from the text - save the result to `sonnets`s\n",
        "sonnets = split_data[36:]\n",
        "# YOUR CODE HERE\n",
        "#raise NotImplementedError()"
      ],
      "execution_count": null,
      "outputs": []
    },
    {
      "cell_type": "markdown",
      "metadata": {
        "id": "_mJReim_43Ma"
      },
      "source": [
        "Notice that there are many lines that should not be counted as sonnets!"
      ]
    },
    {
      "cell_type": "code",
      "metadata": {
        "id": "th9BuvVlcqLR",
        "outputId": "7b83f90f-ddd0-4e13-e7b0-57e81aa3d4ba",
        "colab": {
          "base_uri": "https://localhost:8080/"
        }
      },
      "source": [
        "# these non-sonnet lines have far fewer characters than the actual sonnet lines?\n",
        "\n",
        "sonnets[200:240]"
      ],
      "execution_count": null,
      "outputs": [
        {
          "output_type": "execute_result",
          "data": {
            "text/plain": [
              "['',\n",
              " 'XV',\n",
              " '',\n",
              " 'When I consider everything that grows',\n",
              " 'Holds in perfection but a little moment',\n",
              " 'That this huge stage presenteth nought but shows',\n",
              " 'Whereon the stars in secret influence comment;',\n",
              " 'When I perceive that men as plants increase',\n",
              " 'Cheered and checked even by the self-same sky',\n",
              " 'Vaunt in their youthful sap at height decrease',\n",
              " 'And wear their brave state out of memory;',\n",
              " 'Then the conceit of this inconstant stay',\n",
              " 'Sets you most rich in youth before my sight',\n",
              " 'Where wasteful Time debateth with Decay',\n",
              " 'To change your day of youth to sullied night',\n",
              " '    And all in war with Time for love of you',\n",
              " '    As he takes from you I engraft you new.',\n",
              " '',\n",
              " 'XVI',\n",
              " '',\n",
              " 'But wherefore do not you a mightier way',\n",
              " 'Make war upon this bloody tyrant Time?',\n",
              " 'And fortify yourself in your decay',\n",
              " 'With means more blessed than my barren rhyme?',\n",
              " 'Now stand you on the top of happy hours',\n",
              " 'And many maiden gardens yet unset',\n",
              " 'With virtuous wish would bear you living flowers',\n",
              " 'Much liker than your painted counterfeit:',\n",
              " 'So should the lines of life that life repair',\n",
              " 'Which this Time’s pencil or my pupil pen',\n",
              " 'Neither in inward worth nor outward fair',\n",
              " 'Can make you live yourself in eyes of men.',\n",
              " '    To give away yourself keeps yourself still',\n",
              " '    And you must live drawn by your own sweet skill.',\n",
              " '',\n",
              " 'XVII',\n",
              " '',\n",
              " 'Who will believe my verse in time to come',\n",
              " 'If it were fill’d with your most high deserts?',\n",
              " 'Though yet heaven knows it is but as a tomb']"
            ]
          },
          "metadata": {},
          "execution_count": 25
        }
      ]
    },
    {
      "cell_type": "code",
      "metadata": {
        "deletable": false,
        "nbgrader": {
          "cell_type": "code",
          "checksum": "649cf52260448a5faf539ad6b6e8e6e8",
          "grade": false,
          "grade_id": "cell-84c4b3cf1f3c032a",
          "locked": false,
          "schema_version": 3,
          "solution": true,
          "task": false
        },
        "id": "OiOfyPexcqLS"
      },
      "source": [
        "# use your judgement to decide on a good value for  \n",
        "#   the  minimum number of characters that a sonnet should have\n",
        "#   call it n_chars\n",
        "n_chars = 1000\n",
        "\n",
        "# Let's use that observation to filter out all the non-sonnet lines!\n",
        "#    save results to `filtered_sonnets`\n",
        "# Hint: use a list comprehension\n",
        "filtered_sonnets = []\n",
        "tot_char = 0\n",
        "for x in sonnets:\n",
        "  tot_char = tot_char + len(x)\n",
        "  if tot_char < n_chars:\n",
        "    filtered_sonnets.append(x)\n",
        "\n",
        "\n",
        "\n",
        "# YOUR CODE HERE\n",
        "#raise NotImplementedError()"
      ],
      "execution_count": null,
      "outputs": []
    },
    {
      "cell_type": "code",
      "metadata": {
        "id": "xW_AFhCUcqLS",
        "outputId": "e0ca4b95-35b1-4264-a954-5418eae0bc7c",
        "colab": {
          "base_uri": "https://localhost:8080/"
        }
      },
      "source": [
        "# ok - much better!\n",
        "# but we still need to remove all the punctuation and case normalize the text\n",
        "filtered_sonnets = [s.lower().replace(\";\", \"\").replace(\":\",\"\").replace(\",\",\"\") for s in filtered_sonnets]\n",
        "filtered_sonnets"
      ],
      "execution_count": null,
      "outputs": [
        {
          "output_type": "execute_result",
          "data": {
            "text/plain": [
              "['whose fresh repair if now thou not renewest',\n",
              " 'thou dost beguile the world unbless some mother.',\n",
              " 'for where is she so fair whose unear’d womb',\n",
              " 'disdains the tillage of thy husbandry?',\n",
              " 'or who is he so fond will be the tomb',\n",
              " 'of his self-love to stop posterity?',\n",
              " 'thou art thy mother’s glass and she in thee',\n",
              " 'calls back the lovely april of her prime',\n",
              " 'so thou through windows of thine age shalt see',\n",
              " 'despite of wrinkles this thy golden time.',\n",
              " '    but if thou live remember’d not to be',\n",
              " '    die single and thine image dies with thee.',\n",
              " '',\n",
              " 'iv',\n",
              " '',\n",
              " 'unthrifty loveliness why dost thou spend',\n",
              " 'upon thyself thy beauty’s legacy?',\n",
              " 'nature’s bequest gives nothing but doth lend',\n",
              " 'and being frank she lends to those are free',\n",
              " 'then beauteous niggard why dost thou abuse',\n",
              " 'the bounteous largess given thee to give?',\n",
              " 'profitless usurer why dost thou use',\n",
              " 'so great a sum of sums yet canst not live?',\n",
              " 'for having traffic with thyself alone',\n",
              " 'thou of thyself thy sweet self dost deceive',\n",
              " 'then how when nature calls thee to be gone',\n",
              " 'what acceptable audit canst thou leave?']"
            ]
          },
          "metadata": {},
          "execution_count": 31
        }
      ]
    },
    {
      "cell_type": "markdown",
      "metadata": {
        "id": "1iD4oqhVcqLT"
      },
      "source": [
        "### Use Custom Data Cleaning Tool \n",
        "\n",
        "Use one of the methods in the `data_cleaning_toolkit` to clean your data.\n",
        "\n",
        "There is an example of this in the guided project."
      ]
    },
    {
      "cell_type": "code",
      "metadata": {
        "deletable": false,
        "nbgrader": {
          "cell_type": "code",
          "checksum": "a722083a29139936744ff9a341e1c9a3",
          "grade": false,
          "grade_id": "cell-775c14b456d8a724",
          "locked": false,
          "schema_version": 3,
          "solution": true,
          "task": false
        },
        "id": "S7V1Q0h_cqLT"
      },
      "source": [
        "# instantiate the data_cleaning_toolkit class - save result to `dctk`\n",
        "dctk = data_cleaning_toolkit()\n",
        "# YOUR CODE HERE\n",
        "#raise NotImplementedError()"
      ],
      "execution_count": null,
      "outputs": []
    },
    {
      "cell_type": "code",
      "metadata": {
        "deletable": false,
        "nbgrader": {
          "cell_type": "code",
          "checksum": "ab91e612cd08068f3a36172979157d5d",
          "grade": false,
          "grade_id": "cell-684010b6a7360876",
          "locked": false,
          "schema_version": 3,
          "solution": true,
          "task": false
        },
        "id": "YquHh21GcqLT"
      },
      "source": [
        "# use data_cleaning_toolkit to remove punctuation and to case normalize - save results to `clean_sonnets`\n",
        "clean_sonnets = [dctk.clean_data(s) for s in filtered_sonnets]\n",
        "# YOUR CODE HERE\n",
        "#raise NotImplementedError()\n"
      ],
      "execution_count": null,
      "outputs": []
    },
    {
      "cell_type": "code",
      "metadata": {
        "id": "dN3vWjofcqLT",
        "outputId": "70c616cf-06f9-4f92-ebe8-553c155b9674",
        "colab": {
          "base_uri": "https://localhost:8080/",
          "height": 521
        }
      },
      "source": [
        "# much better!\n",
        "display(clean_sonnets)\n",
        "print(len(clean_sonnets))\n"
      ],
      "execution_count": null,
      "outputs": [
        {
          "output_type": "display_data",
          "data": {
            "text/plain": [
              "['whose fresh repair if now thou not renewest',\n",
              " 'thou dost beguile the world unbless some mother',\n",
              " 'for where is she so fair whose uneard womb',\n",
              " 'disdains the tillage of thy husbandry',\n",
              " 'or who is he so fond will be the tomb',\n",
              " 'of his selflove to stop posterity',\n",
              " 'thou art thy mothers glass and she in thee',\n",
              " 'calls back the lovely april of her prime',\n",
              " 'so thou through windows of thine age shalt see',\n",
              " 'despite of wrinkles this thy golden time',\n",
              " 'but if thou live rememberd not to be',\n",
              " 'die single and thine image dies with thee',\n",
              " '',\n",
              " 'iv',\n",
              " '',\n",
              " 'unthrifty loveliness why dost thou spend',\n",
              " 'upon thyself thy beautys legacy',\n",
              " 'natures bequest gives nothing but doth lend',\n",
              " 'and being frank she lends to those are free',\n",
              " 'then beauteous niggard why dost thou abuse',\n",
              " 'the bounteous largess given thee to give',\n",
              " 'profitless usurer why dost thou use',\n",
              " 'so great a sum of sums yet canst not live',\n",
              " 'for having traffic with thyself alone',\n",
              " 'thou of thyself thy sweet self dost deceive',\n",
              " 'then how when nature calls thee to be gone',\n",
              " 'what acceptable audit canst thou leave']"
            ]
          },
          "metadata": {}
        },
        {
          "output_type": "stream",
          "name": "stdout",
          "text": [
            "27\n"
          ]
        }
      ]
    },
    {
      "cell_type": "markdown",
      "metadata": {
        "id": "WSfirtmYcqLT"
      },
      "source": [
        "### Use Your Data Tool to Create Character Sequences \n",
        "for the LSTM model\n",
        "\n",
        "We'll need the `create_char_sequences` method for this task. <br>\n",
        "However, this method requires a parameter called `maxlen,` which is responsible for setting the maximum sequence length. \n",
        "\n",
        "So what would be a good sequence length, exactly? \n",
        "\n",
        "To answer that question, let's do some statistics! "
      ]
    },
    {
      "cell_type": "code",
      "metadata": {
        "deletable": false,
        "nbgrader": {
          "cell_type": "code",
          "checksum": "1deebea2ada0a7dc7d2eb08295ee1e2b",
          "grade": false,
          "grade_id": "cell-9ebdaa2654dd29ab",
          "locked": false,
          "schema_version": 3,
          "solution": true,
          "task": false
        },
        "id": "O7Buzpw3cqLU"
      },
      "source": [
        "def calc_stats(corpus):\n",
        "    \"\"\"\n",
        "    Calculates statistics on the length of every line in the sonnets\n",
        "    \"\"\"\n",
        "    \n",
        "    # write a list comprehension that calculates each sonnet's line length - save the results to `doc_lens` \n",
        "    doc_lens = [len(x.split()) for x in clean_sonnets]\n",
        "    # use numpy to calculate and return the mean, median, std, max, min of the doc lens - all in one line of code\n",
        "    mean, median, std, max, min = np.mean(doc_lens), np.median(doc_lens), np.std(doc_lens), np.max(doc_lens), np.min(doc_lens)\n",
        "    return (mean, median, std, max, min)\n",
        "    # YOUR CODE HERE\n",
        "    #raise NotImplementedError()\n"
      ],
      "execution_count": null,
      "outputs": []
    },
    {
      "cell_type": "code",
      "metadata": {
        "id": "6DGCJO_QcqLU",
        "outputId": "a0c65446-8e16-42e2-a711-1c3cf833c5be",
        "colab": {
          "base_uri": "https://localhost:8080/"
        }
      },
      "source": [
        "# sonnet line length statistics \n",
        "mean, med, std, max_, min_ = calc_stats(clean_sonnets)\n",
        "mean, med, std, max_, min_ "
      ],
      "execution_count": null,
      "outputs": [
        {
          "output_type": "execute_result",
          "data": {
            "text/plain": [
              "(6.777777777777778, 7.0, 2.629368792488718, 10, 0)"
            ]
          },
          "metadata": {},
          "execution_count": 47
        }
      ]
    },
    {
      "cell_type": "code",
      "metadata": {
        "deletable": false,
        "nbgrader": {
          "cell_type": "code",
          "checksum": "690957e46b6f2f32c1f17756d8ceab5b",
          "grade": false,
          "grade_id": "cell-35185e26897aad7e",
          "locked": false,
          "schema_version": 3,
          "solution": true,
          "task": false
        },
        "id": "WOCylsbLcqLU",
        "outputId": "873a2934-4e30-4a58-eda4-dd73e08600d9",
        "colab": {
          "base_uri": "https://localhost:8080/"
        }
      },
      "source": [
        "# from the results of the sonnet line length statistics, use your judgement to select a value for maxlen\n",
        "#   hint -- a good value might be half the median length of a sonnet line\n",
        "# use .create_char_sequences() to create sequences\n",
        "maxlen = 7\n",
        "dctk.create_char_sequences(clean_sonnets)\n",
        "# YOUR CODE HERE\n",
        "#raise NotImplementedError()"
      ],
      "execution_count": null,
      "outputs": [
        {
          "output_type": "stream",
          "name": "stdout",
          "text": [
            "Created 194 sequences.\n"
          ]
        }
      ]
    },
    {
      "cell_type": "markdown",
      "metadata": {
        "id": "1hutUpE9cqLV"
      },
      "source": [
        "Take a look at the `data_cleaning_toolkit_class.py` file. \n",
        "\n",
        "In the first 4 lines of code in the `create_char_sequences` method, class attributes `n_features` and `unique_chars` are created. <br>\n",
        "Let's call them in the cells below."
      ]
    },
    {
      "cell_type": "code",
      "metadata": {
        "id": "C8BNLJuhcqLV",
        "outputId": "e58333d5-6973-4798-f3b6-a0883a319226",
        "colab": {
          "base_uri": "https://localhost:8080/"
        }
      },
      "source": [
        "# number of input features for our LSTM model\n",
        "dctk.n_features"
      ],
      "execution_count": null,
      "outputs": [
        {
          "output_type": "execute_result",
          "data": {
            "text/plain": [
              "24"
            ]
          },
          "metadata": {},
          "execution_count": 50
        }
      ]
    },
    {
      "cell_type": "code",
      "metadata": {
        "id": "uQrPRQy3cqLV",
        "outputId": "717ecb95-b97c-4a9b-ba55-1f57dc817cfe",
        "colab": {
          "base_uri": "https://localhost:8080/"
        }
      },
      "source": [
        "# unique characters that appear in our sonnets \n",
        "len(dctk.unique_chars)"
      ],
      "execution_count": null,
      "outputs": [
        {
          "output_type": "execute_result",
          "data": {
            "text/plain": [
              "24"
            ]
          },
          "metadata": {},
          "execution_count": 52
        }
      ]
    },
    {
      "cell_type": "markdown",
      "metadata": {
        "id": "x5EaCiiBcqLV"
      },
      "source": [
        "## Time for Questions \n",
        "\n",
        "----\n",
        "**Question 1:** \n",
        "\n",
        "Why are the `number of unique characters` (i.e., **dctk.unique_chars**) and the `number of model input features` (i.e., **dctk.n_features**) the same?\n",
        "because that is the number of weights learned from the data.\n",
        "\n",
        "**Hint:** The model that we will shortly build here is very similar to the text generation model we built in the guided project."
      ]
    },
    {
      "cell_type": "markdown",
      "metadata": {
        "id": "n-ke3hsFcqLV"
      },
      "source": [
        "**Answer 1:**\n",
        "\n",
        "because that is the number corresponding to the weights learned from the data."
      ]
    },
    {
      "cell_type": "markdown",
      "metadata": {
        "id": "aPiNJ6FmcqLW"
      },
      "source": [
        "\n",
        "**Question 2:**\n",
        "\n",
        "Take a look at the printout of `dctk.unique_chars` one more time. Notice that there is a white space. \n",
        "\n",
        "Why is it desirable to have a white space as a possible character to predict?"
      ]
    },
    {
      "cell_type": "markdown",
      "metadata": {
        "id": "T1yVqEWZcqLW"
      },
      "source": [
        "**Answer 2:**\n",
        "\n",
        "because we need to separate words."
      ]
    },
    {
      "cell_type": "markdown",
      "metadata": {
        "id": "pAwB6dLHcqLW"
      },
      "source": [
        "----"
      ]
    },
    {
      "cell_type": "markdown",
      "metadata": {
        "id": "xXZMkLckcqLW"
      },
      "source": [
        "### Use Our Data Tool to Create X and Y Splits\n",
        "\n",
        "You'll need the `create_X_and_Y` method for this task. "
      ]
    },
    {
      "cell_type": "code",
      "metadata": {
        "id": "JK-1GQzncqLW"
      },
      "source": [
        "# TODO: provide a walkthrough of data_cleaning_toolkit with unit tests that check for understanding \n",
        "X, y = dctk.create_X_and_Y()"
      ],
      "execution_count": null,
      "outputs": []
    },
    {
      "cell_type": "markdown",
      "metadata": {
        "id": "_gvcygSTcqLW"
      },
      "source": [
        "![](https://miro.medium.com/max/891/0*jGB1CGQ9HdeUwlgB)"
      ]
    },
    {
      "cell_type": "code",
      "metadata": {
        "id": "6xtDCd8wcqLW",
        "outputId": "08c0d664-f372-4bd1-e93d-6b0aca9763a2",
        "colab": {
          "base_uri": "https://localhost:8080/"
        }
      },
      "source": [
        "# notice that our input array isn't a matrix - it's a rank three tensor\n",
        "X.shape"
      ],
      "execution_count": null,
      "outputs": [
        {
          "output_type": "execute_result",
          "data": {
            "text/plain": [
              "(194, 20, 24)"
            ]
          },
          "metadata": {},
          "execution_count": 54
        }
      ]
    },
    {
      "cell_type": "markdown",
      "metadata": {
        "id": "T0_YHHQdcqLX"
      },
      "source": [
        "In $X$.shape, we see three numbers (*n1*, *n2*, *n3*). What do these numbers mean?\n",
        "\n",
        "Well, *n1* tells us the number of samples that we have. But what about the other two?"
      ]
    },
    {
      "cell_type": "code",
      "metadata": {
        "id": "jB-n6_P4cqLX",
        "outputId": "ca66d1a5-c936-487f-c85e-e1f59c7ad591",
        "colab": {
          "base_uri": "https://localhost:8080/"
        }
      },
      "source": [
        "# first index returns a signle sample, which we can see is a sequence \n",
        "first_sample_index = 0 \n",
        "X[first_sample_index]"
      ],
      "execution_count": null,
      "outputs": [
        {
          "output_type": "execute_result",
          "data": {
            "text/plain": [
              "array([[False,  True, False, False, False, False, False, False, False,\n",
              "        False, False, False, False, False, False, False, False, False,\n",
              "        False, False, False, False, False, False],\n",
              "       [False, False, False, False, False, False, False, False,  True,\n",
              "        False, False, False, False, False, False, False, False, False,\n",
              "        False, False, False, False, False, False],\n",
              "       [False, False, False, False, False, False, False, False, False,\n",
              "        False, False, False, False,  True, False, False, False, False,\n",
              "        False, False, False, False, False, False],\n",
              "       [False, False, False, False, False, False, False, False, False,\n",
              "         True, False, False, False, False, False, False, False, False,\n",
              "        False, False, False, False, False, False],\n",
              "       [False, False, False,  True, False, False, False, False, False,\n",
              "        False, False, False, False, False, False, False, False, False,\n",
              "        False, False, False, False, False, False],\n",
              "       [False, False, False, False, False, False, False, False, False,\n",
              "        False, False, False, False, False, False, False, False,  True,\n",
              "        False, False, False, False, False, False],\n",
              "       [False, False, False, False, False, False, False, False, False,\n",
              "        False, False, False, False, False, False, False, False, False,\n",
              "        False, False, False,  True, False, False],\n",
              "       [False, False, False, False, False, False, False, False, False,\n",
              "        False,  True, False, False, False, False, False, False, False,\n",
              "        False, False, False, False, False, False],\n",
              "       [False, False, False,  True, False, False, False, False, False,\n",
              "        False, False, False, False, False, False, False, False, False,\n",
              "        False, False, False, False, False, False],\n",
              "       [False, False, False, False, False, False, False, False, False,\n",
              "         True, False, False, False, False, False, False, False, False,\n",
              "        False, False, False, False, False, False],\n",
              "       [False, False, False, False, False, False, False, False,  True,\n",
              "        False, False, False, False, False, False, False, False, False,\n",
              "        False, False, False, False, False, False],\n",
              "       [False, False, False, False, False, False, False, False, False,\n",
              "        False, False, False, False, False, False, False, False,  True,\n",
              "        False, False, False, False, False, False],\n",
              "       [False, False, False, False, False, False, False, False, False,\n",
              "        False,  True, False, False, False, False, False, False, False,\n",
              "        False, False, False, False, False, False],\n",
              "       [False, False, False,  True, False, False, False, False, False,\n",
              "        False, False, False, False, False, False, False, False, False,\n",
              "        False, False, False, False, False, False],\n",
              "       [False, False, False, False, False, False,  True, False, False,\n",
              "        False, False, False, False, False, False, False, False, False,\n",
              "        False, False, False, False, False, False],\n",
              "       [False, False, False, False, False, False, False, False, False,\n",
              "        False, False, False, False, False, False, False, False, False,\n",
              "        False, False, False, False,  True, False],\n",
              "       [False, False, False, False, False, False, False,  True, False,\n",
              "        False, False, False, False, False, False, False, False, False,\n",
              "        False, False, False, False, False, False],\n",
              "       [False, False, False, False, False, False, False, False, False,\n",
              "        False,  True, False, False, False, False, False, False, False,\n",
              "        False, False, False, False, False, False],\n",
              "       [False, False, False, False, False, False, False, False, False,\n",
              "        False, False, False, False, False, False, False, False,  True,\n",
              "        False, False, False, False, False, False],\n",
              "       [False, False, False, False, False, False, False,  True, False,\n",
              "        False, False, False, False, False, False, False, False, False,\n",
              "        False, False, False, False, False, False]])"
            ]
          },
          "metadata": {},
          "execution_count": 55
        }
      ]
    },
    {
      "cell_type": "markdown",
      "metadata": {
        "id": "A75Caji7cqLX"
      },
      "source": [
        "Notice that each sequence (i.e., $X[i]$ where $i$ is some index value) is `maxlen` long and <br>\n",
        "has a number of features equal to `dctk.n_features`. <br>Let's try to understand this shape."
      ]
    },
    {
      "cell_type": "code",
      "metadata": {
        "id": "Q1E8AFAIcqLX",
        "outputId": "51b156f5-9105-4c8b-9ba7-cc729dc4e5e2",
        "colab": {
          "base_uri": "https://localhost:8080/"
        }
      },
      "source": [
        "# each sequence is maxlen long and has dctk.n_features number of features\n",
        "X[first_sample_index].shape"
      ],
      "execution_count": null,
      "outputs": [
        {
          "output_type": "execute_result",
          "data": {
            "text/plain": [
              "(20, 24)"
            ]
          },
          "metadata": {},
          "execution_count": 56
        }
      ]
    },
    {
      "cell_type": "markdown",
      "metadata": {
        "id": "iChccLKWcqLX"
      },
      "source": [
        "**Each row corresponds to a character vector,** and there is `maxlen` number of character vectors. \n",
        "\n",
        "**Each column corresponds to a unique character,** and there are `dctk.n_features` number of features. \n"
      ]
    },
    {
      "cell_type": "code",
      "metadata": {
        "id": "IbWKVpd5cqLX",
        "outputId": "b9e4724d-633a-4ab4-9176-457fd723ca7c",
        "colab": {
          "base_uri": "https://localhost:8080/"
        }
      },
      "source": [
        "# let's index for a single character vector \n",
        "first_char_vect_index = 0\n",
        "X[first_sample_index][first_char_vect_index]"
      ],
      "execution_count": null,
      "outputs": [
        {
          "output_type": "execute_result",
          "data": {
            "text/plain": [
              "array([False,  True, False, False, False, False, False, False, False,\n",
              "       False, False, False, False, False, False, False, False, False,\n",
              "       False, False, False, False, False, False])"
            ]
          },
          "metadata": {},
          "execution_count": 57
        }
      ]
    },
    {
      "cell_type": "markdown",
      "metadata": {
        "id": "6cVGE3wtcqLX"
      },
      "source": [
        "Notice that there is a single `True` value, and all the rest of the values are `False`. \n",
        "\n",
        "This is a one-hot encoding for which character appears at each index within a sequence. Specifically, the cell above is looking at the first character in the sequence.\n",
        "\n",
        "Only a single character can appear as the first character in a sequence, so there will be a single `True` value, and the rest will be `False`. \n",
        "\n",
        "Let's say that `True` appears in the $ith$ index; by  $ith$ index we mean some index in the general case. So how can we find out which character corresponds to?\n",
        "\n",
        "To answer this question, we need to use the character-to-integer look-up dictionary. "
      ]
    },
    {
      "cell_type": "code",
      "metadata": {
        "id": "RJ8dIATxcqLX",
        "outputId": "f6a68478-f9da-446e-aff5-58ee704a16f4",
        "colab": {
          "base_uri": "https://localhost:8080/"
        }
      },
      "source": [
        "# take a look at the index to character dictionary\n",
        "# if a TRUE appears in the 0th index of a character vector,\n",
        "# then we know that whatever char you see below next to the 0th key \n",
        "# is the character that character vector is endcoding for\n",
        "dctk.int_char"
      ],
      "execution_count": null,
      "outputs": [
        {
          "output_type": "execute_result",
          "data": {
            "text/plain": [
              "{0: 'k',\n",
              " 1: 'w',\n",
              " 2: 'm',\n",
              " 3: 'e',\n",
              " 4: 'd',\n",
              " 5: 'y',\n",
              " 6: 'p',\n",
              " 7: 'i',\n",
              " 8: 'h',\n",
              " 9: 's',\n",
              " 10: 'r',\n",
              " 11: 'c',\n",
              " 12: 'u',\n",
              " 13: 'o',\n",
              " 14: 'b',\n",
              " 15: 't',\n",
              " 16: 'q',\n",
              " 17: ' ',\n",
              " 18: 'g',\n",
              " 19: 'l',\n",
              " 20: 'v',\n",
              " 21: 'f',\n",
              " 22: 'a',\n",
              " 23: 'n'}"
            ]
          },
          "metadata": {},
          "execution_count": 58
        }
      ]
    },
    {
      "cell_type": "code",
      "metadata": {
        "id": "lXy52FuHcqLY",
        "outputId": "e01afae9-49a1-4c16-a480-99a7e20452e1",
        "colab": {
          "base_uri": "https://localhost:8080/"
        }
      },
      "source": [
        "# let's look at an example to tie it all together\n",
        "\n",
        "seq_len_counter = 0\n",
        "\n",
        "# index for a single sample \n",
        "for seq_of_char_vects in X[first_sample_index]:\n",
        "    \n",
        "    # get index with max value, which will be the one TRUE value \n",
        "    index_with_TRUE_val = np.argmax(seq_of_char_vects)\n",
        "    \n",
        "    print (dctk.int_char[index_with_TRUE_val])\n",
        "    \n",
        "    seq_len_counter+=1\n",
        "    \n",
        "print (\"Sequence length: {}\".format(seq_len_counter))"
      ],
      "execution_count": null,
      "outputs": [
        {
          "output_type": "stream",
          "name": "stdout",
          "text": [
            "w\n",
            "h\n",
            "o\n",
            "s\n",
            "e\n",
            " \n",
            "f\n",
            "r\n",
            "e\n",
            "s\n",
            "h\n",
            " \n",
            "r\n",
            "e\n",
            "p\n",
            "a\n",
            "i\n",
            "r\n",
            " \n",
            "i\n",
            "Sequence length: 20\n"
          ]
        }
      ]
    },
    {
      "cell_type": "markdown",
      "metadata": {
        "id": "ufESNp0mcqLY"
      },
      "source": [
        "## Time for Questions \n",
        "\n",
        "----\n",
        "**Question 1:** \n",
        "\n",
        "In your own words, how would you describe the numbers from the shape printout of `X.shape` to a classmate?\n"
      ]
    },
    {
      "cell_type": "markdown",
      "metadata": {
        "id": "UfuBw3hHcqLY"
      },
      "source": [
        "**Answer 1:**\n",
        "It is the number of dimensions for the rows and columns"
      ]
    },
    {
      "cell_type": "markdown",
      "metadata": {
        "id": "F-H9jSq6cqLY"
      },
      "source": [
        "----\n"
      ]
    },
    {
      "cell_type": "markdown",
      "metadata": {
        "id": "N7Fo7tn5cqLY"
      },
      "source": [
        "### Build a Shakespeare Sonnet Text Generation Model\n",
        "\n",
        "Now that we have prepped our data (and understood that process), let's finally build out our character generation model, similar to what we did in the guided project.<br>\n",
        "\n",
        "First, we'll create a callback to monitor the training -- by printing a sample of text generated by the model at the end of each epoch."
      ]
    },
    {
      "cell_type": "markdown",
      "source": [
        "Helper function to generate a sample character:"
      ],
      "metadata": {
        "id": "kVc4tb1OSMMr"
      }
    },
    {
      "cell_type": "code",
      "metadata": {
        "id": "9Xgk-JomzwGX"
      },
      "source": [
        "def sample(preds, temperature=1.0):\n",
        "    \"\"\"\n",
        "    Helper function to generate a sample character\n",
        "    Input is a predictions vector from our model, for example a set of 27 character probabilities\n",
        "    Output is the index of the generated character \n",
        "    \"\"\"\n",
        "    # convert predictions to an array \n",
        "    preds = np.asarray(preds).astype('float64')\n",
        "\n",
        "    # use the temperature hyper-parameter to \"warp\" (sharpen or spread out) the probability distribution \n",
        "    preds = np.log(preds) / temperature\n",
        "\n",
        "    # use the softmax activation function to create a new list of probabilities \n",
        "    #   corresponding to the \"warped\" probability distribution\n",
        "    exp_preds = np.exp(preds)\n",
        "    preds = exp_preds / np.sum(exp_preds)\n",
        "\n",
        "    # Draw a single sample from a multinomial distribution, given these probabilities\n",
        "    #   The sample will be a one-hot encoded character\n",
        "    \"\"\" Notes on the np.random.multinomial() function \n",
        "       The first argument is the number of \"trials\" we want: 1 in this case\n",
        "       The second argument is the list of probabilities for each character\n",
        "       The third argument is number of sets of \"trials\" we want: again, 1 in this case\n",
        "       By analogy with a dice-rolling experiment: \n",
        "          This \"trial\" consists of generating a single \"throw\" of a die with 27 faces;\n",
        "             each face corresponds to a character and its associated probability\n",
        "    \"\"\"\n",
        "\n",
        "    probas = np.random.multinomial(1, preds, 1)\n",
        "    \n",
        "    # return the index that corresponds to the max probability \n",
        "    return np.argmax(probas)\n"
      ],
      "execution_count": null,
      "outputs": []
    },
    {
      "cell_type": "markdown",
      "metadata": {
        "id": "HPhu860ZEd3g"
      },
      "source": [
        "Create the `on_epoch_end` function to be passed into `LambdaCallback()`"
      ]
    },
    {
      "cell_type": "code",
      "metadata": {
        "id": "o9cBsweJcqLY"
      },
      "source": [
        "def on_epoch_end(epoch, _):\n",
        "    \"\"\"\"\n",
        "    Function invoked at the end of each epoch. Prints the text generated by our model.\n",
        "    \"\"\"\n",
        "    \n",
        "    print()\n",
        "    print('----- Generating text after Epoch: %d' % epoch)\n",
        "    \n",
        "\n",
        "    # randomly pick a starting index \n",
        "    # will be used to take a random sequence of chars from `text`\n",
        "    start_index = random.randint(0, len(text) - dctk.maxlen - 1)\n",
        "    \n",
        "    # this is our seed string (i.e. input seqeunece into the model)\n",
        "    generated = ''\n",
        "\n",
        "    # start the sentence at index `start_index` and include the next` dctk.maxlen` number of chars\n",
        "    sentence = text[start_index: start_index + dctk.maxlen]\n",
        "\n",
        "    # add to generated\n",
        "    generated += sentence\n",
        "\n",
        "    \n",
        "    print('----- Generating with seed: \"' + sentence + '\"')\n",
        "    sys.stdout.write(generated)\n",
        "    \n",
        "    # use model to predict what the next maxlen chars should be that follow the seed string\n",
        "    for i in range(maxlen):\n",
        "\n",
        "        # shape of a single sample in a rank 3 tensor \n",
        "        x_dims = (1, dctk.maxlen, dctk.n_features)\n",
        "        # create an array of zeros with shape x_dims\n",
        "        # recall that python considers zeros and boolean FALSE as the same\n",
        "        x_pred = np.zeros(x_dims)\n",
        "\n",
        "        # create a seq vector for our randomly select sequence \n",
        "        # i.e. create a numerical encoding for each char in the sequence \n",
        "        for t, char in enumerate(sentence):\n",
        "            # for sample 0 in seq index t and character `char` encode a 1 (which is the same as a TRUE)\n",
        "            x_pred[0, t, dctk.char_int[char]] = 1\n",
        "\n",
        "        # next, take the seq vector and pass into model to get a prediction of what the next char should be \n",
        "        preds = model.predict(x_pred, verbose=0)[0]\n",
        "        # use the sample helper function to get index for next char \n",
        "        next_index = sample(preds)\n",
        "        # use look up dict to get next char \n",
        "        next_char = dctk.int_char[next_index]\n",
        "\n",
        "        # append next char to sequence \n",
        "        sentence = sentence[1:] + next_char \n",
        "        \n",
        "        sys.stdout.write(next_char)\n",
        "        sys.stdout.flush()\n",
        "    print()"
      ],
      "execution_count": null,
      "outputs": []
    },
    {
      "cell_type": "code",
      "metadata": {
        "id": "s6xJijWAcqLZ",
        "outputId": "cff41e8f-e9eb-4893-e8d1-369fdf9e0f43",
        "colab": {
          "base_uri": "https://localhost:8080/"
        }
      },
      "source": [
        "# need this for on_epoch_end()\n",
        "text = \" \".join(clean_sonnets)\n",
        "print(f'All of Shakespeare\\'s sonnets comprise about {len(text)} characters')"
      ],
      "execution_count": null,
      "outputs": [
        {
          "output_type": "stream",
          "name": "stdout",
          "text": [
            "All of Shakespeare's sonnets comprise about 987 characters\n"
          ]
        }
      ]
    },
    {
      "cell_type": "markdown",
      "source": [
        "Create the callback object"
      ],
      "metadata": {
        "id": "91FywCwoUzn0"
      }
    },
    {
      "cell_type": "code",
      "metadata": {
        "id": "TKDdNLhBcqLZ"
      },
      "source": [
        "# create callback object that will print out text generation at the end of each epoch \n",
        "# use for real-time monitoring of model performance\n",
        "print_callback = LambdaCallback(on_epoch_end=on_epoch_end)"
      ],
      "execution_count": null,
      "outputs": []
    },
    {
      "cell_type": "markdown",
      "metadata": {
        "id": "0Cq75YmTcqLZ"
      },
      "source": [
        "----\n",
        "### Build and Train Model\n",
        "\n",
        "Build a text generation model using LSTMs. Feel free to reference the model used in the guided project. \n",
        "\n",
        "It is recommended that you train this model to at least 50 epochs (but more if you're computer can handle it). \n",
        "\n",
        "You are free to change up the architecture as you wish. \n",
        "\n",
        "Just in case you have difficultly training a model, there is a pre-trained model saved to a file called `trained_text_gen_model.h5` that you can load (in the same way that you learned how to load in Keras models in Sprint 2 Module 4). "
      ]
    },
    {
      "cell_type": "code",
      "metadata": {
        "deletable": false,
        "nbgrader": {
          "cell_type": "code",
          "checksum": "e17312b57e17284124ce562dff81b00d",
          "grade": false,
          "grade_id": "cell-f34be90367fd9071",
          "locked": false,
          "schema_version": 3,
          "solution": true,
          "task": false
        },
        "id": "3JLmhL36cqLZ",
        "outputId": "0f685d2d-7a58-484d-948c-053cebc41447",
        "colab": {
          "base_uri": "https://localhost:8080/"
        }
      },
      "source": [
        "# build text generation model layer by layer \n",
        "# fit model\n",
        "from tensorflow.keras.optimizers import Adam\n",
        "opt = Adam(learning_rate=0.001)\n",
        "\n",
        "model = Sequential()\n",
        "\n",
        "# hidden layer 1 \n",
        "model.add(LSTM(128, \n",
        "               input_shape=(dctk.maxlen, dctk.n_features), # input_shape is (20,27)\n",
        "               return_sequences=False)) # whenever using 2 or more LSTM layers, set return_sequences= True for all but the last LSTM layer\n",
        "\n",
        "# this is our output layer\n",
        "# recall that n_features = number of characters in the dictionary = 27\n",
        "model.add(Dense(dctk.n_features, \n",
        "                activation='softmax'))\n",
        "\n",
        "# notice that we are using categorical_crossentropy this time around - why?\n",
        "model.compile(loss='categorical_crossentropy', \n",
        "              optimizer=opt)\n",
        "\n",
        "# fit the model\n",
        "# X and y are pretty large, consider sub-sampling\n",
        "model.fit(X, y,\n",
        "          batch_size=128,\n",
        "          epochs=50,\n",
        "          callbacks=[print_callback])\n",
        "# YOUR CODE HERE\n",
        "#raise NotImplementedError()"
      ],
      "execution_count": null,
      "outputs": [
        {
          "output_type": "stream",
          "name": "stdout",
          "text": [
            "Epoch 1/50\n",
            "1/2 [==============>...............] - ETA: 2s - loss: 3.1764\n",
            "----- Generating text after Epoch: 0\n",
            "----- Generating with seed: \"hy golden time but i\"\n",
            "hy golden time but iyvoghyr\n",
            "2/2 [==============================] - 3s 872ms/step - loss: 3.1744\n",
            "Epoch 2/50\n",
            "1/2 [==============>...............] - ETA: 0s - loss: 3.1517\n",
            "----- Generating text after Epoch: 1\n",
            "----- Generating with seed: \"hyself alone thou of\"\n",
            "hyself alone thou ofholvdpb\n",
            "2/2 [==============================] - 1s 421ms/step - loss: 3.1482\n",
            "Epoch 3/50\n",
            "1/2 [==============>...............] - ETA: 0s - loss: 3.1232\n",
            "----- Generating text after Epoch: 2\n",
            "----- Generating with seed: \" then how when natur\"\n",
            " then how when naturlnnn ki\n",
            "2/2 [==============================] - 0s 413ms/step - loss: 3.1209\n",
            "Epoch 4/50\n",
            "1/2 [==============>...............] - ETA: 0s - loss: 3.0966\n",
            "----- Generating text after Epoch: 3\n",
            "----- Generating with seed: \" thou abuse the boun\"\n",
            " thou abuse the bounepaeiof\n",
            "2/2 [==============================] - 0s 417ms/step - loss: 3.0849\n",
            "Epoch 5/50\n",
            "1/2 [==============>...............] - ETA: 0s - loss: 3.0359\n",
            "----- Generating text after Epoch: 4\n",
            "----- Generating with seed: \"es nothing but doth \"\n",
            "es nothing but doth o pyrko\n",
            "2/2 [==============================] - 0s 399ms/step - loss: 3.0334\n",
            "Epoch 6/50\n",
            "1/2 [==============>...............] - ETA: 0s - loss: 2.9602\n",
            "----- Generating text after Epoch: 5\n",
            "----- Generating with seed: \" if thou live rememb\"\n",
            " if thou live remembn  rafg\n",
            "2/2 [==============================] - 0s 431ms/step - loss: 2.9414\n",
            "Epoch 7/50\n",
            "1/2 [==============>...............] - ETA: 0s - loss: 2.8243\n",
            "----- Generating text after Epoch: 6\n",
            "----- Generating with seed: \"e what acceptable au\"\n",
            "e what acceptable aueaeisef\n",
            "2/2 [==============================] - 0s 406ms/step - loss: 2.8315\n",
            "Epoch 8/50\n",
            "1/2 [==============>...............] - ETA: 0s - loss: 2.8719\n",
            "----- Generating text after Epoch: 7\n",
            "----- Generating with seed: \"ve profitless usurer\"\n",
            "ve profitless usurerl ecs a\n",
            "2/2 [==============================] - 0s 410ms/step - loss: 2.8243\n",
            "Epoch 9/50\n",
            "1/2 [==============>...............] - ETA: 0s - loss: 2.7490\n",
            "----- Generating text after Epoch: 8\n",
            "----- Generating with seed: \" thy sweet self dost\"\n",
            " thy sweet self dostasd e l\n",
            "2/2 [==============================] - 0s 402ms/step - loss: 2.7635\n",
            "Epoch 10/50\n",
            "1/2 [==============>...............] - ETA: 0s - loss: 2.7167\n",
            "----- Generating text after Epoch: 9\n",
            "----- Generating with seed: \" doth lend and being\"\n",
            " doth lend and beingesetsti\n",
            "2/2 [==============================] - 0s 379ms/step - loss: 2.7294\n",
            "Epoch 11/50\n",
            "1/2 [==============>...............] - ETA: 0s - loss: 2.7688\n",
            "----- Generating text after Epoch: 10\n",
            "----- Generating with seed: \" sum of sums yet can\"\n",
            " sum of sums yet canfebee f\n",
            "2/2 [==============================] - 0s 410ms/step - loss: 2.7345\n",
            "Epoch 12/50\n",
            "1/2 [==============>...............] - ETA: 0s - loss: 2.7108\n",
            "----- Generating text after Epoch: 11\n",
            "----- Generating with seed: \" posterity thou art \"\n",
            " posterity thou art td awyc\n",
            "2/2 [==============================] - 0s 397ms/step - loss: 2.7297\n",
            "Epoch 13/50\n",
            "1/2 [==============>...............] - ETA: 0s - loss: 2.7237\n",
            "----- Generating text after Epoch: 12\n",
            "----- Generating with seed: \"eliness why dost tho\"\n",
            "eliness why dost thoahwheeu\n",
            "2/2 [==============================] - 0s 404ms/step - loss: 2.7183\n",
            "Epoch 14/50\n",
            "1/2 [==============>...............] - ETA: 0s - loss: 2.6568\n",
            "----- Generating text after Epoch: 13\n",
            "----- Generating with seed: \"b disdains the tilla\"\n",
            "b disdains the tilladiros w\n",
            "2/2 [==============================] - 0s 403ms/step - loss: 2.7054\n",
            "Epoch 15/50\n",
            "1/2 [==============>...............] - ETA: 0s - loss: 2.7219\n",
            "----- Generating text after Epoch: 14\n",
            "----- Generating with seed: \"en beauteous niggard\"\n",
            "en beauteous niggardoetdovo\n",
            "2/2 [==============================] - 0s 435ms/step - loss: 2.6962\n",
            "Epoch 16/50\n",
            "1/2 [==============>...............] - ETA: 0s - loss: 2.7568\n",
            "----- Generating text after Epoch: 15\n",
            "----- Generating with seed: \"er prime so thou thr\"\n",
            "er prime so thou thries tra\n",
            "2/2 [==============================] - 0s 404ms/step - loss: 2.6936\n",
            "Epoch 17/50\n",
            "1/2 [==============>...............] - ETA: 0s - loss: 2.6871\n",
            "----- Generating text after Epoch: 16\n",
            "----- Generating with seed: \"et self dost deceive\"\n",
            "et self dost deceive idy se\n",
            "2/2 [==============================] - 1s 445ms/step - loss: 2.6893\n",
            "Epoch 18/50\n",
            "1/2 [==============>...............] - ETA: 0s - loss: 2.6603\n",
            "----- Generating text after Epoch: 17\n",
            "----- Generating with seed: \"u use so great a sum\"\n",
            "u use so great a sum tgeso \n",
            "2/2 [==============================] - 0s 407ms/step - loss: 2.6805\n",
            "Epoch 19/50\n",
            "1/2 [==============>...............] - ETA: 0s - loss: 2.6846\n",
            "----- Generating text after Epoch: 18\n",
            "----- Generating with seed: \"u abuse the bounteou\"\n",
            "u abuse the bounteouuai uli\n",
            "2/2 [==============================] - 0s 416ms/step - loss: 2.6730\n",
            "Epoch 20/50\n",
            "1/2 [==============>...............] - ETA: 0s - loss: 2.7257\n",
            "----- Generating text after Epoch: 19\n",
            "----- Generating with seed: \"gle and thine image \"\n",
            "gle and thine image sen euo\n",
            "2/2 [==============================] - 0s 423ms/step - loss: 2.6700\n",
            "Epoch 21/50\n",
            "1/2 [==============>...............] - ETA: 0s - loss: 2.6895\n",
            "----- Generating text after Epoch: 20\n",
            "----- Generating with seed: \"cy natures bequest g\"\n",
            "cy natures bequest glt bhiy\n",
            "2/2 [==============================] - 0s 427ms/step - loss: 2.6643\n",
            "Epoch 22/50\n",
            "1/2 [==============>...............] - ETA: 0s - loss: 2.6507\n",
            "----- Generating text after Epoch: 21\n",
            "----- Generating with seed: \"f dost deceive then \"\n",
            "f dost deceive then  ieiiov\n",
            "2/2 [==============================] - 0s 408ms/step - loss: 2.6572\n",
            "Epoch 23/50\n",
            "1/2 [==============>...............] - ETA: 0s - loss: 2.7115\n",
            "----- Generating text after Epoch: 22\n",
            "----- Generating with seed: \"t thy mothers glass \"\n",
            "t thy mothers glass ouog lc\n",
            "2/2 [==============================] - 0s 404ms/step - loss: 2.6525\n",
            "Epoch 24/50\n",
            "1/2 [==============>...............] - ETA: 0s - loss: 2.6442\n",
            "----- Generating text after Epoch: 23\n",
            "----- Generating with seed: \"ptable audit canst t\"\n",
            "ptable audit canst to to fu\n",
            "2/2 [==============================] - 1s 451ms/step - loss: 2.6474\n",
            "Epoch 25/50\n",
            "1/2 [==============>...............] - ETA: 0s - loss: 2.6684\n",
            "----- Generating text after Epoch: 24\n",
            "----- Generating with seed: \"pair if now thou not\"\n",
            "pair if now thou notiwhsene\n",
            "2/2 [==============================] - 0s 421ms/step - loss: 2.6408\n",
            "Epoch 26/50\n",
            "1/2 [==============>...............] - ETA: 0s - loss: 2.6454\n",
            "----- Generating text after Epoch: 25\n",
            "----- Generating with seed: \" now thou not renewe\"\n",
            " now thou not reneweterieto\n",
            "2/2 [==============================] - 0s 390ms/step - loss: 2.6326\n",
            "Epoch 27/50\n",
            "1/2 [==============>...............] - ETA: 0s - loss: 2.6036\n",
            "----- Generating text after Epoch: 26\n",
            "----- Generating with seed: \" profitless usurer w\"\n",
            " profitless usurer w sutsew\n",
            "2/2 [==============================] - 0s 398ms/step - loss: 2.6265\n",
            "Epoch 28/50\n",
            "1/2 [==============>...............] - ETA: 0s - loss: 2.6080\n",
            "----- Generating text after Epoch: 27\n",
            "----- Generating with seed: \"ome mother for where\"\n",
            "ome mother for where oe dha\n",
            "2/2 [==============================] - 0s 429ms/step - loss: 2.6183\n",
            "Epoch 29/50\n",
            "1/2 [==============>...............] - ETA: 0s - loss: 2.6179\n",
            "----- Generating text after Epoch: 28\n",
            "----- Generating with seed: \"whose uneard womb di\"\n",
            "whose uneard womb dinra tu \n",
            "2/2 [==============================] - 0s 395ms/step - loss: 2.6105\n",
            "Epoch 30/50\n",
            "1/2 [==============>...............] - ETA: 0s - loss: 2.6673\n",
            "----- Generating text after Epoch: 29\n",
            "----- Generating with seed: \" beautys legacy natu\"\n",
            " beautys legacy natutthhosl\n",
            "2/2 [==============================] - 0s 424ms/step - loss: 2.5943\n",
            "Epoch 31/50\n",
            "1/2 [==============>...............] - ETA: 0s - loss: 2.5690\n",
            "----- Generating text after Epoch: 30\n",
            "----- Generating with seed: \"dry or who is he so \"\n",
            "dry or who is he so sdrql y\n",
            "2/2 [==============================] - 0s 392ms/step - loss: 2.5835\n",
            "Epoch 32/50\n",
            "1/2 [==============>...............] - ETA: 0s - loss: 2.5664\n",
            "----- Generating text after Epoch: 31\n",
            "----- Generating with seed: \" disdains the tillag\"\n",
            " disdains the tillagt erhl \n",
            "2/2 [==============================] - 0s 428ms/step - loss: 2.5723\n",
            "Epoch 33/50\n",
            "1/2 [==============>...............] - ETA: 0s - loss: 2.5958\n",
            "----- Generating text after Epoch: 32\n",
            "----- Generating with seed: \"ers glass and she in\"\n",
            "ers glass and she iner  d  \n",
            "2/2 [==============================] - 1s 608ms/step - loss: 2.5564\n",
            "Epoch 34/50\n",
            "1/2 [==============>...............] - ETA: 0s - loss: 2.5061\n",
            "----- Generating text after Epoch: 33\n",
            "----- Generating with seed: \"in thee calls back t\"\n",
            "in thee calls back te iowll\n",
            "2/2 [==============================] - 0s 417ms/step - loss: 2.5346\n",
            "Epoch 35/50\n",
            "1/2 [==============>...............] - ETA: 0s - loss: 2.5675\n",
            "----- Generating text after Epoch: 34\n",
            "----- Generating with seed: \"will be the tomb of \"\n",
            "will be the tomb of ee gnoi\n",
            "2/2 [==============================] - 0s 418ms/step - loss: 2.5130\n",
            "Epoch 36/50\n",
            "1/2 [==============>...............] - ETA: 0s - loss: 2.3539\n",
            "----- Generating text after Epoch: 35\n",
            "----- Generating with seed: \"pair if now thou not\"\n",
            "pair if now thou not in ghe\n",
            "2/2 [==============================] - 0s 425ms/step - loss: 2.4966\n",
            "Epoch 37/50\n",
            "1/2 [==============>...............] - ETA: 0s - loss: 2.4360\n",
            "----- Generating text after Epoch: 36\n",
            "----- Generating with seed: \" dost beguile the wo\"\n",
            " dost beguile the wosh oi h\n",
            "2/2 [==============================] - 0s 407ms/step - loss: 2.4770\n",
            "Epoch 38/50\n",
            "1/2 [==============>...............] - ETA: 0s - loss: 2.4573\n",
            "----- Generating text after Epoch: 37\n",
            "----- Generating with seed: \"hen how when nature \"\n",
            "hen how when nature tell  v\n",
            "2/2 [==============================] - 0s 408ms/step - loss: 2.4414\n",
            "Epoch 39/50\n",
            "1/2 [==============>...............] - ETA: 0s - loss: 2.4355\n",
            "----- Generating text after Epoch: 38\n",
            "----- Generating with seed: \"nd will be the tomb \"\n",
            "nd will be the tomb  nedt h\n",
            "2/2 [==============================] - 0s 385ms/step - loss: 2.4269\n",
            "Epoch 40/50\n",
            "1/2 [==============>...............] - ETA: 0s - loss: 2.3234\n",
            "----- Generating text after Epoch: 39\n",
            "----- Generating with seed: \"hrough windows of th\"\n",
            "hrough windows of thosneso \n",
            "2/2 [==============================] - 0s 415ms/step - loss: 2.3840\n",
            "Epoch 41/50\n",
            "1/2 [==============>...............] - ETA: 0s - loss: 2.4025\n",
            "----- Generating text after Epoch: 40\n",
            "----- Generating with seed: \"eive then how when n\"\n",
            "eive then how when n  n i s\n",
            "2/2 [==============================] - 0s 400ms/step - loss: 2.4129\n",
            "Epoch 42/50\n",
            "1/2 [==============>...............] - ETA: 0s - loss: 2.2951\n",
            "----- Generating text after Epoch: 41\n",
            "----- Generating with seed: \"e of thy husbandry o\"\n",
            "e of thy husbandry oovolb  \n",
            "2/2 [==============================] - 0s 436ms/step - loss: 2.3260\n",
            "Epoch 43/50\n",
            "1/2 [==============>...............] - ETA: 0s - loss: 2.3676\n",
            "----- Generating text after Epoch: 42\n",
            "----- Generating with seed: \"beguile the world un\"\n",
            "beguile the world unautgeos\n",
            "2/2 [==============================] - 0s 411ms/step - loss: 2.3636\n",
            "Epoch 44/50\n",
            "1/2 [==============>...............] - ETA: 0s - loss: 2.2673\n",
            "----- Generating text after Epoch: 43\n",
            "----- Generating with seed: \"ther for where is sh\"\n",
            "ther for where is sh osrodd\n",
            "2/2 [==============================] - 0s 408ms/step - loss: 2.2914\n",
            "Epoch 45/50\n",
            "1/2 [==============>...............] - ETA: 0s - loss: 2.1217\n",
            "----- Generating text after Epoch: 44\n",
            "----- Generating with seed: \"ou art thy mothers g\"\n",
            "ou art thy mothers gae aaee\n",
            "2/2 [==============================] - 1s 449ms/step - loss: 2.2748\n",
            "Epoch 46/50\n",
            "1/2 [==============>...............] - ETA: 0s - loss: 2.3401\n",
            "----- Generating text after Epoch: 45\n",
            "----- Generating with seed: \"ity thou art thy mot\"\n",
            "ity thou art thy motaatee  \n",
            "2/2 [==============================] - 0s 418ms/step - loss: 2.3037\n",
            "Epoch 47/50\n",
            "1/2 [==============>...............] - ETA: 0s - loss: 2.3115\n",
            "----- Generating text after Epoch: 46\n",
            "----- Generating with seed: \"calls thee to be gon\"\n",
            "calls thee to be gonosirelo\n",
            "2/2 [==============================] - 0s 400ms/step - loss: 2.2188\n",
            "Epoch 48/50\n",
            "1/2 [==============>...............] - ETA: 0s - loss: 2.2679\n",
            "----- Generating text after Epoch: 47\n",
            "----- Generating with seed: \"t a sum of sums yet \"\n",
            "t a sum of sums yet  ioe si\n",
            "2/2 [==============================] - 0s 401ms/step - loss: 2.2510\n",
            "Epoch 49/50\n",
            "1/2 [==============>...............] - ETA: 0s - loss: 2.1751\n",
            "----- Generating text after Epoch: 48\n",
            "----- Generating with seed: \" traffic with thysel\"\n",
            " traffic with thyseloe sese\n",
            "2/2 [==============================] - 0s 404ms/step - loss: 2.1597\n",
            "Epoch 50/50\n",
            "1/2 [==============>...............] - ETA: 0s - loss: 2.1577\n",
            "----- Generating text after Epoch: 49\n",
            "----- Generating with seed: \"dows of thine age sh\"\n",
            "dows of thine age shsflh h \n",
            "2/2 [==============================] - 0s 417ms/step - loss: 2.1392\n"
          ]
        },
        {
          "output_type": "execute_result",
          "data": {
            "text/plain": [
              "<keras.callbacks.History at 0x7fe9edca4700>"
            ]
          },
          "metadata": {},
          "execution_count": 64
        }
      ]
    },
    {
      "cell_type": "markdown",
      "metadata": {
        "id": "94I0bGvfJQ0a"
      },
      "source": [
        "### Save the trained model to a file"
      ]
    },
    {
      "cell_type": "code",
      "metadata": {
        "id": "4amWje1ncqLZ"
      },
      "source": [
        "# save trained model to file \n",
        "model.save(\"trained_text_gen_model.h5\")"
      ],
      "execution_count": null,
      "outputs": []
    },
    {
      "cell_type": "markdown",
      "metadata": {
        "id": "xWWRV1VJcqLa"
      },
      "source": [
        "### Let's Play With Our Trained Model \n",
        "\n",
        "Now that we have a trained model that, though far from perfect, can generate actual English words, we can look at the predictions to continue learning more about how a text generation model works.\n",
        "\n",
        "We can also take this as an opportunity to unpack the `def on_epoch_end` function to understand better how it works. "
      ]
    },
    {
      "cell_type": "code",
      "metadata": {
        "id": "gktQ5JQqcqLa",
        "outputId": "1283ed18-d0d9-4330-8737-2b29e8a2d188",
        "colab": {
          "base_uri": "https://localhost:8080/",
          "height": 108
        }
      },
      "source": [
        "# this is our joined clean sonnet data\n",
        "text"
      ],
      "execution_count": null,
      "outputs": [
        {
          "output_type": "execute_result",
          "data": {
            "text/plain": [
              "'whose fresh repair if now thou not renewest thou dost beguile the world unbless some mother for where is she so fair whose uneard womb disdains the tillage of thy husbandry or who is he so fond will be the tomb of his selflove to stop posterity thou art thy mothers glass and she in thee calls back the lovely april of her prime so thou through windows of thine age shalt see despite of wrinkles this thy golden time but if thou live rememberd not to be die single and thine image dies with thee  iv  unthrifty loveliness why dost thou spend upon thyself thy beautys legacy natures bequest gives nothing but doth lend and being frank she lends to those are free then beauteous niggard why dost thou abuse the bounteous largess given thee to give profitless usurer why dost thou use so great a sum of sums yet canst not live for having traffic with thyself alone thou of thyself thy sweet self dost deceive then how when nature calls thee to be gone what acceptable audit canst thou leave'"
            ],
            "application/vnd.google.colaboratory.intrinsic+json": {
              "type": "string"
            }
          },
          "metadata": {},
          "execution_count": 66
        }
      ]
    },
    {
      "cell_type": "code",
      "metadata": {
        "id": "kSGHFS4QcqLa",
        "outputId": "c31a646c-5e43-416d-c706-e47ff1189418",
        "colab": {
          "base_uri": "https://localhost:8080/"
        }
      },
      "source": [
        "# randomly pick a starting index \n",
        "# will be used to take a random sequence of chars from `text`\n",
        "# run this cell a few times and you'll see `start_index` is random\n",
        "start_index = random.randint(0, len(text) - dctk.maxlen - 1)\n",
        "start_index"
      ],
      "execution_count": null,
      "outputs": [
        {
          "output_type": "execute_result",
          "data": {
            "text/plain": [
              "904"
            ]
          },
          "metadata": {},
          "execution_count": 67
        }
      ]
    },
    {
      "cell_type": "code",
      "metadata": {
        "id": "2ak7epOKcqLa"
      },
      "source": [
        "# next use the randomly selected starting index to sample a sequence from the `text`\n",
        "\n",
        "# this is our seed string (i.e., input sequence into the model)\n",
        "generated = ''\n",
        "\n",
        "# start the sentence at index `start_index` and include the next` dctk.maxlen` number of chars\n",
        "sentence = text[start_index: start_index + dctk.maxlen]\n",
        "\n",
        "# add to generated\n",
        "generated += sentence"
      ],
      "execution_count": null,
      "outputs": []
    },
    {
      "cell_type": "code",
      "metadata": {
        "id": "QfbUcUBXcqLa",
        "outputId": "b48eb974-96a6-4ddb-b67c-3f414d0daed4",
        "colab": {
          "base_uri": "https://localhost:8080/"
        }
      },
      "source": [
        "# display the \"seed string\" i.e. the input sequence into the model\n",
        "print('----- Input seed: \"' + sentence + '\"')"
      ],
      "execution_count": null,
      "outputs": [
        {
          "output_type": "stream",
          "name": "stdout",
          "text": [
            "----- Input seed: \"e then how when natu\"\n"
          ]
        }
      ]
    },
    {
      "cell_type": "code",
      "metadata": {
        "id": "6nop-G7CcqLa"
      },
      "source": [
        "# use model to predict what the next maxlen chars should be that follow the seed string\n",
        "for i in range(maxlen):\n",
        "\n",
        "    # shape of a single sample in a rank 3 tensor \n",
        "    x_dims = (1, dctk.maxlen, dctk.n_features)\n",
        "    # create an array of zeros with shape x_dims\n",
        "    # recall that python considers zeros and boolean FALSE as the same\n",
        "    x_pred = np.zeros(x_dims)\n",
        "\n",
        "    # create a seq vector for our randomly select sequence \n",
        "    # i.e. create a numerical encoding for each char in the sequence \n",
        "    for t, char in enumerate(sentence):\n",
        "        # for sample 0 in seq index t and character `char` encode a 1 (which is the same as a TRUE)\n",
        "        x_pred[0, t, dctk.char_int[char]] = 1\n",
        "\n",
        "    # next, take the seq vector and pass into model to get a prediction of what the next char should be \n",
        "    preds = model.predict(x_pred, verbose=0)[0]\n",
        "    # use the sample helper function to get index for next char \n",
        "    next_index = sample(preds)\n",
        "    # use look up dict to get next char \n",
        "    next_char = dctk.int_char[next_index]\n",
        "\n",
        "    # append next char to sequence \n",
        "    sentence = sentence[1:] + next_char "
      ],
      "execution_count": null,
      "outputs": []
    },
    {
      "cell_type": "code",
      "metadata": {
        "id": "wX9daz2rcqLb",
        "outputId": "3e81c5cd-1ac4-4409-bd61-7c9b913a7f6a",
        "colab": {
          "base_uri": "https://localhost:8080/",
          "height": 36
        }
      },
      "source": [
        "# this is the seed string\n",
        "generated"
      ],
      "execution_count": null,
      "outputs": [
        {
          "output_type": "execute_result",
          "data": {
            "text/plain": [
              "'e then how when natu'"
            ],
            "application/vnd.google.colaboratory.intrinsic+json": {
              "type": "string"
            }
          },
          "metadata": {},
          "execution_count": 71
        }
      ]
    },
    {
      "cell_type": "code",
      "metadata": {
        "id": "a3jnYVwccqLb",
        "outputId": "9214816b-3c04-408e-bae6-05f93d96e55e",
        "colab": {
          "base_uri": "https://localhost:8080/",
          "height": 36
        }
      },
      "source": [
        "# these are the maxlen chars that the model thinks should come after the seed stirng\n",
        "sentence"
      ],
      "execution_count": null,
      "outputs": [
        {
          "output_type": "execute_result",
          "data": {
            "text/plain": [
              "'how when natuseesetr'"
            ],
            "application/vnd.google.colaboratory.intrinsic+json": {
              "type": "string"
            }
          },
          "metadata": {},
          "execution_count": 72
        }
      ]
    },
    {
      "cell_type": "code",
      "metadata": {
        "id": "O1aqFH4BcqLb",
        "outputId": "29b39a04-ddeb-46e9-ec3d-d0ef1a9d2ad6",
        "colab": {
          "base_uri": "https://localhost:8080/",
          "height": 36
        }
      },
      "source": [
        "# how put it all together\n",
        "generated + sentence"
      ],
      "execution_count": null,
      "outputs": [
        {
          "output_type": "execute_result",
          "data": {
            "text/plain": [
              "'e then how when natuhow when natuseesetr'"
            ],
            "application/vnd.google.colaboratory.intrinsic+json": {
              "type": "string"
            }
          },
          "metadata": {},
          "execution_count": 73
        }
      ]
    },
    {
      "cell_type": "markdown",
      "metadata": {
        "id": "zE4a4O7Bp5x1"
      },
      "source": [
        "# Resources and Stretch Goals"
      ]
    },
    {
      "cell_type": "markdown",
      "metadata": {
        "id": "uT3UV3gap9H6"
      },
      "source": [
        "## Stretch Goals:\n",
        "- Refine the training and generation of text to be able to ask for different genres/styles of Shakespearean text (e.g., plays versus sonnets)\n",
        "- Train a classification model that takes text and returns which work of Shakespeare it is most likely to be from\n",
        "- Make it more performant! Many possible routes here - lean on Keras, optimize the code, and/or use more resources (AWS, etc.)\n",
        "- Revisit the news example from class, and improve it - use categories or tags to refine the model/generation, or train a news classifier\n",
        "- Run on bigger, better data\n",
        "\n",
        "## Resources:\n",
        "- [The Unreasonable Effectiveness of Recurrent Neural Networks](https://karpathy.github.io/2015/05/21/rnn-effectiveness/) - a seminal writeup demonstrating a simple but effective character-level NLP RNN\n",
        "- [Simple NumPy implementation of RNN](https://github.com/JY-Yoon/RNN-Implementation-using-NumPy/blob/master/RNN%20Implementation%20using%20NumPy.ipynb) - Python 3 version of the code from \"Unreasonable Effectiveness\"\n",
        "- [TensorFlow RNN Tutorial](https://www.tensorflow.org/text/tutorials/text_generation) - code for training an RNN on the Penn Tree Bank language dataset\n",
        "- [4 part tutorial on RNN](http://www.wildml.com/2015/09/recurrent-neural-networks-tutorial-part-1-introduction-to-rnns/) - relates RNN to the vanishing gradient problem and provides an example implementation\n",
        "- [RNN training tips and tricks](https://github.com/karpathy/char-rnn#tips-and-tricks) - some rules of thumb for parameterizing and training your RNN"
      ]
    },
    {
      "cell_type": "code",
      "metadata": {
        "id": "EyGlTC_8Z4Ea"
      },
      "source": [],
      "execution_count": null,
      "outputs": []
    }
  ]
}